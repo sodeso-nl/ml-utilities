{
 "cells": [
  {
   "cell_type": "code",
   "execution_count": 283,
   "metadata": {
    "collapsed": true,
    "ExecuteTime": {
     "end_time": "2023-05-24T09:51:18.320563Z",
     "start_time": "2023-05-24T09:51:17.919513Z"
    }
   },
   "outputs": [
    {
     "name": "stdout",
     "output_type": "stream",
     "text": [
      "The autoreload extension is already loaded. To reload it, use:\n",
      "  %reload_ext autoreload\n"
     ]
    }
   ],
   "source": [
    "import keras\n",
    "%load_ext autoreload\n",
    "%autoreload 2\n",
    "%matplotlib inline\n",
    "\n",
    "import tensorflow as tf\n",
    "\n",
    "import ml_layer as mll\n",
    "\n",
    "from keras import Sequential, Model\n",
    "from keras.optimizers import Adam\n",
    "from keras.layers import Dense, RandomZoom, RandomHeight, RandomWidth, RandomRotation, Input, GlobalAveragePooling2D\n",
    "from keras.losses import categorical_crossentropy"
   ]
  },
  {
   "cell_type": "code",
   "execution_count": 284,
   "outputs": [],
   "source": [
    "# Create the EfficientNetV2B0 base model\n",
    "base_model = tf.keras.applications.efficientnet_v2.EfficientNetV2B0(include_top=False)\n",
    "\n",
    "# Disable training completely\n",
    "base_model.trainable = False"
   ],
   "metadata": {
    "collapsed": false,
    "ExecuteTime": {
     "end_time": "2023-05-24T09:51:19.133792Z",
     "start_time": "2023-05-24T09:51:18.286002Z"
    }
   }
  },
  {
   "cell_type": "code",
   "execution_count": 285,
   "outputs": [],
   "source": [
    "# Create data augmentation stage\n",
    "data_augmentation = Sequential([\n",
    "    RandomZoom(.2),\n",
    "    RandomHeight(.2),\n",
    "    RandomWidth(.2),\n",
    "    RandomRotation(.2)\n",
    "])"
   ],
   "metadata": {
    "collapsed": false,
    "ExecuteTime": {
     "end_time": "2023-05-24T09:51:19.183493Z",
     "start_time": "2023-05-24T09:51:19.134686Z"
    }
   }
  },
  {
   "cell_type": "code",
   "execution_count": 286,
   "outputs": [
    {
     "name": "stdout",
     "output_type": "stream",
     "text": [
      "WARNING:tensorflow:Using a while_loop for converting RngReadAndSkip cause there is no registered converter for this op.\n"
     ]
    },
    {
     "name": "stderr",
     "output_type": "stream",
     "text": [
      "WARNING:tensorflow:Using a while_loop for converting RngReadAndSkip cause there is no registered converter for this op.\n"
     ]
    },
    {
     "name": "stdout",
     "output_type": "stream",
     "text": [
      "WARNING:tensorflow:Using a while_loop for converting Bitcast cause there is no registered converter for this op.\n"
     ]
    },
    {
     "name": "stderr",
     "output_type": "stream",
     "text": [
      "WARNING:tensorflow:Using a while_loop for converting Bitcast cause there is no registered converter for this op.\n"
     ]
    },
    {
     "name": "stdout",
     "output_type": "stream",
     "text": [
      "WARNING:tensorflow:Using a while_loop for converting Bitcast cause there is no registered converter for this op.\n"
     ]
    },
    {
     "name": "stderr",
     "output_type": "stream",
     "text": [
      "WARNING:tensorflow:Using a while_loop for converting Bitcast cause there is no registered converter for this op.\n"
     ]
    },
    {
     "name": "stdout",
     "output_type": "stream",
     "text": [
      "WARNING:tensorflow:Using a while_loop for converting StatelessRandomUniformV2 cause there is no registered converter for this op.\n"
     ]
    },
    {
     "name": "stderr",
     "output_type": "stream",
     "text": [
      "WARNING:tensorflow:Using a while_loop for converting StatelessRandomUniformV2 cause there is no registered converter for this op.\n"
     ]
    },
    {
     "name": "stdout",
     "output_type": "stream",
     "text": [
      "WARNING:tensorflow:Using a while_loop for converting ImageProjectiveTransformV3 cause there is no registered converter for this op.\n"
     ]
    },
    {
     "name": "stderr",
     "output_type": "stream",
     "text": [
      "WARNING:tensorflow:Using a while_loop for converting ImageProjectiveTransformV3 cause there is no registered converter for this op.\n"
     ]
    },
    {
     "name": "stdout",
     "output_type": "stream",
     "text": [
      "WARNING:tensorflow:Using a while_loop for converting RngReadAndSkip cause there is no registered converter for this op.\n"
     ]
    },
    {
     "name": "stderr",
     "output_type": "stream",
     "text": [
      "WARNING:tensorflow:Using a while_loop for converting RngReadAndSkip cause there is no registered converter for this op.\n"
     ]
    },
    {
     "name": "stdout",
     "output_type": "stream",
     "text": [
      "WARNING:tensorflow:Using a while_loop for converting Bitcast cause there is no registered converter for this op.\n"
     ]
    },
    {
     "name": "stderr",
     "output_type": "stream",
     "text": [
      "WARNING:tensorflow:Using a while_loop for converting Bitcast cause there is no registered converter for this op.\n"
     ]
    },
    {
     "name": "stdout",
     "output_type": "stream",
     "text": [
      "WARNING:tensorflow:Using a while_loop for converting Bitcast cause there is no registered converter for this op.\n"
     ]
    },
    {
     "name": "stderr",
     "output_type": "stream",
     "text": [
      "WARNING:tensorflow:Using a while_loop for converting Bitcast cause there is no registered converter for this op.\n"
     ]
    },
    {
     "name": "stdout",
     "output_type": "stream",
     "text": [
      "WARNING:tensorflow:Using a while_loop for converting StatelessRandomUniformV2 cause there is no registered converter for this op.\n"
     ]
    },
    {
     "name": "stderr",
     "output_type": "stream",
     "text": [
      "WARNING:tensorflow:Using a while_loop for converting StatelessRandomUniformV2 cause there is no registered converter for this op.\n"
     ]
    },
    {
     "name": "stdout",
     "output_type": "stream",
     "text": [
      "WARNING:tensorflow:Using a while_loop for converting ImageProjectiveTransformV3 cause there is no registered converter for this op.\n"
     ]
    },
    {
     "name": "stderr",
     "output_type": "stream",
     "text": [
      "WARNING:tensorflow:Using a while_loop for converting ImageProjectiveTransformV3 cause there is no registered converter for this op.\n"
     ]
    },
    {
     "name": "stdout",
     "output_type": "stream",
     "text": [
      "WARNING:tensorflow:Using a while_loop for converting RngReadAndSkip cause there is no registered converter for this op.\n"
     ]
    },
    {
     "name": "stderr",
     "output_type": "stream",
     "text": [
      "WARNING:tensorflow:Using a while_loop for converting RngReadAndSkip cause there is no registered converter for this op.\n"
     ]
    },
    {
     "name": "stdout",
     "output_type": "stream",
     "text": [
      "WARNING:tensorflow:Using a while_loop for converting Bitcast cause there is no registered converter for this op.\n"
     ]
    },
    {
     "name": "stderr",
     "output_type": "stream",
     "text": [
      "WARNING:tensorflow:Using a while_loop for converting Bitcast cause there is no registered converter for this op.\n"
     ]
    },
    {
     "name": "stdout",
     "output_type": "stream",
     "text": [
      "WARNING:tensorflow:Using a while_loop for converting Bitcast cause there is no registered converter for this op.\n"
     ]
    },
    {
     "name": "stderr",
     "output_type": "stream",
     "text": [
      "WARNING:tensorflow:Using a while_loop for converting Bitcast cause there is no registered converter for this op.\n"
     ]
    },
    {
     "name": "stdout",
     "output_type": "stream",
     "text": [
      "WARNING:tensorflow:Using a while_loop for converting StatelessRandomUniformV2 cause there is no registered converter for this op.\n"
     ]
    },
    {
     "name": "stderr",
     "output_type": "stream",
     "text": [
      "WARNING:tensorflow:Using a while_loop for converting StatelessRandomUniformV2 cause there is no registered converter for this op.\n"
     ]
    },
    {
     "name": "stdout",
     "output_type": "stream",
     "text": [
      "WARNING:tensorflow:Using a while_loop for converting ImageProjectiveTransformV3 cause there is no registered converter for this op.\n"
     ]
    },
    {
     "name": "stderr",
     "output_type": "stream",
     "text": [
      "WARNING:tensorflow:Using a while_loop for converting ImageProjectiveTransformV3 cause there is no registered converter for this op.\n"
     ]
    },
    {
     "name": "stdout",
     "output_type": "stream",
     "text": [
      "WARNING:tensorflow:Using a while_loop for converting RngReadAndSkip cause there is no registered converter for this op.\n"
     ]
    },
    {
     "name": "stderr",
     "output_type": "stream",
     "text": [
      "WARNING:tensorflow:Using a while_loop for converting RngReadAndSkip cause there is no registered converter for this op.\n"
     ]
    },
    {
     "name": "stdout",
     "output_type": "stream",
     "text": [
      "WARNING:tensorflow:Using a while_loop for converting Bitcast cause there is no registered converter for this op.\n"
     ]
    },
    {
     "name": "stderr",
     "output_type": "stream",
     "text": [
      "WARNING:tensorflow:Using a while_loop for converting Bitcast cause there is no registered converter for this op.\n"
     ]
    },
    {
     "name": "stdout",
     "output_type": "stream",
     "text": [
      "WARNING:tensorflow:Using a while_loop for converting Bitcast cause there is no registered converter for this op.\n"
     ]
    },
    {
     "name": "stderr",
     "output_type": "stream",
     "text": [
      "WARNING:tensorflow:Using a while_loop for converting Bitcast cause there is no registered converter for this op.\n"
     ]
    },
    {
     "name": "stdout",
     "output_type": "stream",
     "text": [
      "WARNING:tensorflow:Using a while_loop for converting StatelessRandomUniformV2 cause there is no registered converter for this op.\n"
     ]
    },
    {
     "name": "stderr",
     "output_type": "stream",
     "text": [
      "WARNING:tensorflow:Using a while_loop for converting StatelessRandomUniformV2 cause there is no registered converter for this op.\n"
     ]
    },
    {
     "name": "stdout",
     "output_type": "stream",
     "text": [
      "WARNING:tensorflow:Using a while_loop for converting ImageProjectiveTransformV3 cause there is no registered converter for this op.\n"
     ]
    },
    {
     "name": "stderr",
     "output_type": "stream",
     "text": [
      "WARNING:tensorflow:Using a while_loop for converting ImageProjectiveTransformV3 cause there is no registered converter for this op.\n"
     ]
    }
   ],
   "source": [
    "# Create input layer\n",
    "inputs = Input(shape=(224, 224, 3), name=\"input_layer\")\n",
    "x = data_augmentation(inputs)\n",
    "x = base_model(x, training=False)\n",
    "x = GlobalAveragePooling2D(name=\"global_average_pooling\")(x)\n",
    "outputs = Dense(10, activation=\"softmax\", name=\"output_layer\")(x)\n",
    "\n",
    "# Create the model\n",
    "model = Model(inputs, outputs)\n",
    "\n",
    "# Compile the model\n",
    "model.compile(loss=categorical_crossentropy,\n",
    "                optimizer=Adam(),\n",
    "                metrics=[\"accuracy\"])"
   ],
   "metadata": {
    "collapsed": false,
    "ExecuteTime": {
     "end_time": "2023-05-24T09:51:20.046533Z",
     "start_time": "2023-05-24T09:51:19.184645Z"
    }
   }
  },
  {
   "cell_type": "markdown",
   "source": [
    "## Base-Layer\n",
    "\n",
    "Actions to perform:\n",
    "\n",
    "1. List all base layers\n",
    "2. Set first 10 layers te be trainable and list first 20 layers\n",
    "3. List first 20 layers, trainable only\n",
    "4. List first 20 layers, non-trainable only\n",
    "5. Set last 10 layers to be trainable and list last 20 layers\n",
    "6. List all base layers and check if first 10 and last 10 are trainable"
   ],
   "metadata": {
    "collapsed": false
   }
  },
  {
   "cell_type": "code",
   "execution_count": 288,
   "outputs": [
    {
     "name": "stdout",
     "output_type": "stream",
     "text": [
      "Row   | Name (Type)                                         | dtype   | Trainable | Output Shape\n",
      "0     | input_18                   (InputLayer            ) | float32 | False     | [(None, None, None, 3)] \n",
      "1     | rescaling_17               (Rescaling             ) | float32 | False     | (None, None, None, 3)   \n",
      "2     | normalization_17           (Normalization         ) | float32 | False     | (None, None, None, 3)   \n",
      "3     | stem_conv                  (Conv2D                ) | float32 | False     | (None, None, None, 32)  \n",
      "4     | stem_bn                    (BatchNormalization    ) | float32 | False     | (None, None, None, 32)  \n",
      "5     | stem_activation            (Activation            ) | float32 | False     | (None, None, None, 32)  \n",
      "6     | block1a_project_conv       (Conv2D                ) | float32 | False     | (None, None, None, 16)  \n",
      "7     | block1a_project_bn         (BatchNormalization    ) | float32 | False     | (None, None, None, 16)  \n",
      "8     | block1a_project_activation (Activation            ) | float32 | False     | (None, None, None, 16)  \n",
      "9     | block2a_expand_conv        (Conv2D                ) | float32 | False     | (None, None, None, 64)  \n",
      "10    | block2a_expand_bn          (BatchNormalization    ) | float32 | False     | (None, None, None, 64)  \n",
      "11    | block2a_expand_activation  (Activation            ) | float32 | False     | (None, None, None, 64)  \n",
      "12    | block2a_project_conv       (Conv2D                ) | float32 | False     | (None, None, None, 32)  \n",
      "13    | block2a_project_bn         (BatchNormalization    ) | float32 | False     | (None, None, None, 32)  \n",
      "14    | block2b_expand_conv        (Conv2D                ) | float32 | False     | (None, None, None, 128) \n",
      "15    | block2b_expand_bn          (BatchNormalization    ) | float32 | False     | (None, None, None, 128) \n",
      "16    | block2b_expand_activation  (Activation            ) | float32 | False     | (None, None, None, 128) \n",
      "17    | block2b_project_conv       (Conv2D                ) | float32 | False     | (None, None, None, 32)  \n",
      "18    | block2b_project_bn         (BatchNormalization    ) | float32 | False     | (None, None, None, 32)  \n",
      "19    | block2b_drop               (Dropout               ) | float32 | False     | (None, None, None, 32)  \n",
      "20    | block2b_add                (Add                   ) | float32 | False     | (None, None, None, 32)  \n",
      "21    | block3a_expand_conv        (Conv2D                ) | float32 | False     | (None, None, None, 128) \n",
      "22    | block3a_expand_bn          (BatchNormalization    ) | float32 | False     | (None, None, None, 128) \n",
      "23    | block3a_expand_activation  (Activation            ) | float32 | False     | (None, None, None, 128) \n",
      "24    | block3a_project_conv       (Conv2D                ) | float32 | False     | (None, None, None, 48)  \n",
      "25    | block3a_project_bn         (BatchNormalization    ) | float32 | False     | (None, None, None, 48)  \n",
      "26    | block3b_expand_conv        (Conv2D                ) | float32 | False     | (None, None, None, 192) \n",
      "27    | block3b_expand_bn          (BatchNormalization    ) | float32 | False     | (None, None, None, 192) \n",
      "28    | block3b_expand_activation  (Activation            ) | float32 | False     | (None, None, None, 192) \n",
      "29    | block3b_project_conv       (Conv2D                ) | float32 | False     | (None, None, None, 48)  \n",
      "30    | block3b_project_bn         (BatchNormalization    ) | float32 | False     | (None, None, None, 48)  \n",
      "31    | block3b_drop               (Dropout               ) | float32 | False     | (None, None, None, 48)  \n",
      "32    | block3b_add                (Add                   ) | float32 | False     | (None, None, None, 48)  \n",
      "33    | block4a_expand_conv        (Conv2D                ) | float32 | False     | (None, None, None, 192) \n",
      "34    | block4a_expand_bn          (BatchNormalization    ) | float32 | False     | (None, None, None, 192) \n",
      "35    | block4a_expand_activation  (Activation            ) | float32 | False     | (None, None, None, 192) \n",
      "36    | block4a_dwconv2            (DepthwiseConv2D       ) | float32 | False     | (None, None, None, 192) \n",
      "37    | block4a_bn                 (BatchNormalization    ) | float32 | False     | (None, None, None, 192) \n",
      "38    | block4a_activation         (Activation            ) | float32 | False     | (None, None, None, 192) \n",
      "39    | block4a_se_squeeze         (GlobalAveragePooling2D) | float32 | False     | (None, 192)             \n",
      "40    | block4a_se_reshape         (Reshape               ) | float32 | False     | (None, 1, 1, 192)       \n",
      "41    | block4a_se_reduce          (Conv2D                ) | float32 | False     | (None, 1, 1, 12)        \n",
      "42    | block4a_se_expand          (Conv2D                ) | float32 | False     | (None, 1, 1, 192)       \n",
      "43    | block4a_se_excite          (Multiply              ) | float32 | False     | (None, None, None, 192) \n",
      "44    | block4a_project_conv       (Conv2D                ) | float32 | False     | (None, None, None, 96)  \n",
      "45    | block4a_project_bn         (BatchNormalization    ) | float32 | False     | (None, None, None, 96)  \n",
      "46    | block4b_expand_conv        (Conv2D                ) | float32 | False     | (None, None, None, 384) \n",
      "47    | block4b_expand_bn          (BatchNormalization    ) | float32 | False     | (None, None, None, 384) \n",
      "48    | block4b_expand_activation  (Activation            ) | float32 | False     | (None, None, None, 384) \n",
      "49    | block4b_dwconv2            (DepthwiseConv2D       ) | float32 | False     | (None, None, None, 384) \n",
      "50    | block4b_bn                 (BatchNormalization    ) | float32 | False     | (None, None, None, 384) \n",
      "51    | block4b_activation         (Activation            ) | float32 | False     | (None, None, None, 384) \n",
      "52    | block4b_se_squeeze         (GlobalAveragePooling2D) | float32 | False     | (None, 384)             \n",
      "53    | block4b_se_reshape         (Reshape               ) | float32 | False     | (None, 1, 1, 384)       \n",
      "54    | block4b_se_reduce          (Conv2D                ) | float32 | False     | (None, 1, 1, 24)        \n",
      "55    | block4b_se_expand          (Conv2D                ) | float32 | False     | (None, 1, 1, 384)       \n",
      "56    | block4b_se_excite          (Multiply              ) | float32 | False     | (None, None, None, 384) \n",
      "57    | block4b_project_conv       (Conv2D                ) | float32 | False     | (None, None, None, 96)  \n",
      "58    | block4b_project_bn         (BatchNormalization    ) | float32 | False     | (None, None, None, 96)  \n",
      "59    | block4b_drop               (Dropout               ) | float32 | False     | (None, None, None, 96)  \n",
      "60    | block4b_add                (Add                   ) | float32 | False     | (None, None, None, 96)  \n",
      "61    | block4c_expand_conv        (Conv2D                ) | float32 | False     | (None, None, None, 384) \n",
      "62    | block4c_expand_bn          (BatchNormalization    ) | float32 | False     | (None, None, None, 384) \n",
      "63    | block4c_expand_activation  (Activation            ) | float32 | False     | (None, None, None, 384) \n",
      "64    | block4c_dwconv2            (DepthwiseConv2D       ) | float32 | False     | (None, None, None, 384) \n",
      "65    | block4c_bn                 (BatchNormalization    ) | float32 | False     | (None, None, None, 384) \n",
      "66    | block4c_activation         (Activation            ) | float32 | False     | (None, None, None, 384) \n",
      "67    | block4c_se_squeeze         (GlobalAveragePooling2D) | float32 | False     | (None, 384)             \n",
      "68    | block4c_se_reshape         (Reshape               ) | float32 | False     | (None, 1, 1, 384)       \n",
      "69    | block4c_se_reduce          (Conv2D                ) | float32 | False     | (None, 1, 1, 24)        \n",
      "70    | block4c_se_expand          (Conv2D                ) | float32 | False     | (None, 1, 1, 384)       \n",
      "71    | block4c_se_excite          (Multiply              ) | float32 | False     | (None, None, None, 384) \n",
      "72    | block4c_project_conv       (Conv2D                ) | float32 | False     | (None, None, None, 96)  \n",
      "73    | block4c_project_bn         (BatchNormalization    ) | float32 | False     | (None, None, None, 96)  \n",
      "74    | block4c_drop               (Dropout               ) | float32 | False     | (None, None, None, 96)  \n",
      "75    | block4c_add                (Add                   ) | float32 | False     | (None, None, None, 96)  \n",
      "76    | block5a_expand_conv        (Conv2D                ) | float32 | False     | (None, None, None, 576) \n",
      "77    | block5a_expand_bn          (BatchNormalization    ) | float32 | False     | (None, None, None, 576) \n",
      "78    | block5a_expand_activation  (Activation            ) | float32 | False     | (None, None, None, 576) \n",
      "79    | block5a_dwconv2            (DepthwiseConv2D       ) | float32 | False     | (None, None, None, 576) \n",
      "80    | block5a_bn                 (BatchNormalization    ) | float32 | False     | (None, None, None, 576) \n",
      "81    | block5a_activation         (Activation            ) | float32 | False     | (None, None, None, 576) \n",
      "82    | block5a_se_squeeze         (GlobalAveragePooling2D) | float32 | False     | (None, 576)             \n",
      "83    | block5a_se_reshape         (Reshape               ) | float32 | False     | (None, 1, 1, 576)       \n",
      "84    | block5a_se_reduce          (Conv2D                ) | float32 | False     | (None, 1, 1, 24)        \n",
      "85    | block5a_se_expand          (Conv2D                ) | float32 | False     | (None, 1, 1, 576)       \n",
      "86    | block5a_se_excite          (Multiply              ) | float32 | False     | (None, None, None, 576) \n",
      "87    | block5a_project_conv       (Conv2D                ) | float32 | False     | (None, None, None, 112) \n",
      "88    | block5a_project_bn         (BatchNormalization    ) | float32 | False     | (None, None, None, 112) \n",
      "89    | block5b_expand_conv        (Conv2D                ) | float32 | False     | (None, None, None, 672) \n",
      "90    | block5b_expand_bn          (BatchNormalization    ) | float32 | False     | (None, None, None, 672) \n",
      "91    | block5b_expand_activation  (Activation            ) | float32 | False     | (None, None, None, 672) \n",
      "92    | block5b_dwconv2            (DepthwiseConv2D       ) | float32 | False     | (None, None, None, 672) \n",
      "93    | block5b_bn                 (BatchNormalization    ) | float32 | False     | (None, None, None, 672) \n",
      "94    | block5b_activation         (Activation            ) | float32 | False     | (None, None, None, 672) \n",
      "95    | block5b_se_squeeze         (GlobalAveragePooling2D) | float32 | False     | (None, 672)             \n",
      "96    | block5b_se_reshape         (Reshape               ) | float32 | False     | (None, 1, 1, 672)       \n",
      "97    | block5b_se_reduce          (Conv2D                ) | float32 | False     | (None, 1, 1, 28)        \n",
      "98    | block5b_se_expand          (Conv2D                ) | float32 | False     | (None, 1, 1, 672)       \n",
      "99    | block5b_se_excite          (Multiply              ) | float32 | False     | (None, None, None, 672) \n",
      "100   | block5b_project_conv       (Conv2D                ) | float32 | False     | (None, None, None, 112) \n",
      "101   | block5b_project_bn         (BatchNormalization    ) | float32 | False     | (None, None, None, 112) \n",
      "102   | block5b_drop               (Dropout               ) | float32 | False     | (None, None, None, 112) \n",
      "103   | block5b_add                (Add                   ) | float32 | False     | (None, None, None, 112) \n",
      "104   | block5c_expand_conv        (Conv2D                ) | float32 | False     | (None, None, None, 672) \n",
      "105   | block5c_expand_bn          (BatchNormalization    ) | float32 | False     | (None, None, None, 672) \n",
      "106   | block5c_expand_activation  (Activation            ) | float32 | False     | (None, None, None, 672) \n",
      "107   | block5c_dwconv2            (DepthwiseConv2D       ) | float32 | False     | (None, None, None, 672) \n",
      "108   | block5c_bn                 (BatchNormalization    ) | float32 | False     | (None, None, None, 672) \n",
      "109   | block5c_activation         (Activation            ) | float32 | False     | (None, None, None, 672) \n",
      "110   | block5c_se_squeeze         (GlobalAveragePooling2D) | float32 | False     | (None, 672)             \n",
      "111   | block5c_se_reshape         (Reshape               ) | float32 | False     | (None, 1, 1, 672)       \n",
      "112   | block5c_se_reduce          (Conv2D                ) | float32 | False     | (None, 1, 1, 28)        \n",
      "113   | block5c_se_expand          (Conv2D                ) | float32 | False     | (None, 1, 1, 672)       \n",
      "114   | block5c_se_excite          (Multiply              ) | float32 | False     | (None, None, None, 672) \n",
      "115   | block5c_project_conv       (Conv2D                ) | float32 | False     | (None, None, None, 112) \n",
      "116   | block5c_project_bn         (BatchNormalization    ) | float32 | False     | (None, None, None, 112) \n",
      "117   | block5c_drop               (Dropout               ) | float32 | False     | (None, None, None, 112) \n",
      "118   | block5c_add                (Add                   ) | float32 | False     | (None, None, None, 112) \n",
      "119   | block5d_expand_conv        (Conv2D                ) | float32 | False     | (None, None, None, 672) \n",
      "120   | block5d_expand_bn          (BatchNormalization    ) | float32 | False     | (None, None, None, 672) \n",
      "121   | block5d_expand_activation  (Activation            ) | float32 | False     | (None, None, None, 672) \n",
      "122   | block5d_dwconv2            (DepthwiseConv2D       ) | float32 | False     | (None, None, None, 672) \n",
      "123   | block5d_bn                 (BatchNormalization    ) | float32 | False     | (None, None, None, 672) \n",
      "124   | block5d_activation         (Activation            ) | float32 | False     | (None, None, None, 672) \n",
      "125   | block5d_se_squeeze         (GlobalAveragePooling2D) | float32 | False     | (None, 672)             \n",
      "126   | block5d_se_reshape         (Reshape               ) | float32 | False     | (None, 1, 1, 672)       \n",
      "127   | block5d_se_reduce          (Conv2D                ) | float32 | False     | (None, 1, 1, 28)        \n",
      "128   | block5d_se_expand          (Conv2D                ) | float32 | False     | (None, 1, 1, 672)       \n",
      "129   | block5d_se_excite          (Multiply              ) | float32 | False     | (None, None, None, 672) \n",
      "130   | block5d_project_conv       (Conv2D                ) | float32 | False     | (None, None, None, 112) \n",
      "131   | block5d_project_bn         (BatchNormalization    ) | float32 | False     | (None, None, None, 112) \n",
      "132   | block5d_drop               (Dropout               ) | float32 | False     | (None, None, None, 112) \n",
      "133   | block5d_add                (Add                   ) | float32 | False     | (None, None, None, 112) \n",
      "134   | block5e_expand_conv        (Conv2D                ) | float32 | False     | (None, None, None, 672) \n",
      "135   | block5e_expand_bn          (BatchNormalization    ) | float32 | False     | (None, None, None, 672) \n",
      "136   | block5e_expand_activation  (Activation            ) | float32 | False     | (None, None, None, 672) \n",
      "137   | block5e_dwconv2            (DepthwiseConv2D       ) | float32 | False     | (None, None, None, 672) \n",
      "138   | block5e_bn                 (BatchNormalization    ) | float32 | False     | (None, None, None, 672) \n",
      "139   | block5e_activation         (Activation            ) | float32 | False     | (None, None, None, 672) \n",
      "140   | block5e_se_squeeze         (GlobalAveragePooling2D) | float32 | False     | (None, 672)             \n",
      "141   | block5e_se_reshape         (Reshape               ) | float32 | False     | (None, 1, 1, 672)       \n",
      "142   | block5e_se_reduce          (Conv2D                ) | float32 | False     | (None, 1, 1, 28)        \n",
      "143   | block5e_se_expand          (Conv2D                ) | float32 | False     | (None, 1, 1, 672)       \n",
      "144   | block5e_se_excite          (Multiply              ) | float32 | False     | (None, None, None, 672) \n",
      "145   | block5e_project_conv       (Conv2D                ) | float32 | False     | (None, None, None, 112) \n",
      "146   | block5e_project_bn         (BatchNormalization    ) | float32 | False     | (None, None, None, 112) \n",
      "147   | block5e_drop               (Dropout               ) | float32 | False     | (None, None, None, 112) \n",
      "148   | block5e_add                (Add                   ) | float32 | False     | (None, None, None, 112) \n",
      "149   | block6a_expand_conv        (Conv2D                ) | float32 | False     | (None, None, None, 672) \n",
      "150   | block6a_expand_bn          (BatchNormalization    ) | float32 | False     | (None, None, None, 672) \n",
      "151   | block6a_expand_activation  (Activation            ) | float32 | False     | (None, None, None, 672) \n",
      "152   | block6a_dwconv2            (DepthwiseConv2D       ) | float32 | False     | (None, None, None, 672) \n",
      "153   | block6a_bn                 (BatchNormalization    ) | float32 | False     | (None, None, None, 672) \n",
      "154   | block6a_activation         (Activation            ) | float32 | False     | (None, None, None, 672) \n",
      "155   | block6a_se_squeeze         (GlobalAveragePooling2D) | float32 | False     | (None, 672)             \n",
      "156   | block6a_se_reshape         (Reshape               ) | float32 | False     | (None, 1, 1, 672)       \n",
      "157   | block6a_se_reduce          (Conv2D                ) | float32 | False     | (None, 1, 1, 28)        \n",
      "158   | block6a_se_expand          (Conv2D                ) | float32 | False     | (None, 1, 1, 672)       \n",
      "159   | block6a_se_excite          (Multiply              ) | float32 | False     | (None, None, None, 672) \n",
      "160   | block6a_project_conv       (Conv2D                ) | float32 | False     | (None, None, None, 192) \n",
      "161   | block6a_project_bn         (BatchNormalization    ) | float32 | False     | (None, None, None, 192) \n",
      "162   | block6b_expand_conv        (Conv2D                ) | float32 | False     | (None, None, None, 1152)\n",
      "163   | block6b_expand_bn          (BatchNormalization    ) | float32 | False     | (None, None, None, 1152)\n",
      "164   | block6b_expand_activation  (Activation            ) | float32 | False     | (None, None, None, 1152)\n",
      "165   | block6b_dwconv2            (DepthwiseConv2D       ) | float32 | False     | (None, None, None, 1152)\n",
      "166   | block6b_bn                 (BatchNormalization    ) | float32 | False     | (None, None, None, 1152)\n",
      "167   | block6b_activation         (Activation            ) | float32 | False     | (None, None, None, 1152)\n",
      "168   | block6b_se_squeeze         (GlobalAveragePooling2D) | float32 | False     | (None, 1152)            \n",
      "169   | block6b_se_reshape         (Reshape               ) | float32 | False     | (None, 1, 1, 1152)      \n",
      "170   | block6b_se_reduce          (Conv2D                ) | float32 | False     | (None, 1, 1, 48)        \n",
      "171   | block6b_se_expand          (Conv2D                ) | float32 | False     | (None, 1, 1, 1152)      \n",
      "172   | block6b_se_excite          (Multiply              ) | float32 | False     | (None, None, None, 1152)\n",
      "173   | block6b_project_conv       (Conv2D                ) | float32 | False     | (None, None, None, 192) \n",
      "174   | block6b_project_bn         (BatchNormalization    ) | float32 | False     | (None, None, None, 192) \n",
      "175   | block6b_drop               (Dropout               ) | float32 | False     | (None, None, None, 192) \n",
      "176   | block6b_add                (Add                   ) | float32 | False     | (None, None, None, 192) \n",
      "177   | block6c_expand_conv        (Conv2D                ) | float32 | False     | (None, None, None, 1152)\n",
      "178   | block6c_expand_bn          (BatchNormalization    ) | float32 | False     | (None, None, None, 1152)\n",
      "179   | block6c_expand_activation  (Activation            ) | float32 | False     | (None, None, None, 1152)\n",
      "180   | block6c_dwconv2            (DepthwiseConv2D       ) | float32 | False     | (None, None, None, 1152)\n",
      "181   | block6c_bn                 (BatchNormalization    ) | float32 | False     | (None, None, None, 1152)\n",
      "182   | block6c_activation         (Activation            ) | float32 | False     | (None, None, None, 1152)\n",
      "183   | block6c_se_squeeze         (GlobalAveragePooling2D) | float32 | False     | (None, 1152)            \n",
      "184   | block6c_se_reshape         (Reshape               ) | float32 | False     | (None, 1, 1, 1152)      \n",
      "185   | block6c_se_reduce          (Conv2D                ) | float32 | False     | (None, 1, 1, 48)        \n",
      "186   | block6c_se_expand          (Conv2D                ) | float32 | False     | (None, 1, 1, 1152)      \n",
      "187   | block6c_se_excite          (Multiply              ) | float32 | False     | (None, None, None, 1152)\n",
      "188   | block6c_project_conv       (Conv2D                ) | float32 | False     | (None, None, None, 192) \n",
      "189   | block6c_project_bn         (BatchNormalization    ) | float32 | False     | (None, None, None, 192) \n",
      "190   | block6c_drop               (Dropout               ) | float32 | False     | (None, None, None, 192) \n",
      "191   | block6c_add                (Add                   ) | float32 | False     | (None, None, None, 192) \n",
      "192   | block6d_expand_conv        (Conv2D                ) | float32 | False     | (None, None, None, 1152)\n",
      "193   | block6d_expand_bn          (BatchNormalization    ) | float32 | False     | (None, None, None, 1152)\n",
      "194   | block6d_expand_activation  (Activation            ) | float32 | False     | (None, None, None, 1152)\n",
      "195   | block6d_dwconv2            (DepthwiseConv2D       ) | float32 | False     | (None, None, None, 1152)\n",
      "196   | block6d_bn                 (BatchNormalization    ) | float32 | False     | (None, None, None, 1152)\n",
      "197   | block6d_activation         (Activation            ) | float32 | False     | (None, None, None, 1152)\n",
      "198   | block6d_se_squeeze         (GlobalAveragePooling2D) | float32 | False     | (None, 1152)            \n",
      "199   | block6d_se_reshape         (Reshape               ) | float32 | False     | (None, 1, 1, 1152)      \n",
      "200   | block6d_se_reduce          (Conv2D                ) | float32 | False     | (None, 1, 1, 48)        \n",
      "201   | block6d_se_expand          (Conv2D                ) | float32 | False     | (None, 1, 1, 1152)      \n",
      "202   | block6d_se_excite          (Multiply              ) | float32 | False     | (None, None, None, 1152)\n",
      "203   | block6d_project_conv       (Conv2D                ) | float32 | False     | (None, None, None, 192) \n",
      "204   | block6d_project_bn         (BatchNormalization    ) | float32 | False     | (None, None, None, 192) \n",
      "205   | block6d_drop               (Dropout               ) | float32 | False     | (None, None, None, 192) \n",
      "206   | block6d_add                (Add                   ) | float32 | False     | (None, None, None, 192) \n",
      "207   | block6e_expand_conv        (Conv2D                ) | float32 | False     | (None, None, None, 1152)\n",
      "208   | block6e_expand_bn          (BatchNormalization    ) | float32 | False     | (None, None, None, 1152)\n",
      "209   | block6e_expand_activation  (Activation            ) | float32 | False     | (None, None, None, 1152)\n",
      "210   | block6e_dwconv2            (DepthwiseConv2D       ) | float32 | False     | (None, None, None, 1152)\n",
      "211   | block6e_bn                 (BatchNormalization    ) | float32 | False     | (None, None, None, 1152)\n",
      "212   | block6e_activation         (Activation            ) | float32 | False     | (None, None, None, 1152)\n",
      "213   | block6e_se_squeeze         (GlobalAveragePooling2D) | float32 | False     | (None, 1152)            \n",
      "214   | block6e_se_reshape         (Reshape               ) | float32 | False     | (None, 1, 1, 1152)      \n",
      "215   | block6e_se_reduce          (Conv2D                ) | float32 | False     | (None, 1, 1, 48)        \n",
      "216   | block6e_se_expand          (Conv2D                ) | float32 | False     | (None, 1, 1, 1152)      \n",
      "217   | block6e_se_excite          (Multiply              ) | float32 | False     | (None, None, None, 1152)\n",
      "218   | block6e_project_conv       (Conv2D                ) | float32 | False     | (None, None, None, 192) \n",
      "219   | block6e_project_bn         (BatchNormalization    ) | float32 | False     | (None, None, None, 192) \n",
      "220   | block6e_drop               (Dropout               ) | float32 | False     | (None, None, None, 192) \n",
      "221   | block6e_add                (Add                   ) | float32 | False     | (None, None, None, 192) \n",
      "222   | block6f_expand_conv        (Conv2D                ) | float32 | False     | (None, None, None, 1152)\n",
      "223   | block6f_expand_bn          (BatchNormalization    ) | float32 | False     | (None, None, None, 1152)\n",
      "224   | block6f_expand_activation  (Activation            ) | float32 | False     | (None, None, None, 1152)\n",
      "225   | block6f_dwconv2            (DepthwiseConv2D       ) | float32 | False     | (None, None, None, 1152)\n",
      "226   | block6f_bn                 (BatchNormalization    ) | float32 | False     | (None, None, None, 1152)\n",
      "227   | block6f_activation         (Activation            ) | float32 | False     | (None, None, None, 1152)\n",
      "228   | block6f_se_squeeze         (GlobalAveragePooling2D) | float32 | False     | (None, 1152)            \n",
      "229   | block6f_se_reshape         (Reshape               ) | float32 | False     | (None, 1, 1, 1152)      \n",
      "230   | block6f_se_reduce          (Conv2D                ) | float32 | False     | (None, 1, 1, 48)        \n",
      "231   | block6f_se_expand          (Conv2D                ) | float32 | False     | (None, 1, 1, 1152)      \n",
      "232   | block6f_se_excite          (Multiply              ) | float32 | False     | (None, None, None, 1152)\n",
      "233   | block6f_project_conv       (Conv2D                ) | float32 | False     | (None, None, None, 192) \n",
      "234   | block6f_project_bn         (BatchNormalization    ) | float32 | False     | (None, None, None, 192) \n",
      "235   | block6f_drop               (Dropout               ) | float32 | False     | (None, None, None, 192) \n",
      "236   | block6f_add                (Add                   ) | float32 | False     | (None, None, None, 192) \n",
      "237   | block6g_expand_conv        (Conv2D                ) | float32 | False     | (None, None, None, 1152)\n",
      "238   | block6g_expand_bn          (BatchNormalization    ) | float32 | False     | (None, None, None, 1152)\n",
      "239   | block6g_expand_activation  (Activation            ) | float32 | False     | (None, None, None, 1152)\n",
      "240   | block6g_dwconv2            (DepthwiseConv2D       ) | float32 | False     | (None, None, None, 1152)\n",
      "241   | block6g_bn                 (BatchNormalization    ) | float32 | False     | (None, None, None, 1152)\n",
      "242   | block6g_activation         (Activation            ) | float32 | False     | (None, None, None, 1152)\n",
      "243   | block6g_se_squeeze         (GlobalAveragePooling2D) | float32 | False     | (None, 1152)            \n",
      "244   | block6g_se_reshape         (Reshape               ) | float32 | False     | (None, 1, 1, 1152)      \n",
      "245   | block6g_se_reduce          (Conv2D                ) | float32 | False     | (None, 1, 1, 48)        \n",
      "246   | block6g_se_expand          (Conv2D                ) | float32 | False     | (None, 1, 1, 1152)      \n",
      "247   | block6g_se_excite          (Multiply              ) | float32 | False     | (None, None, None, 1152)\n",
      "248   | block6g_project_conv       (Conv2D                ) | float32 | False     | (None, None, None, 192) \n",
      "249   | block6g_project_bn         (BatchNormalization    ) | float32 | False     | (None, None, None, 192) \n",
      "250   | block6g_drop               (Dropout               ) | float32 | False     | (None, None, None, 192) \n",
      "251   | block6g_add                (Add                   ) | float32 | False     | (None, None, None, 192) \n",
      "252   | block6h_expand_conv        (Conv2D                ) | float32 | False     | (None, None, None, 1152)\n",
      "253   | block6h_expand_bn          (BatchNormalization    ) | float32 | False     | (None, None, None, 1152)\n",
      "254   | block6h_expand_activation  (Activation            ) | float32 | False     | (None, None, None, 1152)\n",
      "255   | block6h_dwconv2            (DepthwiseConv2D       ) | float32 | False     | (None, None, None, 1152)\n",
      "256   | block6h_bn                 (BatchNormalization    ) | float32 | False     | (None, None, None, 1152)\n",
      "257   | block6h_activation         (Activation            ) | float32 | False     | (None, None, None, 1152)\n",
      "258   | block6h_se_squeeze         (GlobalAveragePooling2D) | float32 | False     | (None, 1152)            \n",
      "259   | block6h_se_reshape         (Reshape               ) | float32 | False     | (None, 1, 1, 1152)      \n",
      "260   | block6h_se_reduce          (Conv2D                ) | float32 | False     | (None, 1, 1, 48)        \n",
      "261   | block6h_se_expand          (Conv2D                ) | float32 | False     | (None, 1, 1, 1152)      \n",
      "262   | block6h_se_excite          (Multiply              ) | float32 | False     | (None, None, None, 1152)\n",
      "263   | block6h_project_conv       (Conv2D                ) | float32 | False     | (None, None, None, 192) \n",
      "264   | block6h_project_bn         (BatchNormalization    ) | float32 | False     | (None, None, None, 192) \n",
      "265   | block6h_drop               (Dropout               ) | float32 | False     | (None, None, None, 192) \n",
      "266   | block6h_add                (Add                   ) | float32 | False     | (None, None, None, 192) \n",
      "267   | top_conv                   (Conv2D                ) | float32 | False     | (None, None, None, 1280)\n",
      "268   | top_bn                     (BatchNormalization    ) | float32 | False     | (None, None, None, 1280)\n",
      "269   | top_activation             (Activation            ) | float32 | False     | (None, None, None, 1280)\n"
     ]
    }
   ],
   "source": [
    "# 1. List all base layers\n",
    "mll.list_model(model=base_model, recursive=True, include_trainable=True, include_non_trainable=True)"
   ],
   "metadata": {
    "collapsed": false,
    "ExecuteTime": {
     "end_time": "2023-05-24T09:51:54.656684Z",
     "start_time": "2023-05-24T09:51:54.601459Z"
    }
   }
  },
  {
   "cell_type": "code",
   "execution_count": 264,
   "outputs": [
    {
     "name": "stdout",
     "output_type": "stream",
     "text": [
      "Row   | Name (Type)                                     | Trainable | Output Shape\n",
      "0     | input_17                   (InputLayer        ) | True      | [(None, None, None, 3)]\n",
      "1     | rescaling_16               (Rescaling         ) | True      | (None, None, None, 3)  \n",
      "2     | normalization_16           (Normalization     ) | True      | (None, None, None, 3)  \n",
      "3     | stem_conv                  (Conv2D            ) | True      | (None, None, None, 32) \n",
      "4     | stem_bn                    (BatchNormalization) | True      | (None, None, None, 32) \n",
      "5     | stem_activation            (Activation        ) | True      | (None, None, None, 32) \n",
      "6     | block1a_project_conv       (Conv2D            ) | True      | (None, None, None, 16) \n",
      "7     | block1a_project_bn         (BatchNormalization) | True      | (None, None, None, 16) \n",
      "8     | block1a_project_activation (Activation        ) | True      | (None, None, None, 16) \n",
      "9     | block2a_expand_conv        (Conv2D            ) | True      | (None, None, None, 64) \n",
      "10    | block2a_expand_bn          (BatchNormalization) | False     | (None, None, None, 64) \n",
      "11    | block2a_expand_activation  (Activation        ) | False     | (None, None, None, 64) \n",
      "12    | block2a_project_conv       (Conv2D            ) | False     | (None, None, None, 32) \n",
      "13    | block2a_project_bn         (BatchNormalization) | False     | (None, None, None, 32) \n",
      "14    | block2b_expand_conv        (Conv2D            ) | False     | (None, None, None, 128)\n",
      "15    | block2b_expand_bn          (BatchNormalization) | False     | (None, None, None, 128)\n",
      "16    | block2b_expand_activation  (Activation        ) | False     | (None, None, None, 128)\n",
      "17    | block2b_project_conv       (Conv2D            ) | False     | (None, None, None, 32) \n",
      "18    | block2b_project_bn         (BatchNormalization) | False     | (None, None, None, 32) \n",
      "19    | block2b_drop               (Dropout           ) | False     | (None, None, None, 32) \n"
     ]
    }
   ],
   "source": [
    "# 2. Set first 10 layers te be trainable and list first 10 layers\n",
    "mll.set_trainable_on_first_n_layers(model=base_model, n=10, trainable=True)\n",
    "\n",
    "layers = mll.collect_layers(model=base_model)\n",
    "mll.list_layers(layers[:20], include_trainable=True, include_non_trainable=True)"
   ],
   "metadata": {
    "collapsed": false,
    "ExecuteTime": {
     "end_time": "2023-05-23T19:36:22.917146Z",
     "start_time": "2023-05-23T19:36:22.845476Z"
    }
   }
  },
  {
   "cell_type": "code",
   "execution_count": 265,
   "outputs": [
    {
     "name": "stdout",
     "output_type": "stream",
     "text": [
      "Row   | Name (Type)                                     | Trainable | Output Shape\n",
      "0     | input_17                   (InputLayer        ) | True      | [(None, None, None, 3)]\n",
      "1     | rescaling_16               (Rescaling         ) | True      | (None, None, None, 3)  \n",
      "2     | normalization_16           (Normalization     ) | True      | (None, None, None, 3)  \n",
      "3     | stem_conv                  (Conv2D            ) | True      | (None, None, None, 32) \n",
      "4     | stem_bn                    (BatchNormalization) | True      | (None, None, None, 32) \n",
      "5     | stem_activation            (Activation        ) | True      | (None, None, None, 32) \n",
      "6     | block1a_project_conv       (Conv2D            ) | True      | (None, None, None, 16) \n",
      "7     | block1a_project_bn         (BatchNormalization) | True      | (None, None, None, 16) \n",
      "8     | block1a_project_activation (Activation        ) | True      | (None, None, None, 16) \n",
      "9     | block2a_expand_conv        (Conv2D            ) | True      | (None, None, None, 64) \n"
     ]
    }
   ],
   "source": [
    "# 3. List first 20 layers, trainable only\n",
    "mll.list_layers(layers[:20], include_trainable=True, include_non_trainable=False)"
   ],
   "metadata": {
    "collapsed": false,
    "ExecuteTime": {
     "end_time": "2023-05-23T19:36:22.947667Z",
     "start_time": "2023-05-23T19:36:22.910171Z"
    }
   }
  },
  {
   "cell_type": "code",
   "execution_count": 266,
   "outputs": [
    {
     "name": "stdout",
     "output_type": "stream",
     "text": [
      "Row   | Name (Type)                                     | Trainable | Output Shape\n",
      "10    | block2a_expand_bn          (BatchNormalization) | False     | (None, None, None, 64) \n",
      "11    | block2a_expand_activation  (Activation        ) | False     | (None, None, None, 64) \n",
      "12    | block2a_project_conv       (Conv2D            ) | False     | (None, None, None, 32) \n",
      "13    | block2a_project_bn         (BatchNormalization) | False     | (None, None, None, 32) \n",
      "14    | block2b_expand_conv        (Conv2D            ) | False     | (None, None, None, 128)\n",
      "15    | block2b_expand_bn          (BatchNormalization) | False     | (None, None, None, 128)\n",
      "16    | block2b_expand_activation  (Activation        ) | False     | (None, None, None, 128)\n",
      "17    | block2b_project_conv       (Conv2D            ) | False     | (None, None, None, 32) \n",
      "18    | block2b_project_bn         (BatchNormalization) | False     | (None, None, None, 32) \n",
      "19    | block2b_drop               (Dropout           ) | False     | (None, None, None, 32) \n"
     ]
    }
   ],
   "source": [
    "# 4. List first 20 layers, non-trainable only\n",
    "mll.list_layers(layers[:20], include_trainable=False, include_non_trainable=True)"
   ],
   "metadata": {
    "collapsed": false,
    "ExecuteTime": {
     "end_time": "2023-05-23T19:36:22.999202Z",
     "start_time": "2023-05-23T19:36:22.947567Z"
    }
   }
  },
  {
   "cell_type": "code",
   "execution_count": 267,
   "outputs": [
    {
     "name": "stdout",
     "output_type": "stream",
     "text": [
      "Row   | Name (Type)                                        | Trainable | Output Shape\n",
      "0     | block6g_drop              (Dropout               ) | False     | (None, None, None, 192) \n",
      "1     | block6g_add               (Add                   ) | False     | (None, None, None, 192) \n",
      "2     | block6h_expand_conv       (Conv2D                ) | False     | (None, None, None, 1152)\n",
      "3     | block6h_expand_bn         (BatchNormalization    ) | False     | (None, None, None, 1152)\n",
      "4     | block6h_expand_activation (Activation            ) | False     | (None, None, None, 1152)\n",
      "5     | block6h_dwconv2           (DepthwiseConv2D       ) | False     | (None, None, None, 1152)\n",
      "6     | block6h_bn                (BatchNormalization    ) | False     | (None, None, None, 1152)\n",
      "7     | block6h_activation        (Activation            ) | False     | (None, None, None, 1152)\n",
      "8     | block6h_se_squeeze        (GlobalAveragePooling2D) | False     | (None, 1152)            \n",
      "9     | block6h_se_reshape        (Reshape               ) | False     | (None, 1, 1, 1152)      \n",
      "10    | block6h_se_reduce         (Conv2D                ) | True      | (None, 1, 1, 48)        \n",
      "11    | block6h_se_expand         (Conv2D                ) | True      | (None, 1, 1, 1152)      \n",
      "12    | block6h_se_excite         (Multiply              ) | True      | (None, None, None, 1152)\n",
      "13    | block6h_project_conv      (Conv2D                ) | True      | (None, None, None, 192) \n",
      "14    | block6h_project_bn        (BatchNormalization    ) | True      | (None, None, None, 192) \n",
      "15    | block6h_drop              (Dropout               ) | True      | (None, None, None, 192) \n",
      "16    | block6h_add               (Add                   ) | True      | (None, None, None, 192) \n",
      "17    | top_conv                  (Conv2D                ) | True      | (None, None, None, 1280)\n",
      "18    | top_bn                    (BatchNormalization    ) | True      | (None, None, None, 1280)\n",
      "19    | top_activation            (Activation            ) | True      | (None, None, None, 1280)\n"
     ]
    }
   ],
   "source": [
    "# 5. Set last 10 layers to be trainable and list last 20 layers\n",
    "mll.set_trainable_on_last_n_layers(model=base_model, n=10, trainable=True)\n",
    "\n",
    "layers = mll.collect_layers(model=base_model)\n",
    "mll.list_layers(layers[-20:], include_trainable=True, include_non_trainable=True)"
   ],
   "metadata": {
    "collapsed": false,
    "ExecuteTime": {
     "end_time": "2023-05-23T19:36:23.051227Z",
     "start_time": "2023-05-23T19:36:22.999713Z"
    }
   }
  },
  {
   "cell_type": "code",
   "execution_count": 268,
   "outputs": [
    {
     "name": "stdout",
     "output_type": "stream",
     "text": [
      "Row   | Name (Type)                                         | Trainable | Output Shape\n",
      "0     | input_17                   (InputLayer            ) | True      | [(None, None, None, 3)] \n",
      "1     | rescaling_16               (Rescaling             ) | True      | (None, None, None, 3)   \n",
      "2     | normalization_16           (Normalization         ) | True      | (None, None, None, 3)   \n",
      "3     | stem_conv                  (Conv2D                ) | True      | (None, None, None, 32)  \n",
      "4     | stem_bn                    (BatchNormalization    ) | True      | (None, None, None, 32)  \n",
      "5     | stem_activation            (Activation            ) | True      | (None, None, None, 32)  \n",
      "6     | block1a_project_conv       (Conv2D                ) | True      | (None, None, None, 16)  \n",
      "7     | block1a_project_bn         (BatchNormalization    ) | True      | (None, None, None, 16)  \n",
      "8     | block1a_project_activation (Activation            ) | True      | (None, None, None, 16)  \n",
      "9     | block2a_expand_conv        (Conv2D                ) | True      | (None, None, None, 64)  \n",
      "10    | block2a_expand_bn          (BatchNormalization    ) | False     | (None, None, None, 64)  \n",
      "11    | block2a_expand_activation  (Activation            ) | False     | (None, None, None, 64)  \n",
      "12    | block2a_project_conv       (Conv2D                ) | False     | (None, None, None, 32)  \n",
      "13    | block2a_project_bn         (BatchNormalization    ) | False     | (None, None, None, 32)  \n",
      "14    | block2b_expand_conv        (Conv2D                ) | False     | (None, None, None, 128) \n",
      "15    | block2b_expand_bn          (BatchNormalization    ) | False     | (None, None, None, 128) \n",
      "16    | block2b_expand_activation  (Activation            ) | False     | (None, None, None, 128) \n",
      "17    | block2b_project_conv       (Conv2D                ) | False     | (None, None, None, 32)  \n",
      "18    | block2b_project_bn         (BatchNormalization    ) | False     | (None, None, None, 32)  \n",
      "19    | block2b_drop               (Dropout               ) | False     | (None, None, None, 32)  \n",
      "20    | block2b_add                (Add                   ) | False     | (None, None, None, 32)  \n",
      "21    | block3a_expand_conv        (Conv2D                ) | False     | (None, None, None, 128) \n",
      "22    | block3a_expand_bn          (BatchNormalization    ) | False     | (None, None, None, 128) \n",
      "23    | block3a_expand_activation  (Activation            ) | False     | (None, None, None, 128) \n",
      "24    | block3a_project_conv       (Conv2D                ) | False     | (None, None, None, 48)  \n",
      "25    | block3a_project_bn         (BatchNormalization    ) | False     | (None, None, None, 48)  \n",
      "26    | block3b_expand_conv        (Conv2D                ) | False     | (None, None, None, 192) \n",
      "27    | block3b_expand_bn          (BatchNormalization    ) | False     | (None, None, None, 192) \n",
      "28    | block3b_expand_activation  (Activation            ) | False     | (None, None, None, 192) \n",
      "29    | block3b_project_conv       (Conv2D                ) | False     | (None, None, None, 48)  \n",
      "30    | block3b_project_bn         (BatchNormalization    ) | False     | (None, None, None, 48)  \n",
      "31    | block3b_drop               (Dropout               ) | False     | (None, None, None, 48)  \n",
      "32    | block3b_add                (Add                   ) | False     | (None, None, None, 48)  \n",
      "33    | block4a_expand_conv        (Conv2D                ) | False     | (None, None, None, 192) \n",
      "34    | block4a_expand_bn          (BatchNormalization    ) | False     | (None, None, None, 192) \n",
      "35    | block4a_expand_activation  (Activation            ) | False     | (None, None, None, 192) \n",
      "36    | block4a_dwconv2            (DepthwiseConv2D       ) | False     | (None, None, None, 192) \n",
      "37    | block4a_bn                 (BatchNormalization    ) | False     | (None, None, None, 192) \n",
      "38    | block4a_activation         (Activation            ) | False     | (None, None, None, 192) \n",
      "39    | block4a_se_squeeze         (GlobalAveragePooling2D) | False     | (None, 192)             \n",
      "40    | block4a_se_reshape         (Reshape               ) | False     | (None, 1, 1, 192)       \n",
      "41    | block4a_se_reduce          (Conv2D                ) | False     | (None, 1, 1, 12)        \n",
      "42    | block4a_se_expand          (Conv2D                ) | False     | (None, 1, 1, 192)       \n",
      "43    | block4a_se_excite          (Multiply              ) | False     | (None, None, None, 192) \n",
      "44    | block4a_project_conv       (Conv2D                ) | False     | (None, None, None, 96)  \n",
      "45    | block4a_project_bn         (BatchNormalization    ) | False     | (None, None, None, 96)  \n",
      "46    | block4b_expand_conv        (Conv2D                ) | False     | (None, None, None, 384) \n",
      "47    | block4b_expand_bn          (BatchNormalization    ) | False     | (None, None, None, 384) \n",
      "48    | block4b_expand_activation  (Activation            ) | False     | (None, None, None, 384) \n",
      "49    | block4b_dwconv2            (DepthwiseConv2D       ) | False     | (None, None, None, 384) \n",
      "50    | block4b_bn                 (BatchNormalization    ) | False     | (None, None, None, 384) \n",
      "51    | block4b_activation         (Activation            ) | False     | (None, None, None, 384) \n",
      "52    | block4b_se_squeeze         (GlobalAveragePooling2D) | False     | (None, 384)             \n",
      "53    | block4b_se_reshape         (Reshape               ) | False     | (None, 1, 1, 384)       \n",
      "54    | block4b_se_reduce          (Conv2D                ) | False     | (None, 1, 1, 24)        \n",
      "55    | block4b_se_expand          (Conv2D                ) | False     | (None, 1, 1, 384)       \n",
      "56    | block4b_se_excite          (Multiply              ) | False     | (None, None, None, 384) \n",
      "57    | block4b_project_conv       (Conv2D                ) | False     | (None, None, None, 96)  \n",
      "58    | block4b_project_bn         (BatchNormalization    ) | False     | (None, None, None, 96)  \n",
      "59    | block4b_drop               (Dropout               ) | False     | (None, None, None, 96)  \n",
      "60    | block4b_add                (Add                   ) | False     | (None, None, None, 96)  \n",
      "61    | block4c_expand_conv        (Conv2D                ) | False     | (None, None, None, 384) \n",
      "62    | block4c_expand_bn          (BatchNormalization    ) | False     | (None, None, None, 384) \n",
      "63    | block4c_expand_activation  (Activation            ) | False     | (None, None, None, 384) \n",
      "64    | block4c_dwconv2            (DepthwiseConv2D       ) | False     | (None, None, None, 384) \n",
      "65    | block4c_bn                 (BatchNormalization    ) | False     | (None, None, None, 384) \n",
      "66    | block4c_activation         (Activation            ) | False     | (None, None, None, 384) \n",
      "67    | block4c_se_squeeze         (GlobalAveragePooling2D) | False     | (None, 384)             \n",
      "68    | block4c_se_reshape         (Reshape               ) | False     | (None, 1, 1, 384)       \n",
      "69    | block4c_se_reduce          (Conv2D                ) | False     | (None, 1, 1, 24)        \n",
      "70    | block4c_se_expand          (Conv2D                ) | False     | (None, 1, 1, 384)       \n",
      "71    | block4c_se_excite          (Multiply              ) | False     | (None, None, None, 384) \n",
      "72    | block4c_project_conv       (Conv2D                ) | False     | (None, None, None, 96)  \n",
      "73    | block4c_project_bn         (BatchNormalization    ) | False     | (None, None, None, 96)  \n",
      "74    | block4c_drop               (Dropout               ) | False     | (None, None, None, 96)  \n",
      "75    | block4c_add                (Add                   ) | False     | (None, None, None, 96)  \n",
      "76    | block5a_expand_conv        (Conv2D                ) | False     | (None, None, None, 576) \n",
      "77    | block5a_expand_bn          (BatchNormalization    ) | False     | (None, None, None, 576) \n",
      "78    | block5a_expand_activation  (Activation            ) | False     | (None, None, None, 576) \n",
      "79    | block5a_dwconv2            (DepthwiseConv2D       ) | False     | (None, None, None, 576) \n",
      "80    | block5a_bn                 (BatchNormalization    ) | False     | (None, None, None, 576) \n",
      "81    | block5a_activation         (Activation            ) | False     | (None, None, None, 576) \n",
      "82    | block5a_se_squeeze         (GlobalAveragePooling2D) | False     | (None, 576)             \n",
      "83    | block5a_se_reshape         (Reshape               ) | False     | (None, 1, 1, 576)       \n",
      "84    | block5a_se_reduce          (Conv2D                ) | False     | (None, 1, 1, 24)        \n",
      "85    | block5a_se_expand          (Conv2D                ) | False     | (None, 1, 1, 576)       \n",
      "86    | block5a_se_excite          (Multiply              ) | False     | (None, None, None, 576) \n",
      "87    | block5a_project_conv       (Conv2D                ) | False     | (None, None, None, 112) \n",
      "88    | block5a_project_bn         (BatchNormalization    ) | False     | (None, None, None, 112) \n",
      "89    | block5b_expand_conv        (Conv2D                ) | False     | (None, None, None, 672) \n",
      "90    | block5b_expand_bn          (BatchNormalization    ) | False     | (None, None, None, 672) \n",
      "91    | block5b_expand_activation  (Activation            ) | False     | (None, None, None, 672) \n",
      "92    | block5b_dwconv2            (DepthwiseConv2D       ) | False     | (None, None, None, 672) \n",
      "93    | block5b_bn                 (BatchNormalization    ) | False     | (None, None, None, 672) \n",
      "94    | block5b_activation         (Activation            ) | False     | (None, None, None, 672) \n",
      "95    | block5b_se_squeeze         (GlobalAveragePooling2D) | False     | (None, 672)             \n",
      "96    | block5b_se_reshape         (Reshape               ) | False     | (None, 1, 1, 672)       \n",
      "97    | block5b_se_reduce          (Conv2D                ) | False     | (None, 1, 1, 28)        \n",
      "98    | block5b_se_expand          (Conv2D                ) | False     | (None, 1, 1, 672)       \n",
      "99    | block5b_se_excite          (Multiply              ) | False     | (None, None, None, 672) \n",
      "100   | block5b_project_conv       (Conv2D                ) | False     | (None, None, None, 112) \n",
      "101   | block5b_project_bn         (BatchNormalization    ) | False     | (None, None, None, 112) \n",
      "102   | block5b_drop               (Dropout               ) | False     | (None, None, None, 112) \n",
      "103   | block5b_add                (Add                   ) | False     | (None, None, None, 112) \n",
      "104   | block5c_expand_conv        (Conv2D                ) | False     | (None, None, None, 672) \n",
      "105   | block5c_expand_bn          (BatchNormalization    ) | False     | (None, None, None, 672) \n",
      "106   | block5c_expand_activation  (Activation            ) | False     | (None, None, None, 672) \n",
      "107   | block5c_dwconv2            (DepthwiseConv2D       ) | False     | (None, None, None, 672) \n",
      "108   | block5c_bn                 (BatchNormalization    ) | False     | (None, None, None, 672) \n",
      "109   | block5c_activation         (Activation            ) | False     | (None, None, None, 672) \n",
      "110   | block5c_se_squeeze         (GlobalAveragePooling2D) | False     | (None, 672)             \n",
      "111   | block5c_se_reshape         (Reshape               ) | False     | (None, 1, 1, 672)       \n",
      "112   | block5c_se_reduce          (Conv2D                ) | False     | (None, 1, 1, 28)        \n",
      "113   | block5c_se_expand          (Conv2D                ) | False     | (None, 1, 1, 672)       \n",
      "114   | block5c_se_excite          (Multiply              ) | False     | (None, None, None, 672) \n",
      "115   | block5c_project_conv       (Conv2D                ) | False     | (None, None, None, 112) \n",
      "116   | block5c_project_bn         (BatchNormalization    ) | False     | (None, None, None, 112) \n",
      "117   | block5c_drop               (Dropout               ) | False     | (None, None, None, 112) \n",
      "118   | block5c_add                (Add                   ) | False     | (None, None, None, 112) \n",
      "119   | block5d_expand_conv        (Conv2D                ) | False     | (None, None, None, 672) \n",
      "120   | block5d_expand_bn          (BatchNormalization    ) | False     | (None, None, None, 672) \n",
      "121   | block5d_expand_activation  (Activation            ) | False     | (None, None, None, 672) \n",
      "122   | block5d_dwconv2            (DepthwiseConv2D       ) | False     | (None, None, None, 672) \n",
      "123   | block5d_bn                 (BatchNormalization    ) | False     | (None, None, None, 672) \n",
      "124   | block5d_activation         (Activation            ) | False     | (None, None, None, 672) \n",
      "125   | block5d_se_squeeze         (GlobalAveragePooling2D) | False     | (None, 672)             \n",
      "126   | block5d_se_reshape         (Reshape               ) | False     | (None, 1, 1, 672)       \n",
      "127   | block5d_se_reduce          (Conv2D                ) | False     | (None, 1, 1, 28)        \n",
      "128   | block5d_se_expand          (Conv2D                ) | False     | (None, 1, 1, 672)       \n",
      "129   | block5d_se_excite          (Multiply              ) | False     | (None, None, None, 672) \n",
      "130   | block5d_project_conv       (Conv2D                ) | False     | (None, None, None, 112) \n",
      "131   | block5d_project_bn         (BatchNormalization    ) | False     | (None, None, None, 112) \n",
      "132   | block5d_drop               (Dropout               ) | False     | (None, None, None, 112) \n",
      "133   | block5d_add                (Add                   ) | False     | (None, None, None, 112) \n",
      "134   | block5e_expand_conv        (Conv2D                ) | False     | (None, None, None, 672) \n",
      "135   | block5e_expand_bn          (BatchNormalization    ) | False     | (None, None, None, 672) \n",
      "136   | block5e_expand_activation  (Activation            ) | False     | (None, None, None, 672) \n",
      "137   | block5e_dwconv2            (DepthwiseConv2D       ) | False     | (None, None, None, 672) \n",
      "138   | block5e_bn                 (BatchNormalization    ) | False     | (None, None, None, 672) \n",
      "139   | block5e_activation         (Activation            ) | False     | (None, None, None, 672) \n",
      "140   | block5e_se_squeeze         (GlobalAveragePooling2D) | False     | (None, 672)             \n",
      "141   | block5e_se_reshape         (Reshape               ) | False     | (None, 1, 1, 672)       \n",
      "142   | block5e_se_reduce          (Conv2D                ) | False     | (None, 1, 1, 28)        \n",
      "143   | block5e_se_expand          (Conv2D                ) | False     | (None, 1, 1, 672)       \n",
      "144   | block5e_se_excite          (Multiply              ) | False     | (None, None, None, 672) \n",
      "145   | block5e_project_conv       (Conv2D                ) | False     | (None, None, None, 112) \n",
      "146   | block5e_project_bn         (BatchNormalization    ) | False     | (None, None, None, 112) \n",
      "147   | block5e_drop               (Dropout               ) | False     | (None, None, None, 112) \n",
      "148   | block5e_add                (Add                   ) | False     | (None, None, None, 112) \n",
      "149   | block6a_expand_conv        (Conv2D                ) | False     | (None, None, None, 672) \n",
      "150   | block6a_expand_bn          (BatchNormalization    ) | False     | (None, None, None, 672) \n",
      "151   | block6a_expand_activation  (Activation            ) | False     | (None, None, None, 672) \n",
      "152   | block6a_dwconv2            (DepthwiseConv2D       ) | False     | (None, None, None, 672) \n",
      "153   | block6a_bn                 (BatchNormalization    ) | False     | (None, None, None, 672) \n",
      "154   | block6a_activation         (Activation            ) | False     | (None, None, None, 672) \n",
      "155   | block6a_se_squeeze         (GlobalAveragePooling2D) | False     | (None, 672)             \n",
      "156   | block6a_se_reshape         (Reshape               ) | False     | (None, 1, 1, 672)       \n",
      "157   | block6a_se_reduce          (Conv2D                ) | False     | (None, 1, 1, 28)        \n",
      "158   | block6a_se_expand          (Conv2D                ) | False     | (None, 1, 1, 672)       \n",
      "159   | block6a_se_excite          (Multiply              ) | False     | (None, None, None, 672) \n",
      "160   | block6a_project_conv       (Conv2D                ) | False     | (None, None, None, 192) \n",
      "161   | block6a_project_bn         (BatchNormalization    ) | False     | (None, None, None, 192) \n",
      "162   | block6b_expand_conv        (Conv2D                ) | False     | (None, None, None, 1152)\n",
      "163   | block6b_expand_bn          (BatchNormalization    ) | False     | (None, None, None, 1152)\n",
      "164   | block6b_expand_activation  (Activation            ) | False     | (None, None, None, 1152)\n",
      "165   | block6b_dwconv2            (DepthwiseConv2D       ) | False     | (None, None, None, 1152)\n",
      "166   | block6b_bn                 (BatchNormalization    ) | False     | (None, None, None, 1152)\n",
      "167   | block6b_activation         (Activation            ) | False     | (None, None, None, 1152)\n",
      "168   | block6b_se_squeeze         (GlobalAveragePooling2D) | False     | (None, 1152)            \n",
      "169   | block6b_se_reshape         (Reshape               ) | False     | (None, 1, 1, 1152)      \n",
      "170   | block6b_se_reduce          (Conv2D                ) | False     | (None, 1, 1, 48)        \n",
      "171   | block6b_se_expand          (Conv2D                ) | False     | (None, 1, 1, 1152)      \n",
      "172   | block6b_se_excite          (Multiply              ) | False     | (None, None, None, 1152)\n",
      "173   | block6b_project_conv       (Conv2D                ) | False     | (None, None, None, 192) \n",
      "174   | block6b_project_bn         (BatchNormalization    ) | False     | (None, None, None, 192) \n",
      "175   | block6b_drop               (Dropout               ) | False     | (None, None, None, 192) \n",
      "176   | block6b_add                (Add                   ) | False     | (None, None, None, 192) \n",
      "177   | block6c_expand_conv        (Conv2D                ) | False     | (None, None, None, 1152)\n",
      "178   | block6c_expand_bn          (BatchNormalization    ) | False     | (None, None, None, 1152)\n",
      "179   | block6c_expand_activation  (Activation            ) | False     | (None, None, None, 1152)\n",
      "180   | block6c_dwconv2            (DepthwiseConv2D       ) | False     | (None, None, None, 1152)\n",
      "181   | block6c_bn                 (BatchNormalization    ) | False     | (None, None, None, 1152)\n",
      "182   | block6c_activation         (Activation            ) | False     | (None, None, None, 1152)\n",
      "183   | block6c_se_squeeze         (GlobalAveragePooling2D) | False     | (None, 1152)            \n",
      "184   | block6c_se_reshape         (Reshape               ) | False     | (None, 1, 1, 1152)      \n",
      "185   | block6c_se_reduce          (Conv2D                ) | False     | (None, 1, 1, 48)        \n",
      "186   | block6c_se_expand          (Conv2D                ) | False     | (None, 1, 1, 1152)      \n",
      "187   | block6c_se_excite          (Multiply              ) | False     | (None, None, None, 1152)\n",
      "188   | block6c_project_conv       (Conv2D                ) | False     | (None, None, None, 192) \n",
      "189   | block6c_project_bn         (BatchNormalization    ) | False     | (None, None, None, 192) \n",
      "190   | block6c_drop               (Dropout               ) | False     | (None, None, None, 192) \n",
      "191   | block6c_add                (Add                   ) | False     | (None, None, None, 192) \n",
      "192   | block6d_expand_conv        (Conv2D                ) | False     | (None, None, None, 1152)\n",
      "193   | block6d_expand_bn          (BatchNormalization    ) | False     | (None, None, None, 1152)\n",
      "194   | block6d_expand_activation  (Activation            ) | False     | (None, None, None, 1152)\n",
      "195   | block6d_dwconv2            (DepthwiseConv2D       ) | False     | (None, None, None, 1152)\n",
      "196   | block6d_bn                 (BatchNormalization    ) | False     | (None, None, None, 1152)\n",
      "197   | block6d_activation         (Activation            ) | False     | (None, None, None, 1152)\n",
      "198   | block6d_se_squeeze         (GlobalAveragePooling2D) | False     | (None, 1152)            \n",
      "199   | block6d_se_reshape         (Reshape               ) | False     | (None, 1, 1, 1152)      \n",
      "200   | block6d_se_reduce          (Conv2D                ) | False     | (None, 1, 1, 48)        \n",
      "201   | block6d_se_expand          (Conv2D                ) | False     | (None, 1, 1, 1152)      \n",
      "202   | block6d_se_excite          (Multiply              ) | False     | (None, None, None, 1152)\n",
      "203   | block6d_project_conv       (Conv2D                ) | False     | (None, None, None, 192) \n",
      "204   | block6d_project_bn         (BatchNormalization    ) | False     | (None, None, None, 192) \n",
      "205   | block6d_drop               (Dropout               ) | False     | (None, None, None, 192) \n",
      "206   | block6d_add                (Add                   ) | False     | (None, None, None, 192) \n",
      "207   | block6e_expand_conv        (Conv2D                ) | False     | (None, None, None, 1152)\n",
      "208   | block6e_expand_bn          (BatchNormalization    ) | False     | (None, None, None, 1152)\n",
      "209   | block6e_expand_activation  (Activation            ) | False     | (None, None, None, 1152)\n",
      "210   | block6e_dwconv2            (DepthwiseConv2D       ) | False     | (None, None, None, 1152)\n",
      "211   | block6e_bn                 (BatchNormalization    ) | False     | (None, None, None, 1152)\n",
      "212   | block6e_activation         (Activation            ) | False     | (None, None, None, 1152)\n",
      "213   | block6e_se_squeeze         (GlobalAveragePooling2D) | False     | (None, 1152)            \n",
      "214   | block6e_se_reshape         (Reshape               ) | False     | (None, 1, 1, 1152)      \n",
      "215   | block6e_se_reduce          (Conv2D                ) | False     | (None, 1, 1, 48)        \n",
      "216   | block6e_se_expand          (Conv2D                ) | False     | (None, 1, 1, 1152)      \n",
      "217   | block6e_se_excite          (Multiply              ) | False     | (None, None, None, 1152)\n",
      "218   | block6e_project_conv       (Conv2D                ) | False     | (None, None, None, 192) \n",
      "219   | block6e_project_bn         (BatchNormalization    ) | False     | (None, None, None, 192) \n",
      "220   | block6e_drop               (Dropout               ) | False     | (None, None, None, 192) \n",
      "221   | block6e_add                (Add                   ) | False     | (None, None, None, 192) \n",
      "222   | block6f_expand_conv        (Conv2D                ) | False     | (None, None, None, 1152)\n",
      "223   | block6f_expand_bn          (BatchNormalization    ) | False     | (None, None, None, 1152)\n",
      "224   | block6f_expand_activation  (Activation            ) | False     | (None, None, None, 1152)\n",
      "225   | block6f_dwconv2            (DepthwiseConv2D       ) | False     | (None, None, None, 1152)\n",
      "226   | block6f_bn                 (BatchNormalization    ) | False     | (None, None, None, 1152)\n",
      "227   | block6f_activation         (Activation            ) | False     | (None, None, None, 1152)\n",
      "228   | block6f_se_squeeze         (GlobalAveragePooling2D) | False     | (None, 1152)            \n",
      "229   | block6f_se_reshape         (Reshape               ) | False     | (None, 1, 1, 1152)      \n",
      "230   | block6f_se_reduce          (Conv2D                ) | False     | (None, 1, 1, 48)        \n",
      "231   | block6f_se_expand          (Conv2D                ) | False     | (None, 1, 1, 1152)      \n",
      "232   | block6f_se_excite          (Multiply              ) | False     | (None, None, None, 1152)\n",
      "233   | block6f_project_conv       (Conv2D                ) | False     | (None, None, None, 192) \n",
      "234   | block6f_project_bn         (BatchNormalization    ) | False     | (None, None, None, 192) \n",
      "235   | block6f_drop               (Dropout               ) | False     | (None, None, None, 192) \n",
      "236   | block6f_add                (Add                   ) | False     | (None, None, None, 192) \n",
      "237   | block6g_expand_conv        (Conv2D                ) | False     | (None, None, None, 1152)\n",
      "238   | block6g_expand_bn          (BatchNormalization    ) | False     | (None, None, None, 1152)\n",
      "239   | block6g_expand_activation  (Activation            ) | False     | (None, None, None, 1152)\n",
      "240   | block6g_dwconv2            (DepthwiseConv2D       ) | False     | (None, None, None, 1152)\n",
      "241   | block6g_bn                 (BatchNormalization    ) | False     | (None, None, None, 1152)\n",
      "242   | block6g_activation         (Activation            ) | False     | (None, None, None, 1152)\n",
      "243   | block6g_se_squeeze         (GlobalAveragePooling2D) | False     | (None, 1152)            \n",
      "244   | block6g_se_reshape         (Reshape               ) | False     | (None, 1, 1, 1152)      \n",
      "245   | block6g_se_reduce          (Conv2D                ) | False     | (None, 1, 1, 48)        \n",
      "246   | block6g_se_expand          (Conv2D                ) | False     | (None, 1, 1, 1152)      \n",
      "247   | block6g_se_excite          (Multiply              ) | False     | (None, None, None, 1152)\n",
      "248   | block6g_project_conv       (Conv2D                ) | False     | (None, None, None, 192) \n",
      "249   | block6g_project_bn         (BatchNormalization    ) | False     | (None, None, None, 192) \n",
      "250   | block6g_drop               (Dropout               ) | False     | (None, None, None, 192) \n",
      "251   | block6g_add                (Add                   ) | False     | (None, None, None, 192) \n",
      "252   | block6h_expand_conv        (Conv2D                ) | False     | (None, None, None, 1152)\n",
      "253   | block6h_expand_bn          (BatchNormalization    ) | False     | (None, None, None, 1152)\n",
      "254   | block6h_expand_activation  (Activation            ) | False     | (None, None, None, 1152)\n",
      "255   | block6h_dwconv2            (DepthwiseConv2D       ) | False     | (None, None, None, 1152)\n",
      "256   | block6h_bn                 (BatchNormalization    ) | False     | (None, None, None, 1152)\n",
      "257   | block6h_activation         (Activation            ) | False     | (None, None, None, 1152)\n",
      "258   | block6h_se_squeeze         (GlobalAveragePooling2D) | False     | (None, 1152)            \n",
      "259   | block6h_se_reshape         (Reshape               ) | False     | (None, 1, 1, 1152)      \n",
      "260   | block6h_se_reduce          (Conv2D                ) | True      | (None, 1, 1, 48)        \n",
      "261   | block6h_se_expand          (Conv2D                ) | True      | (None, 1, 1, 1152)      \n",
      "262   | block6h_se_excite          (Multiply              ) | True      | (None, None, None, 1152)\n",
      "263   | block6h_project_conv       (Conv2D                ) | True      | (None, None, None, 192) \n",
      "264   | block6h_project_bn         (BatchNormalization    ) | True      | (None, None, None, 192) \n",
      "265   | block6h_drop               (Dropout               ) | True      | (None, None, None, 192) \n",
      "266   | block6h_add                (Add                   ) | True      | (None, None, None, 192) \n",
      "267   | top_conv                   (Conv2D                ) | True      | (None, None, None, 1280)\n",
      "268   | top_bn                     (BatchNormalization    ) | True      | (None, None, None, 1280)\n",
      "269   | top_activation             (Activation            ) | True      | (None, None, None, 1280)\n"
     ]
    }
   ],
   "source": [
    "# 6. List all base layers and check if first 10 and last 10 are trainable\n",
    "mll.list_model(model=base_model, include_trainable=True, include_non_trainable=True)"
   ],
   "metadata": {
    "collapsed": false,
    "ExecuteTime": {
     "end_time": "2023-05-23T19:36:23.105811Z",
     "start_time": "2023-05-23T19:36:23.051402Z"
    }
   }
  },
  {
   "cell_type": "markdown",
   "source": [
    "## Complete Model\n",
    "\n",
    "Actions to perform:\n",
    "\n",
    "1. List all complete model layers, first 15 should be trainable and last 10\n",
    "2. Disable training completely and check layers, all layers should have training disabled\n",
    "3. Set first 10 layers te be trainable and list first 20 layers\n",
    "4. List all first 20 layers, trainable only\n",
    "5. List all first 20 layers, non-trainable only\n",
    "6. Set last 10 layers to be trainable and list last 20 layers\n",
    "7. List all layers and check if first 10 and last 10 are trainable\n",
    "9. List all base layers and check if first 10 and last 10 are trainable\n",
    "10. Save model\n",
    "11. Load model\n",
    "12. List all base layers and check if first 10 and last 10 are trainable"
   ],
   "metadata": {
    "collapsed": false
   }
  },
  {
   "cell_type": "code",
   "execution_count": 269,
   "outputs": [
    {
     "name": "stdout",
     "output_type": "stream",
     "text": [
      "Row   | Name (Type)                                         | Trainable | Output Shape\n",
      "0     | input_layer                (InputLayer            ) | True      | [(None, 224, 224, 3)]   \n",
      "1     | random_zoom_25             (RandomZoom            ) | True      | (None, 224, 224, 3)     \n",
      "2     | random_height_25           (RandomHeight          ) | True      | (None, None, 224, 3)    \n",
      "3     | random_width_25            (RandomWidth           ) | True      | (None, None, None, 3)   \n",
      "4     | random_rotation_25         (RandomRotation        ) | True      | (None, None, None, 3)   \n",
      "5     | input_17                   (InputLayer            ) | True      | [(None, None, None, 3)] \n",
      "6     | rescaling_16               (Rescaling             ) | True      | (None, None, None, 3)   \n",
      "7     | normalization_16           (Normalization         ) | True      | (None, None, None, 3)   \n",
      "8     | stem_conv                  (Conv2D                ) | True      | (None, None, None, 32)  \n",
      "9     | stem_bn                    (BatchNormalization    ) | True      | (None, None, None, 32)  \n",
      "10    | stem_activation            (Activation            ) | True      | (None, None, None, 32)  \n",
      "11    | block1a_project_conv       (Conv2D                ) | True      | (None, None, None, 16)  \n",
      "12    | block1a_project_bn         (BatchNormalization    ) | True      | (None, None, None, 16)  \n",
      "13    | block1a_project_activation (Activation            ) | True      | (None, None, None, 16)  \n",
      "14    | block2a_expand_conv        (Conv2D                ) | True      | (None, None, None, 64)  \n",
      "15    | block2a_expand_bn          (BatchNormalization    ) | False     | (None, None, None, 64)  \n",
      "16    | block2a_expand_activation  (Activation            ) | False     | (None, None, None, 64)  \n",
      "17    | block2a_project_conv       (Conv2D                ) | False     | (None, None, None, 32)  \n",
      "18    | block2a_project_bn         (BatchNormalization    ) | False     | (None, None, None, 32)  \n",
      "19    | block2b_expand_conv        (Conv2D                ) | False     | (None, None, None, 128) \n",
      "20    | block2b_expand_bn          (BatchNormalization    ) | False     | (None, None, None, 128) \n",
      "21    | block2b_expand_activation  (Activation            ) | False     | (None, None, None, 128) \n",
      "22    | block2b_project_conv       (Conv2D                ) | False     | (None, None, None, 32)  \n",
      "23    | block2b_project_bn         (BatchNormalization    ) | False     | (None, None, None, 32)  \n",
      "24    | block2b_drop               (Dropout               ) | False     | (None, None, None, 32)  \n",
      "25    | block2b_add                (Add                   ) | False     | (None, None, None, 32)  \n",
      "26    | block3a_expand_conv        (Conv2D                ) | False     | (None, None, None, 128) \n",
      "27    | block3a_expand_bn          (BatchNormalization    ) | False     | (None, None, None, 128) \n",
      "28    | block3a_expand_activation  (Activation            ) | False     | (None, None, None, 128) \n",
      "29    | block3a_project_conv       (Conv2D                ) | False     | (None, None, None, 48)  \n",
      "30    | block3a_project_bn         (BatchNormalization    ) | False     | (None, None, None, 48)  \n",
      "31    | block3b_expand_conv        (Conv2D                ) | False     | (None, None, None, 192) \n",
      "32    | block3b_expand_bn          (BatchNormalization    ) | False     | (None, None, None, 192) \n",
      "33    | block3b_expand_activation  (Activation            ) | False     | (None, None, None, 192) \n",
      "34    | block3b_project_conv       (Conv2D                ) | False     | (None, None, None, 48)  \n",
      "35    | block3b_project_bn         (BatchNormalization    ) | False     | (None, None, None, 48)  \n",
      "36    | block3b_drop               (Dropout               ) | False     | (None, None, None, 48)  \n",
      "37    | block3b_add                (Add                   ) | False     | (None, None, None, 48)  \n",
      "38    | block4a_expand_conv        (Conv2D                ) | False     | (None, None, None, 192) \n",
      "39    | block4a_expand_bn          (BatchNormalization    ) | False     | (None, None, None, 192) \n",
      "40    | block4a_expand_activation  (Activation            ) | False     | (None, None, None, 192) \n",
      "41    | block4a_dwconv2            (DepthwiseConv2D       ) | False     | (None, None, None, 192) \n",
      "42    | block4a_bn                 (BatchNormalization    ) | False     | (None, None, None, 192) \n",
      "43    | block4a_activation         (Activation            ) | False     | (None, None, None, 192) \n",
      "44    | block4a_se_squeeze         (GlobalAveragePooling2D) | False     | (None, 192)             \n",
      "45    | block4a_se_reshape         (Reshape               ) | False     | (None, 1, 1, 192)       \n",
      "46    | block4a_se_reduce          (Conv2D                ) | False     | (None, 1, 1, 12)        \n",
      "47    | block4a_se_expand          (Conv2D                ) | False     | (None, 1, 1, 192)       \n",
      "48    | block4a_se_excite          (Multiply              ) | False     | (None, None, None, 192) \n",
      "49    | block4a_project_conv       (Conv2D                ) | False     | (None, None, None, 96)  \n",
      "50    | block4a_project_bn         (BatchNormalization    ) | False     | (None, None, None, 96)  \n",
      "51    | block4b_expand_conv        (Conv2D                ) | False     | (None, None, None, 384) \n",
      "52    | block4b_expand_bn          (BatchNormalization    ) | False     | (None, None, None, 384) \n",
      "53    | block4b_expand_activation  (Activation            ) | False     | (None, None, None, 384) \n",
      "54    | block4b_dwconv2            (DepthwiseConv2D       ) | False     | (None, None, None, 384) \n",
      "55    | block4b_bn                 (BatchNormalization    ) | False     | (None, None, None, 384) \n",
      "56    | block4b_activation         (Activation            ) | False     | (None, None, None, 384) \n",
      "57    | block4b_se_squeeze         (GlobalAveragePooling2D) | False     | (None, 384)             \n",
      "58    | block4b_se_reshape         (Reshape               ) | False     | (None, 1, 1, 384)       \n",
      "59    | block4b_se_reduce          (Conv2D                ) | False     | (None, 1, 1, 24)        \n",
      "60    | block4b_se_expand          (Conv2D                ) | False     | (None, 1, 1, 384)       \n",
      "61    | block4b_se_excite          (Multiply              ) | False     | (None, None, None, 384) \n",
      "62    | block4b_project_conv       (Conv2D                ) | False     | (None, None, None, 96)  \n",
      "63    | block4b_project_bn         (BatchNormalization    ) | False     | (None, None, None, 96)  \n",
      "64    | block4b_drop               (Dropout               ) | False     | (None, None, None, 96)  \n",
      "65    | block4b_add                (Add                   ) | False     | (None, None, None, 96)  \n",
      "66    | block4c_expand_conv        (Conv2D                ) | False     | (None, None, None, 384) \n",
      "67    | block4c_expand_bn          (BatchNormalization    ) | False     | (None, None, None, 384) \n",
      "68    | block4c_expand_activation  (Activation            ) | False     | (None, None, None, 384) \n",
      "69    | block4c_dwconv2            (DepthwiseConv2D       ) | False     | (None, None, None, 384) \n",
      "70    | block4c_bn                 (BatchNormalization    ) | False     | (None, None, None, 384) \n",
      "71    | block4c_activation         (Activation            ) | False     | (None, None, None, 384) \n",
      "72    | block4c_se_squeeze         (GlobalAveragePooling2D) | False     | (None, 384)             \n",
      "73    | block4c_se_reshape         (Reshape               ) | False     | (None, 1, 1, 384)       \n",
      "74    | block4c_se_reduce          (Conv2D                ) | False     | (None, 1, 1, 24)        \n",
      "75    | block4c_se_expand          (Conv2D                ) | False     | (None, 1, 1, 384)       \n",
      "76    | block4c_se_excite          (Multiply              ) | False     | (None, None, None, 384) \n",
      "77    | block4c_project_conv       (Conv2D                ) | False     | (None, None, None, 96)  \n",
      "78    | block4c_project_bn         (BatchNormalization    ) | False     | (None, None, None, 96)  \n",
      "79    | block4c_drop               (Dropout               ) | False     | (None, None, None, 96)  \n",
      "80    | block4c_add                (Add                   ) | False     | (None, None, None, 96)  \n",
      "81    | block5a_expand_conv        (Conv2D                ) | False     | (None, None, None, 576) \n",
      "82    | block5a_expand_bn          (BatchNormalization    ) | False     | (None, None, None, 576) \n",
      "83    | block5a_expand_activation  (Activation            ) | False     | (None, None, None, 576) \n",
      "84    | block5a_dwconv2            (DepthwiseConv2D       ) | False     | (None, None, None, 576) \n",
      "85    | block5a_bn                 (BatchNormalization    ) | False     | (None, None, None, 576) \n",
      "86    | block5a_activation         (Activation            ) | False     | (None, None, None, 576) \n",
      "87    | block5a_se_squeeze         (GlobalAveragePooling2D) | False     | (None, 576)             \n",
      "88    | block5a_se_reshape         (Reshape               ) | False     | (None, 1, 1, 576)       \n",
      "89    | block5a_se_reduce          (Conv2D                ) | False     | (None, 1, 1, 24)        \n",
      "90    | block5a_se_expand          (Conv2D                ) | False     | (None, 1, 1, 576)       \n",
      "91    | block5a_se_excite          (Multiply              ) | False     | (None, None, None, 576) \n",
      "92    | block5a_project_conv       (Conv2D                ) | False     | (None, None, None, 112) \n",
      "93    | block5a_project_bn         (BatchNormalization    ) | False     | (None, None, None, 112) \n",
      "94    | block5b_expand_conv        (Conv2D                ) | False     | (None, None, None, 672) \n",
      "95    | block5b_expand_bn          (BatchNormalization    ) | False     | (None, None, None, 672) \n",
      "96    | block5b_expand_activation  (Activation            ) | False     | (None, None, None, 672) \n",
      "97    | block5b_dwconv2            (DepthwiseConv2D       ) | False     | (None, None, None, 672) \n",
      "98    | block5b_bn                 (BatchNormalization    ) | False     | (None, None, None, 672) \n",
      "99    | block5b_activation         (Activation            ) | False     | (None, None, None, 672) \n",
      "100   | block5b_se_squeeze         (GlobalAveragePooling2D) | False     | (None, 672)             \n",
      "101   | block5b_se_reshape         (Reshape               ) | False     | (None, 1, 1, 672)       \n",
      "102   | block5b_se_reduce          (Conv2D                ) | False     | (None, 1, 1, 28)        \n",
      "103   | block5b_se_expand          (Conv2D                ) | False     | (None, 1, 1, 672)       \n",
      "104   | block5b_se_excite          (Multiply              ) | False     | (None, None, None, 672) \n",
      "105   | block5b_project_conv       (Conv2D                ) | False     | (None, None, None, 112) \n",
      "106   | block5b_project_bn         (BatchNormalization    ) | False     | (None, None, None, 112) \n",
      "107   | block5b_drop               (Dropout               ) | False     | (None, None, None, 112) \n",
      "108   | block5b_add                (Add                   ) | False     | (None, None, None, 112) \n",
      "109   | block5c_expand_conv        (Conv2D                ) | False     | (None, None, None, 672) \n",
      "110   | block5c_expand_bn          (BatchNormalization    ) | False     | (None, None, None, 672) \n",
      "111   | block5c_expand_activation  (Activation            ) | False     | (None, None, None, 672) \n",
      "112   | block5c_dwconv2            (DepthwiseConv2D       ) | False     | (None, None, None, 672) \n",
      "113   | block5c_bn                 (BatchNormalization    ) | False     | (None, None, None, 672) \n",
      "114   | block5c_activation         (Activation            ) | False     | (None, None, None, 672) \n",
      "115   | block5c_se_squeeze         (GlobalAveragePooling2D) | False     | (None, 672)             \n",
      "116   | block5c_se_reshape         (Reshape               ) | False     | (None, 1, 1, 672)       \n",
      "117   | block5c_se_reduce          (Conv2D                ) | False     | (None, 1, 1, 28)        \n",
      "118   | block5c_se_expand          (Conv2D                ) | False     | (None, 1, 1, 672)       \n",
      "119   | block5c_se_excite          (Multiply              ) | False     | (None, None, None, 672) \n",
      "120   | block5c_project_conv       (Conv2D                ) | False     | (None, None, None, 112) \n",
      "121   | block5c_project_bn         (BatchNormalization    ) | False     | (None, None, None, 112) \n",
      "122   | block5c_drop               (Dropout               ) | False     | (None, None, None, 112) \n",
      "123   | block5c_add                (Add                   ) | False     | (None, None, None, 112) \n",
      "124   | block5d_expand_conv        (Conv2D                ) | False     | (None, None, None, 672) \n",
      "125   | block5d_expand_bn          (BatchNormalization    ) | False     | (None, None, None, 672) \n",
      "126   | block5d_expand_activation  (Activation            ) | False     | (None, None, None, 672) \n",
      "127   | block5d_dwconv2            (DepthwiseConv2D       ) | False     | (None, None, None, 672) \n",
      "128   | block5d_bn                 (BatchNormalization    ) | False     | (None, None, None, 672) \n",
      "129   | block5d_activation         (Activation            ) | False     | (None, None, None, 672) \n",
      "130   | block5d_se_squeeze         (GlobalAveragePooling2D) | False     | (None, 672)             \n",
      "131   | block5d_se_reshape         (Reshape               ) | False     | (None, 1, 1, 672)       \n",
      "132   | block5d_se_reduce          (Conv2D                ) | False     | (None, 1, 1, 28)        \n",
      "133   | block5d_se_expand          (Conv2D                ) | False     | (None, 1, 1, 672)       \n",
      "134   | block5d_se_excite          (Multiply              ) | False     | (None, None, None, 672) \n",
      "135   | block5d_project_conv       (Conv2D                ) | False     | (None, None, None, 112) \n",
      "136   | block5d_project_bn         (BatchNormalization    ) | False     | (None, None, None, 112) \n",
      "137   | block5d_drop               (Dropout               ) | False     | (None, None, None, 112) \n",
      "138   | block5d_add                (Add                   ) | False     | (None, None, None, 112) \n",
      "139   | block5e_expand_conv        (Conv2D                ) | False     | (None, None, None, 672) \n",
      "140   | block5e_expand_bn          (BatchNormalization    ) | False     | (None, None, None, 672) \n",
      "141   | block5e_expand_activation  (Activation            ) | False     | (None, None, None, 672) \n",
      "142   | block5e_dwconv2            (DepthwiseConv2D       ) | False     | (None, None, None, 672) \n",
      "143   | block5e_bn                 (BatchNormalization    ) | False     | (None, None, None, 672) \n",
      "144   | block5e_activation         (Activation            ) | False     | (None, None, None, 672) \n",
      "145   | block5e_se_squeeze         (GlobalAveragePooling2D) | False     | (None, 672)             \n",
      "146   | block5e_se_reshape         (Reshape               ) | False     | (None, 1, 1, 672)       \n",
      "147   | block5e_se_reduce          (Conv2D                ) | False     | (None, 1, 1, 28)        \n",
      "148   | block5e_se_expand          (Conv2D                ) | False     | (None, 1, 1, 672)       \n",
      "149   | block5e_se_excite          (Multiply              ) | False     | (None, None, None, 672) \n",
      "150   | block5e_project_conv       (Conv2D                ) | False     | (None, None, None, 112) \n",
      "151   | block5e_project_bn         (BatchNormalization    ) | False     | (None, None, None, 112) \n",
      "152   | block5e_drop               (Dropout               ) | False     | (None, None, None, 112) \n",
      "153   | block5e_add                (Add                   ) | False     | (None, None, None, 112) \n",
      "154   | block6a_expand_conv        (Conv2D                ) | False     | (None, None, None, 672) \n",
      "155   | block6a_expand_bn          (BatchNormalization    ) | False     | (None, None, None, 672) \n",
      "156   | block6a_expand_activation  (Activation            ) | False     | (None, None, None, 672) \n",
      "157   | block6a_dwconv2            (DepthwiseConv2D       ) | False     | (None, None, None, 672) \n",
      "158   | block6a_bn                 (BatchNormalization    ) | False     | (None, None, None, 672) \n",
      "159   | block6a_activation         (Activation            ) | False     | (None, None, None, 672) \n",
      "160   | block6a_se_squeeze         (GlobalAveragePooling2D) | False     | (None, 672)             \n",
      "161   | block6a_se_reshape         (Reshape               ) | False     | (None, 1, 1, 672)       \n",
      "162   | block6a_se_reduce          (Conv2D                ) | False     | (None, 1, 1, 28)        \n",
      "163   | block6a_se_expand          (Conv2D                ) | False     | (None, 1, 1, 672)       \n",
      "164   | block6a_se_excite          (Multiply              ) | False     | (None, None, None, 672) \n",
      "165   | block6a_project_conv       (Conv2D                ) | False     | (None, None, None, 192) \n",
      "166   | block6a_project_bn         (BatchNormalization    ) | False     | (None, None, None, 192) \n",
      "167   | block6b_expand_conv        (Conv2D                ) | False     | (None, None, None, 1152)\n",
      "168   | block6b_expand_bn          (BatchNormalization    ) | False     | (None, None, None, 1152)\n",
      "169   | block6b_expand_activation  (Activation            ) | False     | (None, None, None, 1152)\n",
      "170   | block6b_dwconv2            (DepthwiseConv2D       ) | False     | (None, None, None, 1152)\n",
      "171   | block6b_bn                 (BatchNormalization    ) | False     | (None, None, None, 1152)\n",
      "172   | block6b_activation         (Activation            ) | False     | (None, None, None, 1152)\n",
      "173   | block6b_se_squeeze         (GlobalAveragePooling2D) | False     | (None, 1152)            \n",
      "174   | block6b_se_reshape         (Reshape               ) | False     | (None, 1, 1, 1152)      \n",
      "175   | block6b_se_reduce          (Conv2D                ) | False     | (None, 1, 1, 48)        \n",
      "176   | block6b_se_expand          (Conv2D                ) | False     | (None, 1, 1, 1152)      \n",
      "177   | block6b_se_excite          (Multiply              ) | False     | (None, None, None, 1152)\n",
      "178   | block6b_project_conv       (Conv2D                ) | False     | (None, None, None, 192) \n",
      "179   | block6b_project_bn         (BatchNormalization    ) | False     | (None, None, None, 192) \n",
      "180   | block6b_drop               (Dropout               ) | False     | (None, None, None, 192) \n",
      "181   | block6b_add                (Add                   ) | False     | (None, None, None, 192) \n",
      "182   | block6c_expand_conv        (Conv2D                ) | False     | (None, None, None, 1152)\n",
      "183   | block6c_expand_bn          (BatchNormalization    ) | False     | (None, None, None, 1152)\n",
      "184   | block6c_expand_activation  (Activation            ) | False     | (None, None, None, 1152)\n",
      "185   | block6c_dwconv2            (DepthwiseConv2D       ) | False     | (None, None, None, 1152)\n",
      "186   | block6c_bn                 (BatchNormalization    ) | False     | (None, None, None, 1152)\n",
      "187   | block6c_activation         (Activation            ) | False     | (None, None, None, 1152)\n",
      "188   | block6c_se_squeeze         (GlobalAveragePooling2D) | False     | (None, 1152)            \n",
      "189   | block6c_se_reshape         (Reshape               ) | False     | (None, 1, 1, 1152)      \n",
      "190   | block6c_se_reduce          (Conv2D                ) | False     | (None, 1, 1, 48)        \n",
      "191   | block6c_se_expand          (Conv2D                ) | False     | (None, 1, 1, 1152)      \n",
      "192   | block6c_se_excite          (Multiply              ) | False     | (None, None, None, 1152)\n",
      "193   | block6c_project_conv       (Conv2D                ) | False     | (None, None, None, 192) \n",
      "194   | block6c_project_bn         (BatchNormalization    ) | False     | (None, None, None, 192) \n",
      "195   | block6c_drop               (Dropout               ) | False     | (None, None, None, 192) \n",
      "196   | block6c_add                (Add                   ) | False     | (None, None, None, 192) \n",
      "197   | block6d_expand_conv        (Conv2D                ) | False     | (None, None, None, 1152)\n",
      "198   | block6d_expand_bn          (BatchNormalization    ) | False     | (None, None, None, 1152)\n",
      "199   | block6d_expand_activation  (Activation            ) | False     | (None, None, None, 1152)\n",
      "200   | block6d_dwconv2            (DepthwiseConv2D       ) | False     | (None, None, None, 1152)\n",
      "201   | block6d_bn                 (BatchNormalization    ) | False     | (None, None, None, 1152)\n",
      "202   | block6d_activation         (Activation            ) | False     | (None, None, None, 1152)\n",
      "203   | block6d_se_squeeze         (GlobalAveragePooling2D) | False     | (None, 1152)            \n",
      "204   | block6d_se_reshape         (Reshape               ) | False     | (None, 1, 1, 1152)      \n",
      "205   | block6d_se_reduce          (Conv2D                ) | False     | (None, 1, 1, 48)        \n",
      "206   | block6d_se_expand          (Conv2D                ) | False     | (None, 1, 1, 1152)      \n",
      "207   | block6d_se_excite          (Multiply              ) | False     | (None, None, None, 1152)\n",
      "208   | block6d_project_conv       (Conv2D                ) | False     | (None, None, None, 192) \n",
      "209   | block6d_project_bn         (BatchNormalization    ) | False     | (None, None, None, 192) \n",
      "210   | block6d_drop               (Dropout               ) | False     | (None, None, None, 192) \n",
      "211   | block6d_add                (Add                   ) | False     | (None, None, None, 192) \n",
      "212   | block6e_expand_conv        (Conv2D                ) | False     | (None, None, None, 1152)\n",
      "213   | block6e_expand_bn          (BatchNormalization    ) | False     | (None, None, None, 1152)\n",
      "214   | block6e_expand_activation  (Activation            ) | False     | (None, None, None, 1152)\n",
      "215   | block6e_dwconv2            (DepthwiseConv2D       ) | False     | (None, None, None, 1152)\n",
      "216   | block6e_bn                 (BatchNormalization    ) | False     | (None, None, None, 1152)\n",
      "217   | block6e_activation         (Activation            ) | False     | (None, None, None, 1152)\n",
      "218   | block6e_se_squeeze         (GlobalAveragePooling2D) | False     | (None, 1152)            \n",
      "219   | block6e_se_reshape         (Reshape               ) | False     | (None, 1, 1, 1152)      \n",
      "220   | block6e_se_reduce          (Conv2D                ) | False     | (None, 1, 1, 48)        \n",
      "221   | block6e_se_expand          (Conv2D                ) | False     | (None, 1, 1, 1152)      \n",
      "222   | block6e_se_excite          (Multiply              ) | False     | (None, None, None, 1152)\n",
      "223   | block6e_project_conv       (Conv2D                ) | False     | (None, None, None, 192) \n",
      "224   | block6e_project_bn         (BatchNormalization    ) | False     | (None, None, None, 192) \n",
      "225   | block6e_drop               (Dropout               ) | False     | (None, None, None, 192) \n",
      "226   | block6e_add                (Add                   ) | False     | (None, None, None, 192) \n",
      "227   | block6f_expand_conv        (Conv2D                ) | False     | (None, None, None, 1152)\n",
      "228   | block6f_expand_bn          (BatchNormalization    ) | False     | (None, None, None, 1152)\n",
      "229   | block6f_expand_activation  (Activation            ) | False     | (None, None, None, 1152)\n",
      "230   | block6f_dwconv2            (DepthwiseConv2D       ) | False     | (None, None, None, 1152)\n",
      "231   | block6f_bn                 (BatchNormalization    ) | False     | (None, None, None, 1152)\n",
      "232   | block6f_activation         (Activation            ) | False     | (None, None, None, 1152)\n",
      "233   | block6f_se_squeeze         (GlobalAveragePooling2D) | False     | (None, 1152)            \n",
      "234   | block6f_se_reshape         (Reshape               ) | False     | (None, 1, 1, 1152)      \n",
      "235   | block6f_se_reduce          (Conv2D                ) | False     | (None, 1, 1, 48)        \n",
      "236   | block6f_se_expand          (Conv2D                ) | False     | (None, 1, 1, 1152)      \n",
      "237   | block6f_se_excite          (Multiply              ) | False     | (None, None, None, 1152)\n",
      "238   | block6f_project_conv       (Conv2D                ) | False     | (None, None, None, 192) \n",
      "239   | block6f_project_bn         (BatchNormalization    ) | False     | (None, None, None, 192) \n",
      "240   | block6f_drop               (Dropout               ) | False     | (None, None, None, 192) \n",
      "241   | block6f_add                (Add                   ) | False     | (None, None, None, 192) \n",
      "242   | block6g_expand_conv        (Conv2D                ) | False     | (None, None, None, 1152)\n",
      "243   | block6g_expand_bn          (BatchNormalization    ) | False     | (None, None, None, 1152)\n",
      "244   | block6g_expand_activation  (Activation            ) | False     | (None, None, None, 1152)\n",
      "245   | block6g_dwconv2            (DepthwiseConv2D       ) | False     | (None, None, None, 1152)\n",
      "246   | block6g_bn                 (BatchNormalization    ) | False     | (None, None, None, 1152)\n",
      "247   | block6g_activation         (Activation            ) | False     | (None, None, None, 1152)\n",
      "248   | block6g_se_squeeze         (GlobalAveragePooling2D) | False     | (None, 1152)            \n",
      "249   | block6g_se_reshape         (Reshape               ) | False     | (None, 1, 1, 1152)      \n",
      "250   | block6g_se_reduce          (Conv2D                ) | False     | (None, 1, 1, 48)        \n",
      "251   | block6g_se_expand          (Conv2D                ) | False     | (None, 1, 1, 1152)      \n",
      "252   | block6g_se_excite          (Multiply              ) | False     | (None, None, None, 1152)\n",
      "253   | block6g_project_conv       (Conv2D                ) | False     | (None, None, None, 192) \n",
      "254   | block6g_project_bn         (BatchNormalization    ) | False     | (None, None, None, 192) \n",
      "255   | block6g_drop               (Dropout               ) | False     | (None, None, None, 192) \n",
      "256   | block6g_add                (Add                   ) | False     | (None, None, None, 192) \n",
      "257   | block6h_expand_conv        (Conv2D                ) | False     | (None, None, None, 1152)\n",
      "258   | block6h_expand_bn          (BatchNormalization    ) | False     | (None, None, None, 1152)\n",
      "259   | block6h_expand_activation  (Activation            ) | False     | (None, None, None, 1152)\n",
      "260   | block6h_dwconv2            (DepthwiseConv2D       ) | False     | (None, None, None, 1152)\n",
      "261   | block6h_bn                 (BatchNormalization    ) | False     | (None, None, None, 1152)\n",
      "262   | block6h_activation         (Activation            ) | False     | (None, None, None, 1152)\n",
      "263   | block6h_se_squeeze         (GlobalAveragePooling2D) | False     | (None, 1152)            \n",
      "264   | block6h_se_reshape         (Reshape               ) | False     | (None, 1, 1, 1152)      \n",
      "265   | block6h_se_reduce          (Conv2D                ) | True      | (None, 1, 1, 48)        \n",
      "266   | block6h_se_expand          (Conv2D                ) | True      | (None, 1, 1, 1152)      \n",
      "267   | block6h_se_excite          (Multiply              ) | True      | (None, None, None, 1152)\n",
      "268   | block6h_project_conv       (Conv2D                ) | True      | (None, None, None, 192) \n",
      "269   | block6h_project_bn         (BatchNormalization    ) | True      | (None, None, None, 192) \n",
      "270   | block6h_drop               (Dropout               ) | True      | (None, None, None, 192) \n",
      "271   | block6h_add                (Add                   ) | True      | (None, None, None, 192) \n",
      "272   | top_conv                   (Conv2D                ) | True      | (None, None, None, 1280)\n",
      "273   | top_bn                     (BatchNormalization    ) | True      | (None, None, None, 1280)\n",
      "274   | top_activation             (Activation            ) | True      | (None, None, None, 1280)\n",
      "275   | global_average_pooling     (GlobalAveragePooling2D) | True      | (None, 1280)            \n",
      "276   | output_layer               (Dense                 ) | True      | (None, 10)              \n"
     ]
    }
   ],
   "source": [
    "# 1. List all complete model layers, first 15 should be trainable and last 10\n",
    "mll.list_model(model=model, recursive=True, include_trainable=True, include_non_trainable=True)"
   ],
   "metadata": {
    "collapsed": false,
    "ExecuteTime": {
     "end_time": "2023-05-23T19:36:23.197250Z",
     "start_time": "2023-05-23T19:36:23.106287Z"
    }
   }
  },
  {
   "cell_type": "code",
   "execution_count": 270,
   "outputs": [
    {
     "name": "stdout",
     "output_type": "stream",
     "text": [
      "Row   | Name (Type)                                         | Trainable | Output Shape\n",
      "0     | input_layer                (InputLayer            ) | False     | [(None, 224, 224, 3)]   \n",
      "1     | random_zoom_25             (RandomZoom            ) | False     | (None, 224, 224, 3)     \n",
      "2     | random_height_25           (RandomHeight          ) | False     | (None, None, 224, 3)    \n",
      "3     | random_width_25            (RandomWidth           ) | False     | (None, None, None, 3)   \n",
      "4     | random_rotation_25         (RandomRotation        ) | False     | (None, None, None, 3)   \n",
      "5     | input_17                   (InputLayer            ) | False     | [(None, None, None, 3)] \n",
      "6     | rescaling_16               (Rescaling             ) | False     | (None, None, None, 3)   \n",
      "7     | normalization_16           (Normalization         ) | False     | (None, None, None, 3)   \n",
      "8     | stem_conv                  (Conv2D                ) | False     | (None, None, None, 32)  \n",
      "9     | stem_bn                    (BatchNormalization    ) | False     | (None, None, None, 32)  \n",
      "10    | stem_activation            (Activation            ) | False     | (None, None, None, 32)  \n",
      "11    | block1a_project_conv       (Conv2D                ) | False     | (None, None, None, 16)  \n",
      "12    | block1a_project_bn         (BatchNormalization    ) | False     | (None, None, None, 16)  \n",
      "13    | block1a_project_activation (Activation            ) | False     | (None, None, None, 16)  \n",
      "14    | block2a_expand_conv        (Conv2D                ) | False     | (None, None, None, 64)  \n",
      "15    | block2a_expand_bn          (BatchNormalization    ) | False     | (None, None, None, 64)  \n",
      "16    | block2a_expand_activation  (Activation            ) | False     | (None, None, None, 64)  \n",
      "17    | block2a_project_conv       (Conv2D                ) | False     | (None, None, None, 32)  \n",
      "18    | block2a_project_bn         (BatchNormalization    ) | False     | (None, None, None, 32)  \n",
      "19    | block2b_expand_conv        (Conv2D                ) | False     | (None, None, None, 128) \n",
      "20    | block2b_expand_bn          (BatchNormalization    ) | False     | (None, None, None, 128) \n",
      "21    | block2b_expand_activation  (Activation            ) | False     | (None, None, None, 128) \n",
      "22    | block2b_project_conv       (Conv2D                ) | False     | (None, None, None, 32)  \n",
      "23    | block2b_project_bn         (BatchNormalization    ) | False     | (None, None, None, 32)  \n",
      "24    | block2b_drop               (Dropout               ) | False     | (None, None, None, 32)  \n",
      "25    | block2b_add                (Add                   ) | False     | (None, None, None, 32)  \n",
      "26    | block3a_expand_conv        (Conv2D                ) | False     | (None, None, None, 128) \n",
      "27    | block3a_expand_bn          (BatchNormalization    ) | False     | (None, None, None, 128) \n",
      "28    | block3a_expand_activation  (Activation            ) | False     | (None, None, None, 128) \n",
      "29    | block3a_project_conv       (Conv2D                ) | False     | (None, None, None, 48)  \n",
      "30    | block3a_project_bn         (BatchNormalization    ) | False     | (None, None, None, 48)  \n",
      "31    | block3b_expand_conv        (Conv2D                ) | False     | (None, None, None, 192) \n",
      "32    | block3b_expand_bn          (BatchNormalization    ) | False     | (None, None, None, 192) \n",
      "33    | block3b_expand_activation  (Activation            ) | False     | (None, None, None, 192) \n",
      "34    | block3b_project_conv       (Conv2D                ) | False     | (None, None, None, 48)  \n",
      "35    | block3b_project_bn         (BatchNormalization    ) | False     | (None, None, None, 48)  \n",
      "36    | block3b_drop               (Dropout               ) | False     | (None, None, None, 48)  \n",
      "37    | block3b_add                (Add                   ) | False     | (None, None, None, 48)  \n",
      "38    | block4a_expand_conv        (Conv2D                ) | False     | (None, None, None, 192) \n",
      "39    | block4a_expand_bn          (BatchNormalization    ) | False     | (None, None, None, 192) \n",
      "40    | block4a_expand_activation  (Activation            ) | False     | (None, None, None, 192) \n",
      "41    | block4a_dwconv2            (DepthwiseConv2D       ) | False     | (None, None, None, 192) \n",
      "42    | block4a_bn                 (BatchNormalization    ) | False     | (None, None, None, 192) \n",
      "43    | block4a_activation         (Activation            ) | False     | (None, None, None, 192) \n",
      "44    | block4a_se_squeeze         (GlobalAveragePooling2D) | False     | (None, 192)             \n",
      "45    | block4a_se_reshape         (Reshape               ) | False     | (None, 1, 1, 192)       \n",
      "46    | block4a_se_reduce          (Conv2D                ) | False     | (None, 1, 1, 12)        \n",
      "47    | block4a_se_expand          (Conv2D                ) | False     | (None, 1, 1, 192)       \n",
      "48    | block4a_se_excite          (Multiply              ) | False     | (None, None, None, 192) \n",
      "49    | block4a_project_conv       (Conv2D                ) | False     | (None, None, None, 96)  \n",
      "50    | block4a_project_bn         (BatchNormalization    ) | False     | (None, None, None, 96)  \n",
      "51    | block4b_expand_conv        (Conv2D                ) | False     | (None, None, None, 384) \n",
      "52    | block4b_expand_bn          (BatchNormalization    ) | False     | (None, None, None, 384) \n",
      "53    | block4b_expand_activation  (Activation            ) | False     | (None, None, None, 384) \n",
      "54    | block4b_dwconv2            (DepthwiseConv2D       ) | False     | (None, None, None, 384) \n",
      "55    | block4b_bn                 (BatchNormalization    ) | False     | (None, None, None, 384) \n",
      "56    | block4b_activation         (Activation            ) | False     | (None, None, None, 384) \n",
      "57    | block4b_se_squeeze         (GlobalAveragePooling2D) | False     | (None, 384)             \n",
      "58    | block4b_se_reshape         (Reshape               ) | False     | (None, 1, 1, 384)       \n",
      "59    | block4b_se_reduce          (Conv2D                ) | False     | (None, 1, 1, 24)        \n",
      "60    | block4b_se_expand          (Conv2D                ) | False     | (None, 1, 1, 384)       \n",
      "61    | block4b_se_excite          (Multiply              ) | False     | (None, None, None, 384) \n",
      "62    | block4b_project_conv       (Conv2D                ) | False     | (None, None, None, 96)  \n",
      "63    | block4b_project_bn         (BatchNormalization    ) | False     | (None, None, None, 96)  \n",
      "64    | block4b_drop               (Dropout               ) | False     | (None, None, None, 96)  \n",
      "65    | block4b_add                (Add                   ) | False     | (None, None, None, 96)  \n",
      "66    | block4c_expand_conv        (Conv2D                ) | False     | (None, None, None, 384) \n",
      "67    | block4c_expand_bn          (BatchNormalization    ) | False     | (None, None, None, 384) \n",
      "68    | block4c_expand_activation  (Activation            ) | False     | (None, None, None, 384) \n",
      "69    | block4c_dwconv2            (DepthwiseConv2D       ) | False     | (None, None, None, 384) \n",
      "70    | block4c_bn                 (BatchNormalization    ) | False     | (None, None, None, 384) \n",
      "71    | block4c_activation         (Activation            ) | False     | (None, None, None, 384) \n",
      "72    | block4c_se_squeeze         (GlobalAveragePooling2D) | False     | (None, 384)             \n",
      "73    | block4c_se_reshape         (Reshape               ) | False     | (None, 1, 1, 384)       \n",
      "74    | block4c_se_reduce          (Conv2D                ) | False     | (None, 1, 1, 24)        \n",
      "75    | block4c_se_expand          (Conv2D                ) | False     | (None, 1, 1, 384)       \n",
      "76    | block4c_se_excite          (Multiply              ) | False     | (None, None, None, 384) \n",
      "77    | block4c_project_conv       (Conv2D                ) | False     | (None, None, None, 96)  \n",
      "78    | block4c_project_bn         (BatchNormalization    ) | False     | (None, None, None, 96)  \n",
      "79    | block4c_drop               (Dropout               ) | False     | (None, None, None, 96)  \n",
      "80    | block4c_add                (Add                   ) | False     | (None, None, None, 96)  \n",
      "81    | block5a_expand_conv        (Conv2D                ) | False     | (None, None, None, 576) \n",
      "82    | block5a_expand_bn          (BatchNormalization    ) | False     | (None, None, None, 576) \n",
      "83    | block5a_expand_activation  (Activation            ) | False     | (None, None, None, 576) \n",
      "84    | block5a_dwconv2            (DepthwiseConv2D       ) | False     | (None, None, None, 576) \n",
      "85    | block5a_bn                 (BatchNormalization    ) | False     | (None, None, None, 576) \n",
      "86    | block5a_activation         (Activation            ) | False     | (None, None, None, 576) \n",
      "87    | block5a_se_squeeze         (GlobalAveragePooling2D) | False     | (None, 576)             \n",
      "88    | block5a_se_reshape         (Reshape               ) | False     | (None, 1, 1, 576)       \n",
      "89    | block5a_se_reduce          (Conv2D                ) | False     | (None, 1, 1, 24)        \n",
      "90    | block5a_se_expand          (Conv2D                ) | False     | (None, 1, 1, 576)       \n",
      "91    | block5a_se_excite          (Multiply              ) | False     | (None, None, None, 576) \n",
      "92    | block5a_project_conv       (Conv2D                ) | False     | (None, None, None, 112) \n",
      "93    | block5a_project_bn         (BatchNormalization    ) | False     | (None, None, None, 112) \n",
      "94    | block5b_expand_conv        (Conv2D                ) | False     | (None, None, None, 672) \n",
      "95    | block5b_expand_bn          (BatchNormalization    ) | False     | (None, None, None, 672) \n",
      "96    | block5b_expand_activation  (Activation            ) | False     | (None, None, None, 672) \n",
      "97    | block5b_dwconv2            (DepthwiseConv2D       ) | False     | (None, None, None, 672) \n",
      "98    | block5b_bn                 (BatchNormalization    ) | False     | (None, None, None, 672) \n",
      "99    | block5b_activation         (Activation            ) | False     | (None, None, None, 672) \n",
      "100   | block5b_se_squeeze         (GlobalAveragePooling2D) | False     | (None, 672)             \n",
      "101   | block5b_se_reshape         (Reshape               ) | False     | (None, 1, 1, 672)       \n",
      "102   | block5b_se_reduce          (Conv2D                ) | False     | (None, 1, 1, 28)        \n",
      "103   | block5b_se_expand          (Conv2D                ) | False     | (None, 1, 1, 672)       \n",
      "104   | block5b_se_excite          (Multiply              ) | False     | (None, None, None, 672) \n",
      "105   | block5b_project_conv       (Conv2D                ) | False     | (None, None, None, 112) \n",
      "106   | block5b_project_bn         (BatchNormalization    ) | False     | (None, None, None, 112) \n",
      "107   | block5b_drop               (Dropout               ) | False     | (None, None, None, 112) \n",
      "108   | block5b_add                (Add                   ) | False     | (None, None, None, 112) \n",
      "109   | block5c_expand_conv        (Conv2D                ) | False     | (None, None, None, 672) \n",
      "110   | block5c_expand_bn          (BatchNormalization    ) | False     | (None, None, None, 672) \n",
      "111   | block5c_expand_activation  (Activation            ) | False     | (None, None, None, 672) \n",
      "112   | block5c_dwconv2            (DepthwiseConv2D       ) | False     | (None, None, None, 672) \n",
      "113   | block5c_bn                 (BatchNormalization    ) | False     | (None, None, None, 672) \n",
      "114   | block5c_activation         (Activation            ) | False     | (None, None, None, 672) \n",
      "115   | block5c_se_squeeze         (GlobalAveragePooling2D) | False     | (None, 672)             \n",
      "116   | block5c_se_reshape         (Reshape               ) | False     | (None, 1, 1, 672)       \n",
      "117   | block5c_se_reduce          (Conv2D                ) | False     | (None, 1, 1, 28)        \n",
      "118   | block5c_se_expand          (Conv2D                ) | False     | (None, 1, 1, 672)       \n",
      "119   | block5c_se_excite          (Multiply              ) | False     | (None, None, None, 672) \n",
      "120   | block5c_project_conv       (Conv2D                ) | False     | (None, None, None, 112) \n",
      "121   | block5c_project_bn         (BatchNormalization    ) | False     | (None, None, None, 112) \n",
      "122   | block5c_drop               (Dropout               ) | False     | (None, None, None, 112) \n",
      "123   | block5c_add                (Add                   ) | False     | (None, None, None, 112) \n",
      "124   | block5d_expand_conv        (Conv2D                ) | False     | (None, None, None, 672) \n",
      "125   | block5d_expand_bn          (BatchNormalization    ) | False     | (None, None, None, 672) \n",
      "126   | block5d_expand_activation  (Activation            ) | False     | (None, None, None, 672) \n",
      "127   | block5d_dwconv2            (DepthwiseConv2D       ) | False     | (None, None, None, 672) \n",
      "128   | block5d_bn                 (BatchNormalization    ) | False     | (None, None, None, 672) \n",
      "129   | block5d_activation         (Activation            ) | False     | (None, None, None, 672) \n",
      "130   | block5d_se_squeeze         (GlobalAveragePooling2D) | False     | (None, 672)             \n",
      "131   | block5d_se_reshape         (Reshape               ) | False     | (None, 1, 1, 672)       \n",
      "132   | block5d_se_reduce          (Conv2D                ) | False     | (None, 1, 1, 28)        \n",
      "133   | block5d_se_expand          (Conv2D                ) | False     | (None, 1, 1, 672)       \n",
      "134   | block5d_se_excite          (Multiply              ) | False     | (None, None, None, 672) \n",
      "135   | block5d_project_conv       (Conv2D                ) | False     | (None, None, None, 112) \n",
      "136   | block5d_project_bn         (BatchNormalization    ) | False     | (None, None, None, 112) \n",
      "137   | block5d_drop               (Dropout               ) | False     | (None, None, None, 112) \n",
      "138   | block5d_add                (Add                   ) | False     | (None, None, None, 112) \n",
      "139   | block5e_expand_conv        (Conv2D                ) | False     | (None, None, None, 672) \n",
      "140   | block5e_expand_bn          (BatchNormalization    ) | False     | (None, None, None, 672) \n",
      "141   | block5e_expand_activation  (Activation            ) | False     | (None, None, None, 672) \n",
      "142   | block5e_dwconv2            (DepthwiseConv2D       ) | False     | (None, None, None, 672) \n",
      "143   | block5e_bn                 (BatchNormalization    ) | False     | (None, None, None, 672) \n",
      "144   | block5e_activation         (Activation            ) | False     | (None, None, None, 672) \n",
      "145   | block5e_se_squeeze         (GlobalAveragePooling2D) | False     | (None, 672)             \n",
      "146   | block5e_se_reshape         (Reshape               ) | False     | (None, 1, 1, 672)       \n",
      "147   | block5e_se_reduce          (Conv2D                ) | False     | (None, 1, 1, 28)        \n",
      "148   | block5e_se_expand          (Conv2D                ) | False     | (None, 1, 1, 672)       \n",
      "149   | block5e_se_excite          (Multiply              ) | False     | (None, None, None, 672) \n",
      "150   | block5e_project_conv       (Conv2D                ) | False     | (None, None, None, 112) \n",
      "151   | block5e_project_bn         (BatchNormalization    ) | False     | (None, None, None, 112) \n",
      "152   | block5e_drop               (Dropout               ) | False     | (None, None, None, 112) \n",
      "153   | block5e_add                (Add                   ) | False     | (None, None, None, 112) \n",
      "154   | block6a_expand_conv        (Conv2D                ) | False     | (None, None, None, 672) \n",
      "155   | block6a_expand_bn          (BatchNormalization    ) | False     | (None, None, None, 672) \n",
      "156   | block6a_expand_activation  (Activation            ) | False     | (None, None, None, 672) \n",
      "157   | block6a_dwconv2            (DepthwiseConv2D       ) | False     | (None, None, None, 672) \n",
      "158   | block6a_bn                 (BatchNormalization    ) | False     | (None, None, None, 672) \n",
      "159   | block6a_activation         (Activation            ) | False     | (None, None, None, 672) \n",
      "160   | block6a_se_squeeze         (GlobalAveragePooling2D) | False     | (None, 672)             \n",
      "161   | block6a_se_reshape         (Reshape               ) | False     | (None, 1, 1, 672)       \n",
      "162   | block6a_se_reduce          (Conv2D                ) | False     | (None, 1, 1, 28)        \n",
      "163   | block6a_se_expand          (Conv2D                ) | False     | (None, 1, 1, 672)       \n",
      "164   | block6a_se_excite          (Multiply              ) | False     | (None, None, None, 672) \n",
      "165   | block6a_project_conv       (Conv2D                ) | False     | (None, None, None, 192) \n",
      "166   | block6a_project_bn         (BatchNormalization    ) | False     | (None, None, None, 192) \n",
      "167   | block6b_expand_conv        (Conv2D                ) | False     | (None, None, None, 1152)\n",
      "168   | block6b_expand_bn          (BatchNormalization    ) | False     | (None, None, None, 1152)\n",
      "169   | block6b_expand_activation  (Activation            ) | False     | (None, None, None, 1152)\n",
      "170   | block6b_dwconv2            (DepthwiseConv2D       ) | False     | (None, None, None, 1152)\n",
      "171   | block6b_bn                 (BatchNormalization    ) | False     | (None, None, None, 1152)\n",
      "172   | block6b_activation         (Activation            ) | False     | (None, None, None, 1152)\n",
      "173   | block6b_se_squeeze         (GlobalAveragePooling2D) | False     | (None, 1152)            \n",
      "174   | block6b_se_reshape         (Reshape               ) | False     | (None, 1, 1, 1152)      \n",
      "175   | block6b_se_reduce          (Conv2D                ) | False     | (None, 1, 1, 48)        \n",
      "176   | block6b_se_expand          (Conv2D                ) | False     | (None, 1, 1, 1152)      \n",
      "177   | block6b_se_excite          (Multiply              ) | False     | (None, None, None, 1152)\n",
      "178   | block6b_project_conv       (Conv2D                ) | False     | (None, None, None, 192) \n",
      "179   | block6b_project_bn         (BatchNormalization    ) | False     | (None, None, None, 192) \n",
      "180   | block6b_drop               (Dropout               ) | False     | (None, None, None, 192) \n",
      "181   | block6b_add                (Add                   ) | False     | (None, None, None, 192) \n",
      "182   | block6c_expand_conv        (Conv2D                ) | False     | (None, None, None, 1152)\n",
      "183   | block6c_expand_bn          (BatchNormalization    ) | False     | (None, None, None, 1152)\n",
      "184   | block6c_expand_activation  (Activation            ) | False     | (None, None, None, 1152)\n",
      "185   | block6c_dwconv2            (DepthwiseConv2D       ) | False     | (None, None, None, 1152)\n",
      "186   | block6c_bn                 (BatchNormalization    ) | False     | (None, None, None, 1152)\n",
      "187   | block6c_activation         (Activation            ) | False     | (None, None, None, 1152)\n",
      "188   | block6c_se_squeeze         (GlobalAveragePooling2D) | False     | (None, 1152)            \n",
      "189   | block6c_se_reshape         (Reshape               ) | False     | (None, 1, 1, 1152)      \n",
      "190   | block6c_se_reduce          (Conv2D                ) | False     | (None, 1, 1, 48)        \n",
      "191   | block6c_se_expand          (Conv2D                ) | False     | (None, 1, 1, 1152)      \n",
      "192   | block6c_se_excite          (Multiply              ) | False     | (None, None, None, 1152)\n",
      "193   | block6c_project_conv       (Conv2D                ) | False     | (None, None, None, 192) \n",
      "194   | block6c_project_bn         (BatchNormalization    ) | False     | (None, None, None, 192) \n",
      "195   | block6c_drop               (Dropout               ) | False     | (None, None, None, 192) \n",
      "196   | block6c_add                (Add                   ) | False     | (None, None, None, 192) \n",
      "197   | block6d_expand_conv        (Conv2D                ) | False     | (None, None, None, 1152)\n",
      "198   | block6d_expand_bn          (BatchNormalization    ) | False     | (None, None, None, 1152)\n",
      "199   | block6d_expand_activation  (Activation            ) | False     | (None, None, None, 1152)\n",
      "200   | block6d_dwconv2            (DepthwiseConv2D       ) | False     | (None, None, None, 1152)\n",
      "201   | block6d_bn                 (BatchNormalization    ) | False     | (None, None, None, 1152)\n",
      "202   | block6d_activation         (Activation            ) | False     | (None, None, None, 1152)\n",
      "203   | block6d_se_squeeze         (GlobalAveragePooling2D) | False     | (None, 1152)            \n",
      "204   | block6d_se_reshape         (Reshape               ) | False     | (None, 1, 1, 1152)      \n",
      "205   | block6d_se_reduce          (Conv2D                ) | False     | (None, 1, 1, 48)        \n",
      "206   | block6d_se_expand          (Conv2D                ) | False     | (None, 1, 1, 1152)      \n",
      "207   | block6d_se_excite          (Multiply              ) | False     | (None, None, None, 1152)\n",
      "208   | block6d_project_conv       (Conv2D                ) | False     | (None, None, None, 192) \n",
      "209   | block6d_project_bn         (BatchNormalization    ) | False     | (None, None, None, 192) \n",
      "210   | block6d_drop               (Dropout               ) | False     | (None, None, None, 192) \n",
      "211   | block6d_add                (Add                   ) | False     | (None, None, None, 192) \n",
      "212   | block6e_expand_conv        (Conv2D                ) | False     | (None, None, None, 1152)\n",
      "213   | block6e_expand_bn          (BatchNormalization    ) | False     | (None, None, None, 1152)\n",
      "214   | block6e_expand_activation  (Activation            ) | False     | (None, None, None, 1152)\n",
      "215   | block6e_dwconv2            (DepthwiseConv2D       ) | False     | (None, None, None, 1152)\n",
      "216   | block6e_bn                 (BatchNormalization    ) | False     | (None, None, None, 1152)\n",
      "217   | block6e_activation         (Activation            ) | False     | (None, None, None, 1152)\n",
      "218   | block6e_se_squeeze         (GlobalAveragePooling2D) | False     | (None, 1152)            \n",
      "219   | block6e_se_reshape         (Reshape               ) | False     | (None, 1, 1, 1152)      \n",
      "220   | block6e_se_reduce          (Conv2D                ) | False     | (None, 1, 1, 48)        \n",
      "221   | block6e_se_expand          (Conv2D                ) | False     | (None, 1, 1, 1152)      \n",
      "222   | block6e_se_excite          (Multiply              ) | False     | (None, None, None, 1152)\n",
      "223   | block6e_project_conv       (Conv2D                ) | False     | (None, None, None, 192) \n",
      "224   | block6e_project_bn         (BatchNormalization    ) | False     | (None, None, None, 192) \n",
      "225   | block6e_drop               (Dropout               ) | False     | (None, None, None, 192) \n",
      "226   | block6e_add                (Add                   ) | False     | (None, None, None, 192) \n",
      "227   | block6f_expand_conv        (Conv2D                ) | False     | (None, None, None, 1152)\n",
      "228   | block6f_expand_bn          (BatchNormalization    ) | False     | (None, None, None, 1152)\n",
      "229   | block6f_expand_activation  (Activation            ) | False     | (None, None, None, 1152)\n",
      "230   | block6f_dwconv2            (DepthwiseConv2D       ) | False     | (None, None, None, 1152)\n",
      "231   | block6f_bn                 (BatchNormalization    ) | False     | (None, None, None, 1152)\n",
      "232   | block6f_activation         (Activation            ) | False     | (None, None, None, 1152)\n",
      "233   | block6f_se_squeeze         (GlobalAveragePooling2D) | False     | (None, 1152)            \n",
      "234   | block6f_se_reshape         (Reshape               ) | False     | (None, 1, 1, 1152)      \n",
      "235   | block6f_se_reduce          (Conv2D                ) | False     | (None, 1, 1, 48)        \n",
      "236   | block6f_se_expand          (Conv2D                ) | False     | (None, 1, 1, 1152)      \n",
      "237   | block6f_se_excite          (Multiply              ) | False     | (None, None, None, 1152)\n",
      "238   | block6f_project_conv       (Conv2D                ) | False     | (None, None, None, 192) \n",
      "239   | block6f_project_bn         (BatchNormalization    ) | False     | (None, None, None, 192) \n",
      "240   | block6f_drop               (Dropout               ) | False     | (None, None, None, 192) \n",
      "241   | block6f_add                (Add                   ) | False     | (None, None, None, 192) \n",
      "242   | block6g_expand_conv        (Conv2D                ) | False     | (None, None, None, 1152)\n",
      "243   | block6g_expand_bn          (BatchNormalization    ) | False     | (None, None, None, 1152)\n",
      "244   | block6g_expand_activation  (Activation            ) | False     | (None, None, None, 1152)\n",
      "245   | block6g_dwconv2            (DepthwiseConv2D       ) | False     | (None, None, None, 1152)\n",
      "246   | block6g_bn                 (BatchNormalization    ) | False     | (None, None, None, 1152)\n",
      "247   | block6g_activation         (Activation            ) | False     | (None, None, None, 1152)\n",
      "248   | block6g_se_squeeze         (GlobalAveragePooling2D) | False     | (None, 1152)            \n",
      "249   | block6g_se_reshape         (Reshape               ) | False     | (None, 1, 1, 1152)      \n",
      "250   | block6g_se_reduce          (Conv2D                ) | False     | (None, 1, 1, 48)        \n",
      "251   | block6g_se_expand          (Conv2D                ) | False     | (None, 1, 1, 1152)      \n",
      "252   | block6g_se_excite          (Multiply              ) | False     | (None, None, None, 1152)\n",
      "253   | block6g_project_conv       (Conv2D                ) | False     | (None, None, None, 192) \n",
      "254   | block6g_project_bn         (BatchNormalization    ) | False     | (None, None, None, 192) \n",
      "255   | block6g_drop               (Dropout               ) | False     | (None, None, None, 192) \n",
      "256   | block6g_add                (Add                   ) | False     | (None, None, None, 192) \n",
      "257   | block6h_expand_conv        (Conv2D                ) | False     | (None, None, None, 1152)\n",
      "258   | block6h_expand_bn          (BatchNormalization    ) | False     | (None, None, None, 1152)\n",
      "259   | block6h_expand_activation  (Activation            ) | False     | (None, None, None, 1152)\n",
      "260   | block6h_dwconv2            (DepthwiseConv2D       ) | False     | (None, None, None, 1152)\n",
      "261   | block6h_bn                 (BatchNormalization    ) | False     | (None, None, None, 1152)\n",
      "262   | block6h_activation         (Activation            ) | False     | (None, None, None, 1152)\n",
      "263   | block6h_se_squeeze         (GlobalAveragePooling2D) | False     | (None, 1152)            \n",
      "264   | block6h_se_reshape         (Reshape               ) | False     | (None, 1, 1, 1152)      \n",
      "265   | block6h_se_reduce          (Conv2D                ) | False     | (None, 1, 1, 48)        \n",
      "266   | block6h_se_expand          (Conv2D                ) | False     | (None, 1, 1, 1152)      \n",
      "267   | block6h_se_excite          (Multiply              ) | False     | (None, None, None, 1152)\n",
      "268   | block6h_project_conv       (Conv2D                ) | False     | (None, None, None, 192) \n",
      "269   | block6h_project_bn         (BatchNormalization    ) | False     | (None, None, None, 192) \n",
      "270   | block6h_drop               (Dropout               ) | False     | (None, None, None, 192) \n",
      "271   | block6h_add                (Add                   ) | False     | (None, None, None, 192) \n",
      "272   | top_conv                   (Conv2D                ) | False     | (None, None, None, 1280)\n",
      "273   | top_bn                     (BatchNormalization    ) | False     | (None, None, None, 1280)\n",
      "274   | top_activation             (Activation            ) | False     | (None, None, None, 1280)\n",
      "275   | global_average_pooling     (GlobalAveragePooling2D) | False     | (None, 1280)            \n",
      "276   | output_layer               (Dense                 ) | False     | (None, 10)              \n"
     ]
    }
   ],
   "source": [
    "# 2. Disable training completely and check layers, all layers should have training disabled\n",
    "model.trainable = False\n",
    "mll.list_model(model=model, recursive=True, include_trainable=True, include_non_trainable=True)"
   ],
   "metadata": {
    "collapsed": false,
    "ExecuteTime": {
     "end_time": "2023-05-23T19:36:23.269529Z",
     "start_time": "2023-05-23T19:36:23.160724Z"
    }
   }
  },
  {
   "cell_type": "code",
   "execution_count": 271,
   "outputs": [
    {
     "name": "stdout",
     "output_type": "stream",
     "text": [
      "Row   | Name (Type)                                     | Trainable | Output Shape\n",
      "0     | input_layer                (InputLayer        ) | True      | [(None, 224, 224, 3)]  \n",
      "1     | random_zoom_25             (RandomZoom        ) | True      | (None, 224, 224, 3)    \n",
      "2     | random_height_25           (RandomHeight      ) | True      | (None, None, 224, 3)   \n",
      "3     | random_width_25            (RandomWidth       ) | True      | (None, None, None, 3)  \n",
      "4     | random_rotation_25         (RandomRotation    ) | True      | (None, None, None, 3)  \n",
      "5     | input_17                   (InputLayer        ) | True      | [(None, None, None, 3)]\n",
      "6     | rescaling_16               (Rescaling         ) | True      | (None, None, None, 3)  \n",
      "7     | normalization_16           (Normalization     ) | True      | (None, None, None, 3)  \n",
      "8     | stem_conv                  (Conv2D            ) | True      | (None, None, None, 32) \n",
      "9     | stem_bn                    (BatchNormalization) | True      | (None, None, None, 32) \n",
      "10    | stem_activation            (Activation        ) | False     | (None, None, None, 32) \n",
      "11    | block1a_project_conv       (Conv2D            ) | False     | (None, None, None, 16) \n",
      "12    | block1a_project_bn         (BatchNormalization) | False     | (None, None, None, 16) \n",
      "13    | block1a_project_activation (Activation        ) | False     | (None, None, None, 16) \n",
      "14    | block2a_expand_conv        (Conv2D            ) | False     | (None, None, None, 64) \n",
      "15    | block2a_expand_bn          (BatchNormalization) | False     | (None, None, None, 64) \n",
      "16    | block2a_expand_activation  (Activation        ) | False     | (None, None, None, 64) \n",
      "17    | block2a_project_conv       (Conv2D            ) | False     | (None, None, None, 32) \n",
      "18    | block2a_project_bn         (BatchNormalization) | False     | (None, None, None, 32) \n",
      "19    | block2b_expand_conv        (Conv2D            ) | False     | (None, None, None, 128)\n"
     ]
    }
   ],
   "source": [
    "# 3. Set first 10 layers te be trainable and list first 20 layers\n",
    "mll.set_trainable_on_first_n_layers(model=model, n=10, trainable=True)\n",
    "\n",
    "layers = mll.collect_layers(model=model)\n",
    "mll.list_layers(layers[:20], include_trainable=True, include_non_trainable=True)"
   ],
   "metadata": {
    "collapsed": false,
    "ExecuteTime": {
     "end_time": "2023-05-23T19:36:23.323580Z",
     "start_time": "2023-05-23T19:36:23.269973Z"
    }
   }
  },
  {
   "cell_type": "code",
   "execution_count": 272,
   "outputs": [
    {
     "name": "stdout",
     "output_type": "stream",
     "text": [
      "Row   | Name (Type)                                     | Trainable | Output Shape\n",
      "0     | input_layer                (InputLayer        ) | True      | [(None, 224, 224, 3)]  \n",
      "1     | random_zoom_25             (RandomZoom        ) | True      | (None, 224, 224, 3)    \n",
      "2     | random_height_25           (RandomHeight      ) | True      | (None, None, 224, 3)   \n",
      "3     | random_width_25            (RandomWidth       ) | True      | (None, None, None, 3)  \n",
      "4     | random_rotation_25         (RandomRotation    ) | True      | (None, None, None, 3)  \n",
      "5     | input_17                   (InputLayer        ) | True      | [(None, None, None, 3)]\n",
      "6     | rescaling_16               (Rescaling         ) | True      | (None, None, None, 3)  \n",
      "7     | normalization_16           (Normalization     ) | True      | (None, None, None, 3)  \n",
      "8     | stem_conv                  (Conv2D            ) | True      | (None, None, None, 32) \n",
      "9     | stem_bn                    (BatchNormalization) | True      | (None, None, None, 32) \n"
     ]
    }
   ],
   "source": [
    "# 4. List all first 20 layers, trainable only\n",
    "mll.list_layers(layers[:20], include_trainable=True, include_non_trainable=False)"
   ],
   "metadata": {
    "collapsed": false,
    "ExecuteTime": {
     "end_time": "2023-05-23T19:36:23.451816Z",
     "start_time": "2023-05-23T19:36:23.401229Z"
    }
   }
  },
  {
   "cell_type": "code",
   "execution_count": 273,
   "outputs": [
    {
     "name": "stdout",
     "output_type": "stream",
     "text": [
      "Row   | Name (Type)                                     | Trainable | Output Shape\n",
      "10    | stem_activation            (Activation        ) | False     | (None, None, None, 32) \n",
      "11    | block1a_project_conv       (Conv2D            ) | False     | (None, None, None, 16) \n",
      "12    | block1a_project_bn         (BatchNormalization) | False     | (None, None, None, 16) \n",
      "13    | block1a_project_activation (Activation        ) | False     | (None, None, None, 16) \n",
      "14    | block2a_expand_conv        (Conv2D            ) | False     | (None, None, None, 64) \n",
      "15    | block2a_expand_bn          (BatchNormalization) | False     | (None, None, None, 64) \n",
      "16    | block2a_expand_activation  (Activation        ) | False     | (None, None, None, 64) \n",
      "17    | block2a_project_conv       (Conv2D            ) | False     | (None, None, None, 32) \n",
      "18    | block2a_project_bn         (BatchNormalization) | False     | (None, None, None, 32) \n",
      "19    | block2b_expand_conv        (Conv2D            ) | False     | (None, None, None, 128)\n"
     ]
    }
   ],
   "source": [
    "# 5. List all first 20 layers, non-trainable only\n",
    "mll.list_layers(layers[:20], include_trainable=False, include_non_trainable=True)"
   ],
   "metadata": {
    "collapsed": false,
    "ExecuteTime": {
     "end_time": "2023-05-23T19:36:23.724096Z",
     "start_time": "2023-05-23T19:36:23.561057Z"
    }
   }
  },
  {
   "cell_type": "code",
   "execution_count": 274,
   "outputs": [
    {
     "name": "stdout",
     "output_type": "stream",
     "text": [
      "Row   | Name (Type)                                        | Trainable | Output Shape\n",
      "0     | block6h_expand_conv       (Conv2D                ) | False     | (None, None, None, 1152)\n",
      "1     | block6h_expand_bn         (BatchNormalization    ) | False     | (None, None, None, 1152)\n",
      "2     | block6h_expand_activation (Activation            ) | False     | (None, None, None, 1152)\n",
      "3     | block6h_dwconv2           (DepthwiseConv2D       ) | False     | (None, None, None, 1152)\n",
      "4     | block6h_bn                (BatchNormalization    ) | False     | (None, None, None, 1152)\n",
      "5     | block6h_activation        (Activation            ) | False     | (None, None, None, 1152)\n",
      "6     | block6h_se_squeeze        (GlobalAveragePooling2D) | False     | (None, 1152)            \n",
      "7     | block6h_se_reshape        (Reshape               ) | False     | (None, 1, 1, 1152)      \n",
      "8     | block6h_se_reduce         (Conv2D                ) | False     | (None, 1, 1, 48)        \n",
      "9     | block6h_se_expand         (Conv2D                ) | False     | (None, 1, 1, 1152)      \n",
      "10    | block6h_se_excite         (Multiply              ) | True      | (None, None, None, 1152)\n",
      "11    | block6h_project_conv      (Conv2D                ) | True      | (None, None, None, 192) \n",
      "12    | block6h_project_bn        (BatchNormalization    ) | True      | (None, None, None, 192) \n",
      "13    | block6h_drop              (Dropout               ) | True      | (None, None, None, 192) \n",
      "14    | block6h_add               (Add                   ) | True      | (None, None, None, 192) \n",
      "15    | top_conv                  (Conv2D                ) | True      | (None, None, None, 1280)\n",
      "16    | top_bn                    (BatchNormalization    ) | True      | (None, None, None, 1280)\n",
      "17    | top_activation            (Activation            ) | True      | (None, None, None, 1280)\n",
      "18    | global_average_pooling    (GlobalAveragePooling2D) | True      | (None, 1280)            \n",
      "19    | output_layer              (Dense                 ) | True      | (None, 10)              \n"
     ]
    }
   ],
   "source": [
    "# 6. Set last 10 layers to be trainable and list last 20 layers\n",
    "mll.set_trainable_on_last_n_layers(model=model, n=10, trainable=True)\n",
    "\n",
    "layers = mll.collect_layers(model=model)\n",
    "mll.list_layers(layers[-20:], include_trainable=True, include_non_trainable=True)"
   ],
   "metadata": {
    "collapsed": false,
    "ExecuteTime": {
     "end_time": "2023-05-23T19:36:23.799546Z",
     "start_time": "2023-05-23T19:36:23.744503Z"
    }
   }
  },
  {
   "cell_type": "code",
   "execution_count": 275,
   "outputs": [
    {
     "name": "stdout",
     "output_type": "stream",
     "text": [
      "Row   | Name (Type)                                         | Trainable | Output Shape\n",
      "0     | input_layer                (InputLayer            ) | True      | [(None, 224, 224, 3)]   \n",
      "1     | random_zoom_25             (RandomZoom            ) | True      | (None, 224, 224, 3)     \n",
      "2     | random_height_25           (RandomHeight          ) | True      | (None, None, 224, 3)    \n",
      "3     | random_width_25            (RandomWidth           ) | True      | (None, None, None, 3)   \n",
      "4     | random_rotation_25         (RandomRotation        ) | True      | (None, None, None, 3)   \n",
      "5     | input_17                   (InputLayer            ) | True      | [(None, None, None, 3)] \n",
      "6     | rescaling_16               (Rescaling             ) | True      | (None, None, None, 3)   \n",
      "7     | normalization_16           (Normalization         ) | True      | (None, None, None, 3)   \n",
      "8     | stem_conv                  (Conv2D                ) | True      | (None, None, None, 32)  \n",
      "9     | stem_bn                    (BatchNormalization    ) | True      | (None, None, None, 32)  \n",
      "10    | stem_activation            (Activation            ) | False     | (None, None, None, 32)  \n",
      "11    | block1a_project_conv       (Conv2D                ) | False     | (None, None, None, 16)  \n",
      "12    | block1a_project_bn         (BatchNormalization    ) | False     | (None, None, None, 16)  \n",
      "13    | block1a_project_activation (Activation            ) | False     | (None, None, None, 16)  \n",
      "14    | block2a_expand_conv        (Conv2D                ) | False     | (None, None, None, 64)  \n",
      "15    | block2a_expand_bn          (BatchNormalization    ) | False     | (None, None, None, 64)  \n",
      "16    | block2a_expand_activation  (Activation            ) | False     | (None, None, None, 64)  \n",
      "17    | block2a_project_conv       (Conv2D                ) | False     | (None, None, None, 32)  \n",
      "18    | block2a_project_bn         (BatchNormalization    ) | False     | (None, None, None, 32)  \n",
      "19    | block2b_expand_conv        (Conv2D                ) | False     | (None, None, None, 128) \n",
      "20    | block2b_expand_bn          (BatchNormalization    ) | False     | (None, None, None, 128) \n",
      "21    | block2b_expand_activation  (Activation            ) | False     | (None, None, None, 128) \n",
      "22    | block2b_project_conv       (Conv2D                ) | False     | (None, None, None, 32)  \n",
      "23    | block2b_project_bn         (BatchNormalization    ) | False     | (None, None, None, 32)  \n",
      "24    | block2b_drop               (Dropout               ) | False     | (None, None, None, 32)  \n",
      "25    | block2b_add                (Add                   ) | False     | (None, None, None, 32)  \n",
      "26    | block3a_expand_conv        (Conv2D                ) | False     | (None, None, None, 128) \n",
      "27    | block3a_expand_bn          (BatchNormalization    ) | False     | (None, None, None, 128) \n",
      "28    | block3a_expand_activation  (Activation            ) | False     | (None, None, None, 128) \n",
      "29    | block3a_project_conv       (Conv2D                ) | False     | (None, None, None, 48)  \n",
      "30    | block3a_project_bn         (BatchNormalization    ) | False     | (None, None, None, 48)  \n",
      "31    | block3b_expand_conv        (Conv2D                ) | False     | (None, None, None, 192) \n",
      "32    | block3b_expand_bn          (BatchNormalization    ) | False     | (None, None, None, 192) \n",
      "33    | block3b_expand_activation  (Activation            ) | False     | (None, None, None, 192) \n",
      "34    | block3b_project_conv       (Conv2D                ) | False     | (None, None, None, 48)  \n",
      "35    | block3b_project_bn         (BatchNormalization    ) | False     | (None, None, None, 48)  \n",
      "36    | block3b_drop               (Dropout               ) | False     | (None, None, None, 48)  \n",
      "37    | block3b_add                (Add                   ) | False     | (None, None, None, 48)  \n",
      "38    | block4a_expand_conv        (Conv2D                ) | False     | (None, None, None, 192) \n",
      "39    | block4a_expand_bn          (BatchNormalization    ) | False     | (None, None, None, 192) \n",
      "40    | block4a_expand_activation  (Activation            ) | False     | (None, None, None, 192) \n",
      "41    | block4a_dwconv2            (DepthwiseConv2D       ) | False     | (None, None, None, 192) \n",
      "42    | block4a_bn                 (BatchNormalization    ) | False     | (None, None, None, 192) \n",
      "43    | block4a_activation         (Activation            ) | False     | (None, None, None, 192) \n",
      "44    | block4a_se_squeeze         (GlobalAveragePooling2D) | False     | (None, 192)             \n",
      "45    | block4a_se_reshape         (Reshape               ) | False     | (None, 1, 1, 192)       \n",
      "46    | block4a_se_reduce          (Conv2D                ) | False     | (None, 1, 1, 12)        \n",
      "47    | block4a_se_expand          (Conv2D                ) | False     | (None, 1, 1, 192)       \n",
      "48    | block4a_se_excite          (Multiply              ) | False     | (None, None, None, 192) \n",
      "49    | block4a_project_conv       (Conv2D                ) | False     | (None, None, None, 96)  \n",
      "50    | block4a_project_bn         (BatchNormalization    ) | False     | (None, None, None, 96)  \n",
      "51    | block4b_expand_conv        (Conv2D                ) | False     | (None, None, None, 384) \n",
      "52    | block4b_expand_bn          (BatchNormalization    ) | False     | (None, None, None, 384) \n",
      "53    | block4b_expand_activation  (Activation            ) | False     | (None, None, None, 384) \n",
      "54    | block4b_dwconv2            (DepthwiseConv2D       ) | False     | (None, None, None, 384) \n",
      "55    | block4b_bn                 (BatchNormalization    ) | False     | (None, None, None, 384) \n",
      "56    | block4b_activation         (Activation            ) | False     | (None, None, None, 384) \n",
      "57    | block4b_se_squeeze         (GlobalAveragePooling2D) | False     | (None, 384)             \n",
      "58    | block4b_se_reshape         (Reshape               ) | False     | (None, 1, 1, 384)       \n",
      "59    | block4b_se_reduce          (Conv2D                ) | False     | (None, 1, 1, 24)        \n",
      "60    | block4b_se_expand          (Conv2D                ) | False     | (None, 1, 1, 384)       \n",
      "61    | block4b_se_excite          (Multiply              ) | False     | (None, None, None, 384) \n",
      "62    | block4b_project_conv       (Conv2D                ) | False     | (None, None, None, 96)  \n",
      "63    | block4b_project_bn         (BatchNormalization    ) | False     | (None, None, None, 96)  \n",
      "64    | block4b_drop               (Dropout               ) | False     | (None, None, None, 96)  \n",
      "65    | block4b_add                (Add                   ) | False     | (None, None, None, 96)  \n",
      "66    | block4c_expand_conv        (Conv2D                ) | False     | (None, None, None, 384) \n",
      "67    | block4c_expand_bn          (BatchNormalization    ) | False     | (None, None, None, 384) \n",
      "68    | block4c_expand_activation  (Activation            ) | False     | (None, None, None, 384) \n",
      "69    | block4c_dwconv2            (DepthwiseConv2D       ) | False     | (None, None, None, 384) \n",
      "70    | block4c_bn                 (BatchNormalization    ) | False     | (None, None, None, 384) \n",
      "71    | block4c_activation         (Activation            ) | False     | (None, None, None, 384) \n",
      "72    | block4c_se_squeeze         (GlobalAveragePooling2D) | False     | (None, 384)             \n",
      "73    | block4c_se_reshape         (Reshape               ) | False     | (None, 1, 1, 384)       \n",
      "74    | block4c_se_reduce          (Conv2D                ) | False     | (None, 1, 1, 24)        \n",
      "75    | block4c_se_expand          (Conv2D                ) | False     | (None, 1, 1, 384)       \n",
      "76    | block4c_se_excite          (Multiply              ) | False     | (None, None, None, 384) \n",
      "77    | block4c_project_conv       (Conv2D                ) | False     | (None, None, None, 96)  \n",
      "78    | block4c_project_bn         (BatchNormalization    ) | False     | (None, None, None, 96)  \n",
      "79    | block4c_drop               (Dropout               ) | False     | (None, None, None, 96)  \n",
      "80    | block4c_add                (Add                   ) | False     | (None, None, None, 96)  \n",
      "81    | block5a_expand_conv        (Conv2D                ) | False     | (None, None, None, 576) \n",
      "82    | block5a_expand_bn          (BatchNormalization    ) | False     | (None, None, None, 576) \n",
      "83    | block5a_expand_activation  (Activation            ) | False     | (None, None, None, 576) \n",
      "84    | block5a_dwconv2            (DepthwiseConv2D       ) | False     | (None, None, None, 576) \n",
      "85    | block5a_bn                 (BatchNormalization    ) | False     | (None, None, None, 576) \n",
      "86    | block5a_activation         (Activation            ) | False     | (None, None, None, 576) \n",
      "87    | block5a_se_squeeze         (GlobalAveragePooling2D) | False     | (None, 576)             \n",
      "88    | block5a_se_reshape         (Reshape               ) | False     | (None, 1, 1, 576)       \n",
      "89    | block5a_se_reduce          (Conv2D                ) | False     | (None, 1, 1, 24)        \n",
      "90    | block5a_se_expand          (Conv2D                ) | False     | (None, 1, 1, 576)       \n",
      "91    | block5a_se_excite          (Multiply              ) | False     | (None, None, None, 576) \n",
      "92    | block5a_project_conv       (Conv2D                ) | False     | (None, None, None, 112) \n",
      "93    | block5a_project_bn         (BatchNormalization    ) | False     | (None, None, None, 112) \n",
      "94    | block5b_expand_conv        (Conv2D                ) | False     | (None, None, None, 672) \n",
      "95    | block5b_expand_bn          (BatchNormalization    ) | False     | (None, None, None, 672) \n",
      "96    | block5b_expand_activation  (Activation            ) | False     | (None, None, None, 672) \n",
      "97    | block5b_dwconv2            (DepthwiseConv2D       ) | False     | (None, None, None, 672) \n",
      "98    | block5b_bn                 (BatchNormalization    ) | False     | (None, None, None, 672) \n",
      "99    | block5b_activation         (Activation            ) | False     | (None, None, None, 672) \n",
      "100   | block5b_se_squeeze         (GlobalAveragePooling2D) | False     | (None, 672)             \n",
      "101   | block5b_se_reshape         (Reshape               ) | False     | (None, 1, 1, 672)       \n",
      "102   | block5b_se_reduce          (Conv2D                ) | False     | (None, 1, 1, 28)        \n",
      "103   | block5b_se_expand          (Conv2D                ) | False     | (None, 1, 1, 672)       \n",
      "104   | block5b_se_excite          (Multiply              ) | False     | (None, None, None, 672) \n",
      "105   | block5b_project_conv       (Conv2D                ) | False     | (None, None, None, 112) \n",
      "106   | block5b_project_bn         (BatchNormalization    ) | False     | (None, None, None, 112) \n",
      "107   | block5b_drop               (Dropout               ) | False     | (None, None, None, 112) \n",
      "108   | block5b_add                (Add                   ) | False     | (None, None, None, 112) \n",
      "109   | block5c_expand_conv        (Conv2D                ) | False     | (None, None, None, 672) \n",
      "110   | block5c_expand_bn          (BatchNormalization    ) | False     | (None, None, None, 672) \n",
      "111   | block5c_expand_activation  (Activation            ) | False     | (None, None, None, 672) \n",
      "112   | block5c_dwconv2            (DepthwiseConv2D       ) | False     | (None, None, None, 672) \n",
      "113   | block5c_bn                 (BatchNormalization    ) | False     | (None, None, None, 672) \n",
      "114   | block5c_activation         (Activation            ) | False     | (None, None, None, 672) \n",
      "115   | block5c_se_squeeze         (GlobalAveragePooling2D) | False     | (None, 672)             \n",
      "116   | block5c_se_reshape         (Reshape               ) | False     | (None, 1, 1, 672)       \n",
      "117   | block5c_se_reduce          (Conv2D                ) | False     | (None, 1, 1, 28)        \n",
      "118   | block5c_se_expand          (Conv2D                ) | False     | (None, 1, 1, 672)       \n",
      "119   | block5c_se_excite          (Multiply              ) | False     | (None, None, None, 672) \n",
      "120   | block5c_project_conv       (Conv2D                ) | False     | (None, None, None, 112) \n",
      "121   | block5c_project_bn         (BatchNormalization    ) | False     | (None, None, None, 112) \n",
      "122   | block5c_drop               (Dropout               ) | False     | (None, None, None, 112) \n",
      "123   | block5c_add                (Add                   ) | False     | (None, None, None, 112) \n",
      "124   | block5d_expand_conv        (Conv2D                ) | False     | (None, None, None, 672) \n",
      "125   | block5d_expand_bn          (BatchNormalization    ) | False     | (None, None, None, 672) \n",
      "126   | block5d_expand_activation  (Activation            ) | False     | (None, None, None, 672) \n",
      "127   | block5d_dwconv2            (DepthwiseConv2D       ) | False     | (None, None, None, 672) \n",
      "128   | block5d_bn                 (BatchNormalization    ) | False     | (None, None, None, 672) \n",
      "129   | block5d_activation         (Activation            ) | False     | (None, None, None, 672) \n",
      "130   | block5d_se_squeeze         (GlobalAveragePooling2D) | False     | (None, 672)             \n",
      "131   | block5d_se_reshape         (Reshape               ) | False     | (None, 1, 1, 672)       \n",
      "132   | block5d_se_reduce          (Conv2D                ) | False     | (None, 1, 1, 28)        \n",
      "133   | block5d_se_expand          (Conv2D                ) | False     | (None, 1, 1, 672)       \n",
      "134   | block5d_se_excite          (Multiply              ) | False     | (None, None, None, 672) \n",
      "135   | block5d_project_conv       (Conv2D                ) | False     | (None, None, None, 112) \n",
      "136   | block5d_project_bn         (BatchNormalization    ) | False     | (None, None, None, 112) \n",
      "137   | block5d_drop               (Dropout               ) | False     | (None, None, None, 112) \n",
      "138   | block5d_add                (Add                   ) | False     | (None, None, None, 112) \n",
      "139   | block5e_expand_conv        (Conv2D                ) | False     | (None, None, None, 672) \n",
      "140   | block5e_expand_bn          (BatchNormalization    ) | False     | (None, None, None, 672) \n",
      "141   | block5e_expand_activation  (Activation            ) | False     | (None, None, None, 672) \n",
      "142   | block5e_dwconv2            (DepthwiseConv2D       ) | False     | (None, None, None, 672) \n",
      "143   | block5e_bn                 (BatchNormalization    ) | False     | (None, None, None, 672) \n",
      "144   | block5e_activation         (Activation            ) | False     | (None, None, None, 672) \n",
      "145   | block5e_se_squeeze         (GlobalAveragePooling2D) | False     | (None, 672)             \n",
      "146   | block5e_se_reshape         (Reshape               ) | False     | (None, 1, 1, 672)       \n",
      "147   | block5e_se_reduce          (Conv2D                ) | False     | (None, 1, 1, 28)        \n",
      "148   | block5e_se_expand          (Conv2D                ) | False     | (None, 1, 1, 672)       \n",
      "149   | block5e_se_excite          (Multiply              ) | False     | (None, None, None, 672) \n",
      "150   | block5e_project_conv       (Conv2D                ) | False     | (None, None, None, 112) \n",
      "151   | block5e_project_bn         (BatchNormalization    ) | False     | (None, None, None, 112) \n",
      "152   | block5e_drop               (Dropout               ) | False     | (None, None, None, 112) \n",
      "153   | block5e_add                (Add                   ) | False     | (None, None, None, 112) \n",
      "154   | block6a_expand_conv        (Conv2D                ) | False     | (None, None, None, 672) \n",
      "155   | block6a_expand_bn          (BatchNormalization    ) | False     | (None, None, None, 672) \n",
      "156   | block6a_expand_activation  (Activation            ) | False     | (None, None, None, 672) \n",
      "157   | block6a_dwconv2            (DepthwiseConv2D       ) | False     | (None, None, None, 672) \n",
      "158   | block6a_bn                 (BatchNormalization    ) | False     | (None, None, None, 672) \n",
      "159   | block6a_activation         (Activation            ) | False     | (None, None, None, 672) \n",
      "160   | block6a_se_squeeze         (GlobalAveragePooling2D) | False     | (None, 672)             \n",
      "161   | block6a_se_reshape         (Reshape               ) | False     | (None, 1, 1, 672)       \n",
      "162   | block6a_se_reduce          (Conv2D                ) | False     | (None, 1, 1, 28)        \n",
      "163   | block6a_se_expand          (Conv2D                ) | False     | (None, 1, 1, 672)       \n",
      "164   | block6a_se_excite          (Multiply              ) | False     | (None, None, None, 672) \n",
      "165   | block6a_project_conv       (Conv2D                ) | False     | (None, None, None, 192) \n",
      "166   | block6a_project_bn         (BatchNormalization    ) | False     | (None, None, None, 192) \n",
      "167   | block6b_expand_conv        (Conv2D                ) | False     | (None, None, None, 1152)\n",
      "168   | block6b_expand_bn          (BatchNormalization    ) | False     | (None, None, None, 1152)\n",
      "169   | block6b_expand_activation  (Activation            ) | False     | (None, None, None, 1152)\n",
      "170   | block6b_dwconv2            (DepthwiseConv2D       ) | False     | (None, None, None, 1152)\n",
      "171   | block6b_bn                 (BatchNormalization    ) | False     | (None, None, None, 1152)\n",
      "172   | block6b_activation         (Activation            ) | False     | (None, None, None, 1152)\n",
      "173   | block6b_se_squeeze         (GlobalAveragePooling2D) | False     | (None, 1152)            \n",
      "174   | block6b_se_reshape         (Reshape               ) | False     | (None, 1, 1, 1152)      \n",
      "175   | block6b_se_reduce          (Conv2D                ) | False     | (None, 1, 1, 48)        \n",
      "176   | block6b_se_expand          (Conv2D                ) | False     | (None, 1, 1, 1152)      \n",
      "177   | block6b_se_excite          (Multiply              ) | False     | (None, None, None, 1152)\n",
      "178   | block6b_project_conv       (Conv2D                ) | False     | (None, None, None, 192) \n",
      "179   | block6b_project_bn         (BatchNormalization    ) | False     | (None, None, None, 192) \n",
      "180   | block6b_drop               (Dropout               ) | False     | (None, None, None, 192) \n",
      "181   | block6b_add                (Add                   ) | False     | (None, None, None, 192) \n",
      "182   | block6c_expand_conv        (Conv2D                ) | False     | (None, None, None, 1152)\n",
      "183   | block6c_expand_bn          (BatchNormalization    ) | False     | (None, None, None, 1152)\n",
      "184   | block6c_expand_activation  (Activation            ) | False     | (None, None, None, 1152)\n",
      "185   | block6c_dwconv2            (DepthwiseConv2D       ) | False     | (None, None, None, 1152)\n",
      "186   | block6c_bn                 (BatchNormalization    ) | False     | (None, None, None, 1152)\n",
      "187   | block6c_activation         (Activation            ) | False     | (None, None, None, 1152)\n",
      "188   | block6c_se_squeeze         (GlobalAveragePooling2D) | False     | (None, 1152)            \n",
      "189   | block6c_se_reshape         (Reshape               ) | False     | (None, 1, 1, 1152)      \n",
      "190   | block6c_se_reduce          (Conv2D                ) | False     | (None, 1, 1, 48)        \n",
      "191   | block6c_se_expand          (Conv2D                ) | False     | (None, 1, 1, 1152)      \n",
      "192   | block6c_se_excite          (Multiply              ) | False     | (None, None, None, 1152)\n",
      "193   | block6c_project_conv       (Conv2D                ) | False     | (None, None, None, 192) \n",
      "194   | block6c_project_bn         (BatchNormalization    ) | False     | (None, None, None, 192) \n",
      "195   | block6c_drop               (Dropout               ) | False     | (None, None, None, 192) \n",
      "196   | block6c_add                (Add                   ) | False     | (None, None, None, 192) \n",
      "197   | block6d_expand_conv        (Conv2D                ) | False     | (None, None, None, 1152)\n",
      "198   | block6d_expand_bn          (BatchNormalization    ) | False     | (None, None, None, 1152)\n",
      "199   | block6d_expand_activation  (Activation            ) | False     | (None, None, None, 1152)\n",
      "200   | block6d_dwconv2            (DepthwiseConv2D       ) | False     | (None, None, None, 1152)\n",
      "201   | block6d_bn                 (BatchNormalization    ) | False     | (None, None, None, 1152)\n",
      "202   | block6d_activation         (Activation            ) | False     | (None, None, None, 1152)\n",
      "203   | block6d_se_squeeze         (GlobalAveragePooling2D) | False     | (None, 1152)            \n",
      "204   | block6d_se_reshape         (Reshape               ) | False     | (None, 1, 1, 1152)      \n",
      "205   | block6d_se_reduce          (Conv2D                ) | False     | (None, 1, 1, 48)        \n",
      "206   | block6d_se_expand          (Conv2D                ) | False     | (None, 1, 1, 1152)      \n",
      "207   | block6d_se_excite          (Multiply              ) | False     | (None, None, None, 1152)\n",
      "208   | block6d_project_conv       (Conv2D                ) | False     | (None, None, None, 192) \n",
      "209   | block6d_project_bn         (BatchNormalization    ) | False     | (None, None, None, 192) \n",
      "210   | block6d_drop               (Dropout               ) | False     | (None, None, None, 192) \n",
      "211   | block6d_add                (Add                   ) | False     | (None, None, None, 192) \n",
      "212   | block6e_expand_conv        (Conv2D                ) | False     | (None, None, None, 1152)\n",
      "213   | block6e_expand_bn          (BatchNormalization    ) | False     | (None, None, None, 1152)\n",
      "214   | block6e_expand_activation  (Activation            ) | False     | (None, None, None, 1152)\n",
      "215   | block6e_dwconv2            (DepthwiseConv2D       ) | False     | (None, None, None, 1152)\n",
      "216   | block6e_bn                 (BatchNormalization    ) | False     | (None, None, None, 1152)\n",
      "217   | block6e_activation         (Activation            ) | False     | (None, None, None, 1152)\n",
      "218   | block6e_se_squeeze         (GlobalAveragePooling2D) | False     | (None, 1152)            \n",
      "219   | block6e_se_reshape         (Reshape               ) | False     | (None, 1, 1, 1152)      \n",
      "220   | block6e_se_reduce          (Conv2D                ) | False     | (None, 1, 1, 48)        \n",
      "221   | block6e_se_expand          (Conv2D                ) | False     | (None, 1, 1, 1152)      \n",
      "222   | block6e_se_excite          (Multiply              ) | False     | (None, None, None, 1152)\n",
      "223   | block6e_project_conv       (Conv2D                ) | False     | (None, None, None, 192) \n",
      "224   | block6e_project_bn         (BatchNormalization    ) | False     | (None, None, None, 192) \n",
      "225   | block6e_drop               (Dropout               ) | False     | (None, None, None, 192) \n",
      "226   | block6e_add                (Add                   ) | False     | (None, None, None, 192) \n",
      "227   | block6f_expand_conv        (Conv2D                ) | False     | (None, None, None, 1152)\n",
      "228   | block6f_expand_bn          (BatchNormalization    ) | False     | (None, None, None, 1152)\n",
      "229   | block6f_expand_activation  (Activation            ) | False     | (None, None, None, 1152)\n",
      "230   | block6f_dwconv2            (DepthwiseConv2D       ) | False     | (None, None, None, 1152)\n",
      "231   | block6f_bn                 (BatchNormalization    ) | False     | (None, None, None, 1152)\n",
      "232   | block6f_activation         (Activation            ) | False     | (None, None, None, 1152)\n",
      "233   | block6f_se_squeeze         (GlobalAveragePooling2D) | False     | (None, 1152)            \n",
      "234   | block6f_se_reshape         (Reshape               ) | False     | (None, 1, 1, 1152)      \n",
      "235   | block6f_se_reduce          (Conv2D                ) | False     | (None, 1, 1, 48)        \n",
      "236   | block6f_se_expand          (Conv2D                ) | False     | (None, 1, 1, 1152)      \n",
      "237   | block6f_se_excite          (Multiply              ) | False     | (None, None, None, 1152)\n",
      "238   | block6f_project_conv       (Conv2D                ) | False     | (None, None, None, 192) \n",
      "239   | block6f_project_bn         (BatchNormalization    ) | False     | (None, None, None, 192) \n",
      "240   | block6f_drop               (Dropout               ) | False     | (None, None, None, 192) \n",
      "241   | block6f_add                (Add                   ) | False     | (None, None, None, 192) \n",
      "242   | block6g_expand_conv        (Conv2D                ) | False     | (None, None, None, 1152)\n",
      "243   | block6g_expand_bn          (BatchNormalization    ) | False     | (None, None, None, 1152)\n",
      "244   | block6g_expand_activation  (Activation            ) | False     | (None, None, None, 1152)\n",
      "245   | block6g_dwconv2            (DepthwiseConv2D       ) | False     | (None, None, None, 1152)\n",
      "246   | block6g_bn                 (BatchNormalization    ) | False     | (None, None, None, 1152)\n",
      "247   | block6g_activation         (Activation            ) | False     | (None, None, None, 1152)\n",
      "248   | block6g_se_squeeze         (GlobalAveragePooling2D) | False     | (None, 1152)            \n",
      "249   | block6g_se_reshape         (Reshape               ) | False     | (None, 1, 1, 1152)      \n",
      "250   | block6g_se_reduce          (Conv2D                ) | False     | (None, 1, 1, 48)        \n",
      "251   | block6g_se_expand          (Conv2D                ) | False     | (None, 1, 1, 1152)      \n",
      "252   | block6g_se_excite          (Multiply              ) | False     | (None, None, None, 1152)\n",
      "253   | block6g_project_conv       (Conv2D                ) | False     | (None, None, None, 192) \n",
      "254   | block6g_project_bn         (BatchNormalization    ) | False     | (None, None, None, 192) \n",
      "255   | block6g_drop               (Dropout               ) | False     | (None, None, None, 192) \n",
      "256   | block6g_add                (Add                   ) | False     | (None, None, None, 192) \n",
      "257   | block6h_expand_conv        (Conv2D                ) | False     | (None, None, None, 1152)\n",
      "258   | block6h_expand_bn          (BatchNormalization    ) | False     | (None, None, None, 1152)\n",
      "259   | block6h_expand_activation  (Activation            ) | False     | (None, None, None, 1152)\n",
      "260   | block6h_dwconv2            (DepthwiseConv2D       ) | False     | (None, None, None, 1152)\n",
      "261   | block6h_bn                 (BatchNormalization    ) | False     | (None, None, None, 1152)\n",
      "262   | block6h_activation         (Activation            ) | False     | (None, None, None, 1152)\n",
      "263   | block6h_se_squeeze         (GlobalAveragePooling2D) | False     | (None, 1152)            \n",
      "264   | block6h_se_reshape         (Reshape               ) | False     | (None, 1, 1, 1152)      \n",
      "265   | block6h_se_reduce          (Conv2D                ) | False     | (None, 1, 1, 48)        \n",
      "266   | block6h_se_expand          (Conv2D                ) | False     | (None, 1, 1, 1152)      \n",
      "267   | block6h_se_excite          (Multiply              ) | True      | (None, None, None, 1152)\n",
      "268   | block6h_project_conv       (Conv2D                ) | True      | (None, None, None, 192) \n",
      "269   | block6h_project_bn         (BatchNormalization    ) | True      | (None, None, None, 192) \n",
      "270   | block6h_drop               (Dropout               ) | True      | (None, None, None, 192) \n",
      "271   | block6h_add                (Add                   ) | True      | (None, None, None, 192) \n",
      "272   | top_conv                   (Conv2D                ) | True      | (None, None, None, 1280)\n",
      "273   | top_bn                     (BatchNormalization    ) | True      | (None, None, None, 1280)\n",
      "274   | top_activation             (Activation            ) | True      | (None, None, None, 1280)\n",
      "275   | global_average_pooling     (GlobalAveragePooling2D) | True      | (None, 1280)            \n",
      "276   | output_layer               (Dense                 ) | True      | (None, 10)              \n"
     ]
    }
   ],
   "source": [
    "# 7. List all layers and check if first 10 and last 10 are trainable\n",
    "mll.list_model(model=model, include_trainable=True, include_non_trainable=True)"
   ],
   "metadata": {
    "collapsed": false,
    "ExecuteTime": {
     "end_time": "2023-05-23T19:36:23.935098Z",
     "start_time": "2023-05-23T19:36:23.879151Z"
    }
   }
  },
  {
   "cell_type": "code",
   "execution_count": 276,
   "outputs": [],
   "source": [
    "mll.save_model_alt(model, directory=\"./models\", name=\"model\", format=\"h5\")"
   ],
   "metadata": {
    "collapsed": false,
    "ExecuteTime": {
     "end_time": "2023-05-23T19:36:24.251663Z",
     "start_time": "2023-05-23T19:36:24.040574Z"
    }
   }
  },
  {
   "cell_type": "code",
   "execution_count": 281,
   "outputs": [
    {
     "name": "stdout",
     "output_type": "stream",
     "text": [
      "WARNING:tensorflow:Using a while_loop for converting RngReadAndSkip cause there is no registered converter for this op.\n"
     ]
    },
    {
     "name": "stderr",
     "output_type": "stream",
     "text": [
      "WARNING:tensorflow:Using a while_loop for converting RngReadAndSkip cause there is no registered converter for this op.\n"
     ]
    },
    {
     "name": "stdout",
     "output_type": "stream",
     "text": [
      "WARNING:tensorflow:Using a while_loop for converting Bitcast cause there is no registered converter for this op.\n"
     ]
    },
    {
     "name": "stderr",
     "output_type": "stream",
     "text": [
      "WARNING:tensorflow:Using a while_loop for converting Bitcast cause there is no registered converter for this op.\n"
     ]
    },
    {
     "name": "stdout",
     "output_type": "stream",
     "text": [
      "WARNING:tensorflow:Using a while_loop for converting Bitcast cause there is no registered converter for this op.\n"
     ]
    },
    {
     "name": "stderr",
     "output_type": "stream",
     "text": [
      "WARNING:tensorflow:Using a while_loop for converting Bitcast cause there is no registered converter for this op.\n"
     ]
    },
    {
     "name": "stdout",
     "output_type": "stream",
     "text": [
      "WARNING:tensorflow:Using a while_loop for converting StatelessRandomUniformV2 cause there is no registered converter for this op.\n"
     ]
    },
    {
     "name": "stderr",
     "output_type": "stream",
     "text": [
      "WARNING:tensorflow:Using a while_loop for converting StatelessRandomUniformV2 cause there is no registered converter for this op.\n"
     ]
    },
    {
     "name": "stdout",
     "output_type": "stream",
     "text": [
      "WARNING:tensorflow:Using a while_loop for converting ImageProjectiveTransformV3 cause there is no registered converter for this op.\n"
     ]
    },
    {
     "name": "stderr",
     "output_type": "stream",
     "text": [
      "WARNING:tensorflow:Using a while_loop for converting ImageProjectiveTransformV3 cause there is no registered converter for this op.\n"
     ]
    },
    {
     "name": "stdout",
     "output_type": "stream",
     "text": [
      "WARNING:tensorflow:Using a while_loop for converting RngReadAndSkip cause there is no registered converter for this op.\n"
     ]
    },
    {
     "name": "stderr",
     "output_type": "stream",
     "text": [
      "WARNING:tensorflow:Using a while_loop for converting RngReadAndSkip cause there is no registered converter for this op.\n"
     ]
    },
    {
     "name": "stdout",
     "output_type": "stream",
     "text": [
      "WARNING:tensorflow:Using a while_loop for converting Bitcast cause there is no registered converter for this op.\n"
     ]
    },
    {
     "name": "stderr",
     "output_type": "stream",
     "text": [
      "WARNING:tensorflow:Using a while_loop for converting Bitcast cause there is no registered converter for this op.\n"
     ]
    },
    {
     "name": "stdout",
     "output_type": "stream",
     "text": [
      "WARNING:tensorflow:Using a while_loop for converting Bitcast cause there is no registered converter for this op.\n"
     ]
    },
    {
     "name": "stderr",
     "output_type": "stream",
     "text": [
      "WARNING:tensorflow:Using a while_loop for converting Bitcast cause there is no registered converter for this op.\n"
     ]
    },
    {
     "name": "stdout",
     "output_type": "stream",
     "text": [
      "WARNING:tensorflow:Using a while_loop for converting StatelessRandomUniformV2 cause there is no registered converter for this op.\n"
     ]
    },
    {
     "name": "stderr",
     "output_type": "stream",
     "text": [
      "WARNING:tensorflow:Using a while_loop for converting StatelessRandomUniformV2 cause there is no registered converter for this op.\n"
     ]
    },
    {
     "name": "stdout",
     "output_type": "stream",
     "text": [
      "WARNING:tensorflow:Using a while_loop for converting ImageProjectiveTransformV3 cause there is no registered converter for this op.\n"
     ]
    },
    {
     "name": "stderr",
     "output_type": "stream",
     "text": [
      "WARNING:tensorflow:Using a while_loop for converting ImageProjectiveTransformV3 cause there is no registered converter for this op.\n"
     ]
    },
    {
     "name": "stdout",
     "output_type": "stream",
     "text": [
      "WARNING:tensorflow:Detecting that an object or model or tf.train.Checkpoint is being deleted with unrestored values. See the following logs for the specific values in question. To silence these warnings, use `status.expect_partial()`. See https://www.tensorflow.org/api_docs/python/tf/train/Checkpoint#restorefor details about the status object returned by the restore function.\n"
     ]
    },
    {
     "name": "stderr",
     "output_type": "stream",
     "text": [
      "WARNING:tensorflow:Detecting that an object or model or tf.train.Checkpoint is being deleted with unrestored values. See the following logs for the specific values in question. To silence these warnings, use `status.expect_partial()`. See https://www.tensorflow.org/api_docs/python/tf/train/Checkpoint#restorefor details about the status object returned by the restore function.\n"
     ]
    },
    {
     "name": "stdout",
     "output_type": "stream",
     "text": [
      "WARNING:tensorflow:Value in checkpoint could not be found in the restored object: (root).keras_api.metrics.0.total\n"
     ]
    },
    {
     "name": "stderr",
     "output_type": "stream",
     "text": [
      "WARNING:tensorflow:Value in checkpoint could not be found in the restored object: (root).keras_api.metrics.0.total\n"
     ]
    },
    {
     "name": "stdout",
     "output_type": "stream",
     "text": [
      "WARNING:tensorflow:Value in checkpoint could not be found in the restored object: (root).keras_api.metrics.0.count\n"
     ]
    },
    {
     "name": "stderr",
     "output_type": "stream",
     "text": [
      "WARNING:tensorflow:Value in checkpoint could not be found in the restored object: (root).keras_api.metrics.0.count\n"
     ]
    },
    {
     "name": "stdout",
     "output_type": "stream",
     "text": [
      "WARNING:tensorflow:Value in checkpoint could not be found in the restored object: (root).keras_api.metrics.1.total\n"
     ]
    },
    {
     "name": "stderr",
     "output_type": "stream",
     "text": [
      "WARNING:tensorflow:Value in checkpoint could not be found in the restored object: (root).keras_api.metrics.1.total\n"
     ]
    },
    {
     "name": "stdout",
     "output_type": "stream",
     "text": [
      "WARNING:tensorflow:Value in checkpoint could not be found in the restored object: (root).keras_api.metrics.1.count\n"
     ]
    },
    {
     "name": "stderr",
     "output_type": "stream",
     "text": [
      "WARNING:tensorflow:Value in checkpoint could not be found in the restored object: (root).keras_api.metrics.1.count\n"
     ]
    },
    {
     "name": "stdout",
     "output_type": "stream",
     "text": [
      "WARNING:tensorflow:Using a while_loop for converting RngReadAndSkip cause there is no registered converter for this op.\n"
     ]
    },
    {
     "name": "stderr",
     "output_type": "stream",
     "text": [
      "WARNING:tensorflow:Using a while_loop for converting RngReadAndSkip cause there is no registered converter for this op.\n"
     ]
    },
    {
     "name": "stdout",
     "output_type": "stream",
     "text": [
      "WARNING:tensorflow:Using a while_loop for converting Bitcast cause there is no registered converter for this op.\n"
     ]
    },
    {
     "name": "stderr",
     "output_type": "stream",
     "text": [
      "WARNING:tensorflow:Using a while_loop for converting Bitcast cause there is no registered converter for this op.\n"
     ]
    },
    {
     "name": "stdout",
     "output_type": "stream",
     "text": [
      "WARNING:tensorflow:Using a while_loop for converting Bitcast cause there is no registered converter for this op.\n"
     ]
    },
    {
     "name": "stderr",
     "output_type": "stream",
     "text": [
      "WARNING:tensorflow:Using a while_loop for converting Bitcast cause there is no registered converter for this op.\n"
     ]
    },
    {
     "name": "stdout",
     "output_type": "stream",
     "text": [
      "WARNING:tensorflow:Using a while_loop for converting StatelessRandomUniformV2 cause there is no registered converter for this op.\n"
     ]
    },
    {
     "name": "stderr",
     "output_type": "stream",
     "text": [
      "WARNING:tensorflow:Using a while_loop for converting StatelessRandomUniformV2 cause there is no registered converter for this op.\n"
     ]
    },
    {
     "name": "stdout",
     "output_type": "stream",
     "text": [
      "WARNING:tensorflow:Using a while_loop for converting ImageProjectiveTransformV3 cause there is no registered converter for this op.\n"
     ]
    },
    {
     "name": "stderr",
     "output_type": "stream",
     "text": [
      "WARNING:tensorflow:Using a while_loop for converting ImageProjectiveTransformV3 cause there is no registered converter for this op.\n"
     ]
    },
    {
     "name": "stdout",
     "output_type": "stream",
     "text": [
      "WARNING:tensorflow:Using a while_loop for converting RngReadAndSkip cause there is no registered converter for this op.\n"
     ]
    },
    {
     "name": "stderr",
     "output_type": "stream",
     "text": [
      "WARNING:tensorflow:Using a while_loop for converting RngReadAndSkip cause there is no registered converter for this op.\n"
     ]
    },
    {
     "name": "stdout",
     "output_type": "stream",
     "text": [
      "WARNING:tensorflow:Using a while_loop for converting Bitcast cause there is no registered converter for this op.\n"
     ]
    },
    {
     "name": "stderr",
     "output_type": "stream",
     "text": [
      "WARNING:tensorflow:Using a while_loop for converting Bitcast cause there is no registered converter for this op.\n"
     ]
    },
    {
     "name": "stdout",
     "output_type": "stream",
     "text": [
      "WARNING:tensorflow:Using a while_loop for converting Bitcast cause there is no registered converter for this op.\n"
     ]
    },
    {
     "name": "stderr",
     "output_type": "stream",
     "text": [
      "WARNING:tensorflow:Using a while_loop for converting Bitcast cause there is no registered converter for this op.\n"
     ]
    },
    {
     "name": "stdout",
     "output_type": "stream",
     "text": [
      "WARNING:tensorflow:Using a while_loop for converting StatelessRandomUniformV2 cause there is no registered converter for this op.\n"
     ]
    },
    {
     "name": "stderr",
     "output_type": "stream",
     "text": [
      "WARNING:tensorflow:Using a while_loop for converting StatelessRandomUniformV2 cause there is no registered converter for this op.\n"
     ]
    },
    {
     "name": "stdout",
     "output_type": "stream",
     "text": [
      "WARNING:tensorflow:Using a while_loop for converting ImageProjectiveTransformV3 cause there is no registered converter for this op.\n"
     ]
    },
    {
     "name": "stderr",
     "output_type": "stream",
     "text": [
      "WARNING:tensorflow:Using a while_loop for converting ImageProjectiveTransformV3 cause there is no registered converter for this op.\n"
     ]
    }
   ],
   "source": [
    "# 10. Load weights\n",
    "loaded_model = mll.load_model_alt(directory=\"./models\", name=\"model\", format=\"h5\")"
   ],
   "metadata": {
    "collapsed": false,
    "ExecuteTime": {
     "end_time": "2023-05-23T19:40:14.238285Z",
     "start_time": "2023-05-23T19:40:11.532483Z"
    }
   }
  },
  {
   "cell_type": "code",
   "execution_count": 282,
   "outputs": [
    {
     "name": "stdout",
     "output_type": "stream",
     "text": [
      "Row   | Name (Type)                                         | Trainable | Output Shape\n",
      "0     | input_layer                (InputLayer            ) | True      | [(None, 224, 224, 3)]   \n",
      "1     | random_zoom_25             (RandomZoom            ) | True      | (None, 224, 224, 3)     \n",
      "2     | random_height_25           (RandomHeight          ) | True      | (None, None, 224, 3)    \n",
      "3     | random_width_25            (RandomWidth           ) | True      | (None, None, None, 3)   \n",
      "4     | random_rotation_25         (RandomRotation        ) | True      | (None, None, None, 3)   \n",
      "5     | input_17                   (InputLayer            ) | True      | [(None, None, None, 3)] \n",
      "6     | rescaling_16               (Rescaling             ) | True      | (None, None, None, 3)   \n",
      "7     | normalization_16           (Normalization         ) | True      | (None, None, None, 3)   \n",
      "8     | stem_conv                  (Conv2D                ) | True      | (None, None, None, 32)  \n",
      "9     | stem_bn                    (BatchNormalization    ) | True      | (None, None, None, 32)  \n",
      "10    | stem_activation            (Activation            ) | False     | (None, None, None, 32)  \n",
      "11    | block1a_project_conv       (Conv2D                ) | False     | (None, None, None, 16)  \n",
      "12    | block1a_project_bn         (BatchNormalization    ) | False     | (None, None, None, 16)  \n",
      "13    | block1a_project_activation (Activation            ) | False     | (None, None, None, 16)  \n",
      "14    | block2a_expand_conv        (Conv2D                ) | False     | (None, None, None, 64)  \n",
      "15    | block2a_expand_bn          (BatchNormalization    ) | False     | (None, None, None, 64)  \n",
      "16    | block2a_expand_activation  (Activation            ) | False     | (None, None, None, 64)  \n",
      "17    | block2a_project_conv       (Conv2D                ) | False     | (None, None, None, 32)  \n",
      "18    | block2a_project_bn         (BatchNormalization    ) | False     | (None, None, None, 32)  \n",
      "19    | block2b_expand_conv        (Conv2D                ) | False     | (None, None, None, 128) \n",
      "20    | block2b_expand_bn          (BatchNormalization    ) | False     | (None, None, None, 128) \n",
      "21    | block2b_expand_activation  (Activation            ) | False     | (None, None, None, 128) \n",
      "22    | block2b_project_conv       (Conv2D                ) | False     | (None, None, None, 32)  \n",
      "23    | block2b_project_bn         (BatchNormalization    ) | False     | (None, None, None, 32)  \n",
      "24    | block2b_drop               (Dropout               ) | False     | (None, None, None, 32)  \n",
      "25    | block2b_add                (Add                   ) | False     | (None, None, None, 32)  \n",
      "26    | block3a_expand_conv        (Conv2D                ) | False     | (None, None, None, 128) \n",
      "27    | block3a_expand_bn          (BatchNormalization    ) | False     | (None, None, None, 128) \n",
      "28    | block3a_expand_activation  (Activation            ) | False     | (None, None, None, 128) \n",
      "29    | block3a_project_conv       (Conv2D                ) | False     | (None, None, None, 48)  \n",
      "30    | block3a_project_bn         (BatchNormalization    ) | False     | (None, None, None, 48)  \n",
      "31    | block3b_expand_conv        (Conv2D                ) | False     | (None, None, None, 192) \n",
      "32    | block3b_expand_bn          (BatchNormalization    ) | False     | (None, None, None, 192) \n",
      "33    | block3b_expand_activation  (Activation            ) | False     | (None, None, None, 192) \n",
      "34    | block3b_project_conv       (Conv2D                ) | False     | (None, None, None, 48)  \n",
      "35    | block3b_project_bn         (BatchNormalization    ) | False     | (None, None, None, 48)  \n",
      "36    | block3b_drop               (Dropout               ) | False     | (None, None, None, 48)  \n",
      "37    | block3b_add                (Add                   ) | False     | (None, None, None, 48)  \n",
      "38    | block4a_expand_conv        (Conv2D                ) | False     | (None, None, None, 192) \n",
      "39    | block4a_expand_bn          (BatchNormalization    ) | False     | (None, None, None, 192) \n",
      "40    | block4a_expand_activation  (Activation            ) | False     | (None, None, None, 192) \n",
      "41    | block4a_dwconv2            (DepthwiseConv2D       ) | False     | (None, None, None, 192) \n",
      "42    | block4a_bn                 (BatchNormalization    ) | False     | (None, None, None, 192) \n",
      "43    | block4a_activation         (Activation            ) | False     | (None, None, None, 192) \n",
      "44    | block4a_se_squeeze         (GlobalAveragePooling2D) | False     | (None, 192)             \n",
      "45    | block4a_se_reshape         (Reshape               ) | False     | (None, 1, 1, 192)       \n",
      "46    | block4a_se_reduce          (Conv2D                ) | False     | (None, 1, 1, 12)        \n",
      "47    | block4a_se_expand          (Conv2D                ) | False     | (None, 1, 1, 192)       \n",
      "48    | block4a_se_excite          (Multiply              ) | False     | (None, None, None, 192) \n",
      "49    | block4a_project_conv       (Conv2D                ) | False     | (None, None, None, 96)  \n",
      "50    | block4a_project_bn         (BatchNormalization    ) | False     | (None, None, None, 96)  \n",
      "51    | block4b_expand_conv        (Conv2D                ) | False     | (None, None, None, 384) \n",
      "52    | block4b_expand_bn          (BatchNormalization    ) | False     | (None, None, None, 384) \n",
      "53    | block4b_expand_activation  (Activation            ) | False     | (None, None, None, 384) \n",
      "54    | block4b_dwconv2            (DepthwiseConv2D       ) | False     | (None, None, None, 384) \n",
      "55    | block4b_bn                 (BatchNormalization    ) | False     | (None, None, None, 384) \n",
      "56    | block4b_activation         (Activation            ) | False     | (None, None, None, 384) \n",
      "57    | block4b_se_squeeze         (GlobalAveragePooling2D) | False     | (None, 384)             \n",
      "58    | block4b_se_reshape         (Reshape               ) | False     | (None, 1, 1, 384)       \n",
      "59    | block4b_se_reduce          (Conv2D                ) | False     | (None, 1, 1, 24)        \n",
      "60    | block4b_se_expand          (Conv2D                ) | False     | (None, 1, 1, 384)       \n",
      "61    | block4b_se_excite          (Multiply              ) | False     | (None, None, None, 384) \n",
      "62    | block4b_project_conv       (Conv2D                ) | False     | (None, None, None, 96)  \n",
      "63    | block4b_project_bn         (BatchNormalization    ) | False     | (None, None, None, 96)  \n",
      "64    | block4b_drop               (Dropout               ) | False     | (None, None, None, 96)  \n",
      "65    | block4b_add                (Add                   ) | False     | (None, None, None, 96)  \n",
      "66    | block4c_expand_conv        (Conv2D                ) | False     | (None, None, None, 384) \n",
      "67    | block4c_expand_bn          (BatchNormalization    ) | False     | (None, None, None, 384) \n",
      "68    | block4c_expand_activation  (Activation            ) | False     | (None, None, None, 384) \n",
      "69    | block4c_dwconv2            (DepthwiseConv2D       ) | False     | (None, None, None, 384) \n",
      "70    | block4c_bn                 (BatchNormalization    ) | False     | (None, None, None, 384) \n",
      "71    | block4c_activation         (Activation            ) | False     | (None, None, None, 384) \n",
      "72    | block4c_se_squeeze         (GlobalAveragePooling2D) | False     | (None, 384)             \n",
      "73    | block4c_se_reshape         (Reshape               ) | False     | (None, 1, 1, 384)       \n",
      "74    | block4c_se_reduce          (Conv2D                ) | False     | (None, 1, 1, 24)        \n",
      "75    | block4c_se_expand          (Conv2D                ) | False     | (None, 1, 1, 384)       \n",
      "76    | block4c_se_excite          (Multiply              ) | False     | (None, None, None, 384) \n",
      "77    | block4c_project_conv       (Conv2D                ) | False     | (None, None, None, 96)  \n",
      "78    | block4c_project_bn         (BatchNormalization    ) | False     | (None, None, None, 96)  \n",
      "79    | block4c_drop               (Dropout               ) | False     | (None, None, None, 96)  \n",
      "80    | block4c_add                (Add                   ) | False     | (None, None, None, 96)  \n",
      "81    | block5a_expand_conv        (Conv2D                ) | False     | (None, None, None, 576) \n",
      "82    | block5a_expand_bn          (BatchNormalization    ) | False     | (None, None, None, 576) \n",
      "83    | block5a_expand_activation  (Activation            ) | False     | (None, None, None, 576) \n",
      "84    | block5a_dwconv2            (DepthwiseConv2D       ) | False     | (None, None, None, 576) \n",
      "85    | block5a_bn                 (BatchNormalization    ) | False     | (None, None, None, 576) \n",
      "86    | block5a_activation         (Activation            ) | False     | (None, None, None, 576) \n",
      "87    | block5a_se_squeeze         (GlobalAveragePooling2D) | False     | (None, 576)             \n",
      "88    | block5a_se_reshape         (Reshape               ) | False     | (None, 1, 1, 576)       \n",
      "89    | block5a_se_reduce          (Conv2D                ) | False     | (None, 1, 1, 24)        \n",
      "90    | block5a_se_expand          (Conv2D                ) | False     | (None, 1, 1, 576)       \n",
      "91    | block5a_se_excite          (Multiply              ) | False     | (None, None, None, 576) \n",
      "92    | block5a_project_conv       (Conv2D                ) | False     | (None, None, None, 112) \n",
      "93    | block5a_project_bn         (BatchNormalization    ) | False     | (None, None, None, 112) \n",
      "94    | block5b_expand_conv        (Conv2D                ) | False     | (None, None, None, 672) \n",
      "95    | block5b_expand_bn          (BatchNormalization    ) | False     | (None, None, None, 672) \n",
      "96    | block5b_expand_activation  (Activation            ) | False     | (None, None, None, 672) \n",
      "97    | block5b_dwconv2            (DepthwiseConv2D       ) | False     | (None, None, None, 672) \n",
      "98    | block5b_bn                 (BatchNormalization    ) | False     | (None, None, None, 672) \n",
      "99    | block5b_activation         (Activation            ) | False     | (None, None, None, 672) \n",
      "100   | block5b_se_squeeze         (GlobalAveragePooling2D) | False     | (None, 672)             \n",
      "101   | block5b_se_reshape         (Reshape               ) | False     | (None, 1, 1, 672)       \n",
      "102   | block5b_se_reduce          (Conv2D                ) | False     | (None, 1, 1, 28)        \n",
      "103   | block5b_se_expand          (Conv2D                ) | False     | (None, 1, 1, 672)       \n",
      "104   | block5b_se_excite          (Multiply              ) | False     | (None, None, None, 672) \n",
      "105   | block5b_project_conv       (Conv2D                ) | False     | (None, None, None, 112) \n",
      "106   | block5b_project_bn         (BatchNormalization    ) | False     | (None, None, None, 112) \n",
      "107   | block5b_drop               (Dropout               ) | False     | (None, None, None, 112) \n",
      "108   | block5b_add                (Add                   ) | False     | (None, None, None, 112) \n",
      "109   | block5c_expand_conv        (Conv2D                ) | False     | (None, None, None, 672) \n",
      "110   | block5c_expand_bn          (BatchNormalization    ) | False     | (None, None, None, 672) \n",
      "111   | block5c_expand_activation  (Activation            ) | False     | (None, None, None, 672) \n",
      "112   | block5c_dwconv2            (DepthwiseConv2D       ) | False     | (None, None, None, 672) \n",
      "113   | block5c_bn                 (BatchNormalization    ) | False     | (None, None, None, 672) \n",
      "114   | block5c_activation         (Activation            ) | False     | (None, None, None, 672) \n",
      "115   | block5c_se_squeeze         (GlobalAveragePooling2D) | False     | (None, 672)             \n",
      "116   | block5c_se_reshape         (Reshape               ) | False     | (None, 1, 1, 672)       \n",
      "117   | block5c_se_reduce          (Conv2D                ) | False     | (None, 1, 1, 28)        \n",
      "118   | block5c_se_expand          (Conv2D                ) | False     | (None, 1, 1, 672)       \n",
      "119   | block5c_se_excite          (Multiply              ) | False     | (None, None, None, 672) \n",
      "120   | block5c_project_conv       (Conv2D                ) | False     | (None, None, None, 112) \n",
      "121   | block5c_project_bn         (BatchNormalization    ) | False     | (None, None, None, 112) \n",
      "122   | block5c_drop               (Dropout               ) | False     | (None, None, None, 112) \n",
      "123   | block5c_add                (Add                   ) | False     | (None, None, None, 112) \n",
      "124   | block5d_expand_conv        (Conv2D                ) | False     | (None, None, None, 672) \n",
      "125   | block5d_expand_bn          (BatchNormalization    ) | False     | (None, None, None, 672) \n",
      "126   | block5d_expand_activation  (Activation            ) | False     | (None, None, None, 672) \n",
      "127   | block5d_dwconv2            (DepthwiseConv2D       ) | False     | (None, None, None, 672) \n",
      "128   | block5d_bn                 (BatchNormalization    ) | False     | (None, None, None, 672) \n",
      "129   | block5d_activation         (Activation            ) | False     | (None, None, None, 672) \n",
      "130   | block5d_se_squeeze         (GlobalAveragePooling2D) | False     | (None, 672)             \n",
      "131   | block5d_se_reshape         (Reshape               ) | False     | (None, 1, 1, 672)       \n",
      "132   | block5d_se_reduce          (Conv2D                ) | False     | (None, 1, 1, 28)        \n",
      "133   | block5d_se_expand          (Conv2D                ) | False     | (None, 1, 1, 672)       \n",
      "134   | block5d_se_excite          (Multiply              ) | False     | (None, None, None, 672) \n",
      "135   | block5d_project_conv       (Conv2D                ) | False     | (None, None, None, 112) \n",
      "136   | block5d_project_bn         (BatchNormalization    ) | False     | (None, None, None, 112) \n",
      "137   | block5d_drop               (Dropout               ) | False     | (None, None, None, 112) \n",
      "138   | block5d_add                (Add                   ) | False     | (None, None, None, 112) \n",
      "139   | block5e_expand_conv        (Conv2D                ) | False     | (None, None, None, 672) \n",
      "140   | block5e_expand_bn          (BatchNormalization    ) | False     | (None, None, None, 672) \n",
      "141   | block5e_expand_activation  (Activation            ) | False     | (None, None, None, 672) \n",
      "142   | block5e_dwconv2            (DepthwiseConv2D       ) | False     | (None, None, None, 672) \n",
      "143   | block5e_bn                 (BatchNormalization    ) | False     | (None, None, None, 672) \n",
      "144   | block5e_activation         (Activation            ) | False     | (None, None, None, 672) \n",
      "145   | block5e_se_squeeze         (GlobalAveragePooling2D) | False     | (None, 672)             \n",
      "146   | block5e_se_reshape         (Reshape               ) | False     | (None, 1, 1, 672)       \n",
      "147   | block5e_se_reduce          (Conv2D                ) | False     | (None, 1, 1, 28)        \n",
      "148   | block5e_se_expand          (Conv2D                ) | False     | (None, 1, 1, 672)       \n",
      "149   | block5e_se_excite          (Multiply              ) | False     | (None, None, None, 672) \n",
      "150   | block5e_project_conv       (Conv2D                ) | False     | (None, None, None, 112) \n",
      "151   | block5e_project_bn         (BatchNormalization    ) | False     | (None, None, None, 112) \n",
      "152   | block5e_drop               (Dropout               ) | False     | (None, None, None, 112) \n",
      "153   | block5e_add                (Add                   ) | False     | (None, None, None, 112) \n",
      "154   | block6a_expand_conv        (Conv2D                ) | False     | (None, None, None, 672) \n",
      "155   | block6a_expand_bn          (BatchNormalization    ) | False     | (None, None, None, 672) \n",
      "156   | block6a_expand_activation  (Activation            ) | False     | (None, None, None, 672) \n",
      "157   | block6a_dwconv2            (DepthwiseConv2D       ) | False     | (None, None, None, 672) \n",
      "158   | block6a_bn                 (BatchNormalization    ) | False     | (None, None, None, 672) \n",
      "159   | block6a_activation         (Activation            ) | False     | (None, None, None, 672) \n",
      "160   | block6a_se_squeeze         (GlobalAveragePooling2D) | False     | (None, 672)             \n",
      "161   | block6a_se_reshape         (Reshape               ) | False     | (None, 1, 1, 672)       \n",
      "162   | block6a_se_reduce          (Conv2D                ) | False     | (None, 1, 1, 28)        \n",
      "163   | block6a_se_expand          (Conv2D                ) | False     | (None, 1, 1, 672)       \n",
      "164   | block6a_se_excite          (Multiply              ) | False     | (None, None, None, 672) \n",
      "165   | block6a_project_conv       (Conv2D                ) | False     | (None, None, None, 192) \n",
      "166   | block6a_project_bn         (BatchNormalization    ) | False     | (None, None, None, 192) \n",
      "167   | block6b_expand_conv        (Conv2D                ) | False     | (None, None, None, 1152)\n",
      "168   | block6b_expand_bn          (BatchNormalization    ) | False     | (None, None, None, 1152)\n",
      "169   | block6b_expand_activation  (Activation            ) | False     | (None, None, None, 1152)\n",
      "170   | block6b_dwconv2            (DepthwiseConv2D       ) | False     | (None, None, None, 1152)\n",
      "171   | block6b_bn                 (BatchNormalization    ) | False     | (None, None, None, 1152)\n",
      "172   | block6b_activation         (Activation            ) | False     | (None, None, None, 1152)\n",
      "173   | block6b_se_squeeze         (GlobalAveragePooling2D) | False     | (None, 1152)            \n",
      "174   | block6b_se_reshape         (Reshape               ) | False     | (None, 1, 1, 1152)      \n",
      "175   | block6b_se_reduce          (Conv2D                ) | False     | (None, 1, 1, 48)        \n",
      "176   | block6b_se_expand          (Conv2D                ) | False     | (None, 1, 1, 1152)      \n",
      "177   | block6b_se_excite          (Multiply              ) | False     | (None, None, None, 1152)\n",
      "178   | block6b_project_conv       (Conv2D                ) | False     | (None, None, None, 192) \n",
      "179   | block6b_project_bn         (BatchNormalization    ) | False     | (None, None, None, 192) \n",
      "180   | block6b_drop               (Dropout               ) | False     | (None, None, None, 192) \n",
      "181   | block6b_add                (Add                   ) | False     | (None, None, None, 192) \n",
      "182   | block6c_expand_conv        (Conv2D                ) | False     | (None, None, None, 1152)\n",
      "183   | block6c_expand_bn          (BatchNormalization    ) | False     | (None, None, None, 1152)\n",
      "184   | block6c_expand_activation  (Activation            ) | False     | (None, None, None, 1152)\n",
      "185   | block6c_dwconv2            (DepthwiseConv2D       ) | False     | (None, None, None, 1152)\n",
      "186   | block6c_bn                 (BatchNormalization    ) | False     | (None, None, None, 1152)\n",
      "187   | block6c_activation         (Activation            ) | False     | (None, None, None, 1152)\n",
      "188   | block6c_se_squeeze         (GlobalAveragePooling2D) | False     | (None, 1152)            \n",
      "189   | block6c_se_reshape         (Reshape               ) | False     | (None, 1, 1, 1152)      \n",
      "190   | block6c_se_reduce          (Conv2D                ) | False     | (None, 1, 1, 48)        \n",
      "191   | block6c_se_expand          (Conv2D                ) | False     | (None, 1, 1, 1152)      \n",
      "192   | block6c_se_excite          (Multiply              ) | False     | (None, None, None, 1152)\n",
      "193   | block6c_project_conv       (Conv2D                ) | False     | (None, None, None, 192) \n",
      "194   | block6c_project_bn         (BatchNormalization    ) | False     | (None, None, None, 192) \n",
      "195   | block6c_drop               (Dropout               ) | False     | (None, None, None, 192) \n",
      "196   | block6c_add                (Add                   ) | False     | (None, None, None, 192) \n",
      "197   | block6d_expand_conv        (Conv2D                ) | False     | (None, None, None, 1152)\n",
      "198   | block6d_expand_bn          (BatchNormalization    ) | False     | (None, None, None, 1152)\n",
      "199   | block6d_expand_activation  (Activation            ) | False     | (None, None, None, 1152)\n",
      "200   | block6d_dwconv2            (DepthwiseConv2D       ) | False     | (None, None, None, 1152)\n",
      "201   | block6d_bn                 (BatchNormalization    ) | False     | (None, None, None, 1152)\n",
      "202   | block6d_activation         (Activation            ) | False     | (None, None, None, 1152)\n",
      "203   | block6d_se_squeeze         (GlobalAveragePooling2D) | False     | (None, 1152)            \n",
      "204   | block6d_se_reshape         (Reshape               ) | False     | (None, 1, 1, 1152)      \n",
      "205   | block6d_se_reduce          (Conv2D                ) | False     | (None, 1, 1, 48)        \n",
      "206   | block6d_se_expand          (Conv2D                ) | False     | (None, 1, 1, 1152)      \n",
      "207   | block6d_se_excite          (Multiply              ) | False     | (None, None, None, 1152)\n",
      "208   | block6d_project_conv       (Conv2D                ) | False     | (None, None, None, 192) \n",
      "209   | block6d_project_bn         (BatchNormalization    ) | False     | (None, None, None, 192) \n",
      "210   | block6d_drop               (Dropout               ) | False     | (None, None, None, 192) \n",
      "211   | block6d_add                (Add                   ) | False     | (None, None, None, 192) \n",
      "212   | block6e_expand_conv        (Conv2D                ) | False     | (None, None, None, 1152)\n",
      "213   | block6e_expand_bn          (BatchNormalization    ) | False     | (None, None, None, 1152)\n",
      "214   | block6e_expand_activation  (Activation            ) | False     | (None, None, None, 1152)\n",
      "215   | block6e_dwconv2            (DepthwiseConv2D       ) | False     | (None, None, None, 1152)\n",
      "216   | block6e_bn                 (BatchNormalization    ) | False     | (None, None, None, 1152)\n",
      "217   | block6e_activation         (Activation            ) | False     | (None, None, None, 1152)\n",
      "218   | block6e_se_squeeze         (GlobalAveragePooling2D) | False     | (None, 1152)            \n",
      "219   | block6e_se_reshape         (Reshape               ) | False     | (None, 1, 1, 1152)      \n",
      "220   | block6e_se_reduce          (Conv2D                ) | False     | (None, 1, 1, 48)        \n",
      "221   | block6e_se_expand          (Conv2D                ) | False     | (None, 1, 1, 1152)      \n",
      "222   | block6e_se_excite          (Multiply              ) | False     | (None, None, None, 1152)\n",
      "223   | block6e_project_conv       (Conv2D                ) | False     | (None, None, None, 192) \n",
      "224   | block6e_project_bn         (BatchNormalization    ) | False     | (None, None, None, 192) \n",
      "225   | block6e_drop               (Dropout               ) | False     | (None, None, None, 192) \n",
      "226   | block6e_add                (Add                   ) | False     | (None, None, None, 192) \n",
      "227   | block6f_expand_conv        (Conv2D                ) | False     | (None, None, None, 1152)\n",
      "228   | block6f_expand_bn          (BatchNormalization    ) | False     | (None, None, None, 1152)\n",
      "229   | block6f_expand_activation  (Activation            ) | False     | (None, None, None, 1152)\n",
      "230   | block6f_dwconv2            (DepthwiseConv2D       ) | False     | (None, None, None, 1152)\n",
      "231   | block6f_bn                 (BatchNormalization    ) | False     | (None, None, None, 1152)\n",
      "232   | block6f_activation         (Activation            ) | False     | (None, None, None, 1152)\n",
      "233   | block6f_se_squeeze         (GlobalAveragePooling2D) | False     | (None, 1152)            \n",
      "234   | block6f_se_reshape         (Reshape               ) | False     | (None, 1, 1, 1152)      \n",
      "235   | block6f_se_reduce          (Conv2D                ) | False     | (None, 1, 1, 48)        \n",
      "236   | block6f_se_expand          (Conv2D                ) | False     | (None, 1, 1, 1152)      \n",
      "237   | block6f_se_excite          (Multiply              ) | False     | (None, None, None, 1152)\n",
      "238   | block6f_project_conv       (Conv2D                ) | False     | (None, None, None, 192) \n",
      "239   | block6f_project_bn         (BatchNormalization    ) | False     | (None, None, None, 192) \n",
      "240   | block6f_drop               (Dropout               ) | False     | (None, None, None, 192) \n",
      "241   | block6f_add                (Add                   ) | False     | (None, None, None, 192) \n",
      "242   | block6g_expand_conv        (Conv2D                ) | False     | (None, None, None, 1152)\n",
      "243   | block6g_expand_bn          (BatchNormalization    ) | False     | (None, None, None, 1152)\n",
      "244   | block6g_expand_activation  (Activation            ) | False     | (None, None, None, 1152)\n",
      "245   | block6g_dwconv2            (DepthwiseConv2D       ) | False     | (None, None, None, 1152)\n",
      "246   | block6g_bn                 (BatchNormalization    ) | False     | (None, None, None, 1152)\n",
      "247   | block6g_activation         (Activation            ) | False     | (None, None, None, 1152)\n",
      "248   | block6g_se_squeeze         (GlobalAveragePooling2D) | False     | (None, 1152)            \n",
      "249   | block6g_se_reshape         (Reshape               ) | False     | (None, 1, 1, 1152)      \n",
      "250   | block6g_se_reduce          (Conv2D                ) | False     | (None, 1, 1, 48)        \n",
      "251   | block6g_se_expand          (Conv2D                ) | False     | (None, 1, 1, 1152)      \n",
      "252   | block6g_se_excite          (Multiply              ) | False     | (None, None, None, 1152)\n",
      "253   | block6g_project_conv       (Conv2D                ) | False     | (None, None, None, 192) \n",
      "254   | block6g_project_bn         (BatchNormalization    ) | False     | (None, None, None, 192) \n",
      "255   | block6g_drop               (Dropout               ) | False     | (None, None, None, 192) \n",
      "256   | block6g_add                (Add                   ) | False     | (None, None, None, 192) \n",
      "257   | block6h_expand_conv        (Conv2D                ) | False     | (None, None, None, 1152)\n",
      "258   | block6h_expand_bn          (BatchNormalization    ) | False     | (None, None, None, 1152)\n",
      "259   | block6h_expand_activation  (Activation            ) | False     | (None, None, None, 1152)\n",
      "260   | block6h_dwconv2            (DepthwiseConv2D       ) | False     | (None, None, None, 1152)\n",
      "261   | block6h_bn                 (BatchNormalization    ) | False     | (None, None, None, 1152)\n",
      "262   | block6h_activation         (Activation            ) | False     | (None, None, None, 1152)\n",
      "263   | block6h_se_squeeze         (GlobalAveragePooling2D) | False     | (None, 1152)            \n",
      "264   | block6h_se_reshape         (Reshape               ) | False     | (None, 1, 1, 1152)      \n",
      "265   | block6h_se_reduce          (Conv2D                ) | False     | (None, 1, 1, 48)        \n",
      "266   | block6h_se_expand          (Conv2D                ) | False     | (None, 1, 1, 1152)      \n",
      "267   | block6h_se_excite          (Multiply              ) | True      | (None, None, None, 1152)\n",
      "268   | block6h_project_conv       (Conv2D                ) | True      | (None, None, None, 192) \n",
      "269   | block6h_project_bn         (BatchNormalization    ) | True      | (None, None, None, 192) \n",
      "270   | block6h_drop               (Dropout               ) | True      | (None, None, None, 192) \n",
      "271   | block6h_add                (Add                   ) | True      | (None, None, None, 192) \n",
      "272   | top_conv                   (Conv2D                ) | True      | (None, None, None, 1280)\n",
      "273   | top_bn                     (BatchNormalization    ) | True      | (None, None, None, 1280)\n",
      "274   | top_activation             (Activation            ) | True      | (None, None, None, 1280)\n",
      "275   | global_average_pooling     (GlobalAveragePooling2D) | True      | (None, 1280)            \n",
      "276   | output_layer               (Dense                 ) | True      | (None, 10)              \n"
     ]
    }
   ],
   "source": [
    "# 12. List all base layers and check if first 10 and last 10 are trainable\n",
    "mll.list_model(model=loaded_model)"
   ],
   "metadata": {
    "collapsed": false,
    "ExecuteTime": {
     "end_time": "2023-05-23T19:40:15.849034Z",
     "start_time": "2023-05-23T19:40:15.781114Z"
    }
   }
  },
  {
   "cell_type": "code",
   "execution_count": null,
   "outputs": [],
   "source": [],
   "metadata": {
    "collapsed": false
   }
  }
 ],
 "metadata": {
  "kernelspec": {
   "display_name": "Python 3",
   "language": "python",
   "name": "python3"
  },
  "language_info": {
   "codemirror_mode": {
    "name": "ipython",
    "version": 2
   },
   "file_extension": ".py",
   "mimetype": "text/x-python",
   "name": "python",
   "nbconvert_exporter": "python",
   "pygments_lexer": "ipython2",
   "version": "2.7.6"
  }
 },
 "nbformat": 4,
 "nbformat_minor": 0
}
